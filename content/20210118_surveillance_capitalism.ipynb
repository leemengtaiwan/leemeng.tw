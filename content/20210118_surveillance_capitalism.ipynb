{
 "cells": [
  {
   "cell_type": "markdown",
   "metadata": {
    "colab_type": "text",
    "id": "pV6LgvcVUPOG"
   },
   "source": [
    "- author: Lee Meng\n",
    "- date: 2021-01-25 19:00\n",
    "- title: 監控資本主義時代下的資料科學、AI 與你我的數位未來\n",
    "- slug: data-science-ai-and-our-digital-future-in-the-age-of-surveillance-capitalism\n",
    "- tags: 監控資本主義, 資料科學, 人工智慧, 深度學習, 推薦系統\n",
    "- description: 這是一篇講述監控資本主義的驚悚輕小說與科普文。處在數位時代的每個人都需要了解谷歌、臉書與推特等科技巨頭如何形塑我們的數位現實以及其背後運作的商業邏輯與經濟誘因。文中也會清晰地呈現資料科學與監控資本主義之間的緊密關係。閱讀完本文的讀者將能重新找回數位時代中最重要的注意力並專注在真正重要的事情。\n",
    "- summary: 這是一篇講述監控資本主義的驚悚輕小說與科普文。處在數位時代的每個人都需要了解谷歌、臉書與推特等科技巨頭如何形塑我們的數位現實以及其背後運作的商業邏輯與經濟誘因。文中也會清晰地呈現資料科學與監控資本主義之間的緊密關係。閱讀完本文的讀者將能重新找回數位時代中最重要的注意力並專注在真正重要的事情。\n",
    "- image: maxim-hopman-IayKLkmz6g0-unsplash.jpg"
   ]
  },
  {
   "cell_type": "markdown",
   "metadata": {},
   "source": [
    "!quote\n",
    "- 監控資本主義在 21 世紀主導資料科學以及 AI 的發展方向，並持續往大多數人不樂見的方向邁進。只有在大眾能夠認知到並理解其商業邏輯，我們才能透過集體意識去改善每個人的數位未來。\n",
    "- 1 分鐘懶人包"
   ]
  },
  {
   "cell_type": "markdown",
   "metadata": {},
   "source": [
    "這是本文最想傳達的訊息。因為資訊量龐大，如果你現在還無法消化也沒有關係。閱讀完本文，你將能夠了解在背後驅使數位世界光速運轉的商業邏輯，並用一個可說是駭人卻又無比清晰的視角理解自己正身處在一個怎麼樣的數位時代。"
   ]
  },
  {
   "cell_type": "markdown",
   "metadata": {},
   "source": [
    "## 引言"
   ]
  },
  {
   "cell_type": "markdown",
   "metadata": {},
   "source": [
    "2018 年 5 月，我在[揭開資料科學的神秘面紗](https://leemeng.tw/demystify-the-hype-of-data-science-and-its-value.html)中粗略地說明過為何[注意力經濟（Attention Economy）](https://zh.wikipedia.org/wiki/%E6%B3%A8%E6%84%8F%E5%8A%9B%E7%B6%93%E6%BF%9F)促使近年大數據、資料科學以及人工智慧的蓬勃發展。注意力經濟將人類的注意力視為資訊過載時代下最寶貴的資源，而[谷歌（Google）](https://www.google.com/)與[臉書（Facebook）](https://www.facebook.com/)在一般使用者不知情或是沒有明確允許的情況下貪婪地蒐集、累積、分析進而預測其[廣告點擊](https://wiki.mbalib.com/zh-tw/%E5%B9%BF%E5%91%8A%E7%82%B9%E5%87%BB%E7%8E%87)行為。他們想盡辦法使你我對其服務上癮，以將我們有限的注意力榨取成龐大的商業利益。\n",
    "\n",
    "長年下來，越來越多人注意到「免費」的代價並看到此經濟邏輯的可怕之處，不少專家則開始將此經濟邏輯與商業模式稱之為[監控資本主義（Surveillance Capitalism）](https://en.wikipedia.org/wiki/Surveillance_capitalism)。"
   ]
  },
  {
   "cell_type": "markdown",
   "metadata": {},
   "source": [
    "!image\n",
    "- 監控資本主義/數位服務與社群網站.png\n",
    "- 現下熱門的數位服務與社群媒體，每天佔用了你多少注意力與時間？"
   ]
  },
  {
   "cell_type": "markdown",
   "metadata": {},
   "source": [
    "今天我想用簡單的經濟學、心理學與資料科學的角度帶你理解其背後的運作原理以及其對人類社會帶來的負面影響。"
   ]
  },
  {
   "cell_type": "markdown",
   "metadata": {},
   "source": [
    "## 本文章節安排"
   ]
  },
  {
   "cell_type": "code",
   "execution_count": null,
   "metadata": {},
   "outputs": [],
   "source": [
    "#ignore\n",
    "- 確保發布時所有章節跟連結都 work\n",
    "- 加入各個世界事件的 bbc 連結"
   ]
  },
  {
   "cell_type": "markdown",
   "metadata": {},
   "source": [
    "儘管其商業模式早就統治了我們的世界，關於監控資本主義的結構性描述一直要等待哈佛商學院榮譽教授[肖莎娜・祖博夫（Shoshana Zuboff）\n",
    "](https://en.wikipedia.org/wiki/Shoshana_Zuboff) 的[《監控資本主義時代》（後簡稱為《監控》）](https://shoshanazuboff.com/book/about/)出版後才比較被一般大眾所知。此書也[名列歐巴馬在 2019 年最愛的書籍之一](https://twitter.com/BarackObama/status/1211033245812441091?s=20)。\n",
    "\n",
    "我在第一章會先以知名的臉書為例，簡述科技公司現在是如何監控我們的數位行為。接著，我將花 2 個章節跟你一起拿著祖博夫的放大鏡，用經濟學以及心理學直觀地理解監控資本主義的起源以及運作邏輯。然後我們會用[資料科學 （Data Science）](https://zh.wikipedia.org/zh-tw/%E6%95%B0%E6%8D%AE%E7%A7%91%E5%AD%A6)的視角來理解監控科技是如何被實現的。你將清楚地了解監控資本主義的商業邏輯是如何跟資料科學緊密耦合的。"
   ]
  },
  {
   "cell_type": "markdown",
   "metadata": {},
   "source": [
    "!image\n",
    "- 監控資本主義/個資風暴_數位行為.jpg\n",
    "- 你我的數位行為一直都被蒐集與監控\n",
    "- https://www.youtube.com/watch?v=qRQEXmg3RaE\n",
    "- 《個資風暴：劍橋分析事件》（圖片使用已獲同意）"
   ]
  },
  {
   "cell_type": "markdown",
   "metadata": {},
   "source": [
    "閱讀完本文，你將能用更全面的視角思考這些大哉問：\n",
    "- 為何社群網站助長了 [2021 美國國會騷亂](https://www.bbc.com/zhongwen/trad/world-55565454)？\n",
    "- 推特是否有權[關閉美國總統川普帳號](https://www.bbc.com/zhongwen/trad/world-55639767)？\n",
    "- 為何[蘋果新的隱私權條款讓臉書大跳腳](https://www.cna.com.tw/news/ait/202012170127.aspx)？\n",
    "\n",
    "為了讓你更輕鬆地掌握本文架構，我也附上各章節的傳送門（你也可以點擊左側導覽圖例）：\n",
    "\n",
    "- [第一章 進入臉書監控你我的時代](#第一章-進入臉書監控你我的時代)\n",
    "- [第二章 以用戶出發的資訊服務：行為價值再投資循環](#第二章-以用戶出發的資訊服務：行為價值再投資循環)\n",
    "- [第三章 使用者淪為屍塊：發現並汲取大規模行為剩餘](#第三章-使用者淪為屍塊：發現並汲取大規模行為剩餘)\n",
    "- [第四章 數據神父手中的演算法與資料結構是生產手段](#第四章-數據神父手中的演算法與資料結構是生產手段)\n",
    "- [最終章 21 世紀第 3 個十年的認知革命](#最終章-21-世紀第-3-個十年的認知革命_1)\n",
    "\n",
    "建議依序閱讀。"
   ]
  },
  {
   "cell_type": "markdown",
   "metadata": {},
   "source": [
    "!image\n",
    "- 監控資本主義/peter-miranda-fTw24pNs21w-unsplash.jpg\n",
    "- 暫時封印手機並以桌筆電閱讀本文或許能幫助你集中注意力"
   ]
  },
  {
   "cell_type": "markdown",
   "metadata": {},
   "source": [
    "在了解監控資本主義及其利弊後（劇透：長遠的弊遠大於利），我在最終章則會說明你能做些什麼來讓自己身處的數位環境變得更好。在繼續閱讀之前，我想給你個「自我數位專注挑戰」：看你能不能在將本文閱讀完以前都不做以下行為：\n",
    "- 不點開任何 App 送給你的通知\n",
    "- 不回覆任何電子郵件以及訊息\n",
    "- 不滑臉書、推特、IG 和 YouTube（除了文中嵌入的影片）\n",
    "\n",
    "我得承認這在現代非常不易做到。如果當前的客觀環境不允許，把本文存入書籤或 [Pocket](https://app.getpocket.com/) 並為自己找個能在 30 分鐘內專注閱讀並思考的地點與時間吧！閱讀完本文並完成挑戰的你將會發現，從中獲益最多的人將是自己。"
   ]
  },
  {
   "cell_type": "markdown",
   "metadata": {},
   "source": [
    "## 第一章 進入臉書監控你我的時代"
   ]
  },
  {
   "cell_type": "markdown",
   "metadata": {},
   "source": [
    "前陣子我在 [Dcard](https://www.dcard.tw/f) 的一個分享會上問了台下的聽眾一個簡單的問題："
   ]
  },
  {
   "cell_type": "markdown",
   "metadata": {},
   "source": [
    "!quote\n",
    "- 有多少人有這樣的經驗：在滑臉書時跳出了某個「準」到不行、燒到你的廣告，讓你相信臉書正在「監視」你的瀏覽網頁與朋友的聊天記錄或是「監聽」你的麥克風？"
   ]
  },
  {
   "cell_type": "markdown",
   "metadata": {},
   "source": [
    "毫不意外地，幾乎所有人都舉了手。大家都能想像臉書、谷歌與[推特（Twitter）](https://twitter.com/)等科技公司的廣告以及內容[推薦系統（Recommender system, 在後面章節我們會討論它）](https://zh.wikipedia.org/wiki/%E6%8E%A8%E8%96%A6%E7%B3%BB%E7%B5%B1)在螢幕的另一頭「監控」著我們數位足跡的事實。\n",
    "\n",
    "第一次是我在使用 [Messenger](https://www.messenger.com/) 時無意間跟朋友提到「奶粉」，接著大腦就被硬生生地植入一個自己從沒聽過、這輩子估計也不會曉得的奶粉商的廣告，無力抵抗。對廣告麻木的人可能覺得「只是個廣告，大驚小怪」。但這實際隱含的是：臉書可以在用戶不知情或是不情願的情況下，透過蒐集其行為數據來預測並**改變**用戶對世界的認知。改變了認知，就能在你我沒有意識到的情況下操弄我們的行為，使得我們的「行為」符合他們與廣告商承諾的「保證結果」：使用者點擊（clicks）。\n",
    "\n",
    "如果你到現在還不清楚臉書及谷歌是如何實現廣告追蹤的，可以看看 [Vox](https://zh.wikipedia.org/wiki/Vox) 與發明 \n",
    "[Cookie](https://zh.wikipedia.org/zh-tw/Cookie) 的[盧・蒙特利](https://zh.wikipedia.org/wiki/%E7%9B%A7%C2%B7%E8%92%99%E7%89%B9%E5%88%A9)的訪談影片："
   ]
  },
  {
   "cell_type": "markdown",
   "metadata": {},
   "source": [
    "!youtube\n",
    "- HFyaW50GFOs\n",
    "- 臉書以及谷歌如何透過第三方 Cookies 監控並使得商家廣告能無時無刻地追蹤你我"
   ]
  },
  {
   "cell_type": "markdown",
   "metadata": {},
   "source": [
    "順帶一提，你可以透過鮮為人知的 [Facebook 站外動態](https://www.facebook.com/off_facebook_activity)功能查看臉書透過上述影片的方法（即 [Facebook 像素](https://www.facebook.com/business/help/952192354843755?id=1205376682832142&ref=fbb_retargeting)）從網路蒐集到的**你的**行為。資料顯示，臉書目前已經從 235 個應用程式以及網站蒐集到我的數位行為以進行[再行銷（retargeting）](https://www.facebook.com/business/goals/retargeting)：將我曾拜訪過的網站的產品在我下次「免費」滑臉書時透過其競標系統推出我的「個人化」廣告以誘使我點擊。"
   ]
  },
  {
   "cell_type": "markdown",
   "metadata": {},
   "source": [
    "[截至 2020 年 10 月為止，臉書的每日用戶數達到 18.2 億人](https://www.ithome.com.tw/news/140848)，意味著每一天全球都會有 24％ 的人口造訪臉書並接受臉書為他們精心打造的「個人化」貼文與廣告。這可是人類歷史上最成功的實時監控系統之一，也超越任何[極權主義](https://zh.wikipedia.org/wiki/%E6%9E%81%E6%9D%83%E4%B8%BB%E4%B9%89%E7%9A%84%E8%B5%B7%E6%BA%90)家的瘋狂夢想。\n",
    "\n",
    "事實上，祖博夫在《監控》裡就表示，這些私營科技公司跟被稱為[數位極權主義](https://opinion.cw.com.tw/blog/profile/390/article/9763)的中國信用系統的差別，只在於前者是以經濟取向發展監控科技，後者則是為了政治權力。很多人忘了這些科技公司存在這世上的最大目的**始終都是最大化[股東價值](https://en.wikipedia.org/wiki/Shareholder_value)**，而不是優化你我的心理健康、減少假新聞傳播、避免社會分裂或是確保民主價值。"
   ]
  },
  {
   "cell_type": "markdown",
   "metadata": {},
   "source": [
    "!image\n",
    "- 監控資本主義/監控資本主義時代_個資風暴_智能社會.png\n",
    "- 《監控資本主義時代》與 2 部討論相關主題的 Netflix 紀錄片"
   ]
  },
  {
   "cell_type": "markdown",
   "metadata": {},
   "source": [
    "在對一般民眾說明時，臉書與谷歌等科技公司一直以來都將「監控」解釋為科技發展下的必然結果以及實現[個人化（personalization）](https://en.wikipedia.org/wiki/Personalization)的必要之惡（或是否認有這回事）。但近年越來越多的用戶意識到了矛盾：一方面確實感受到這些服務帶給自己的便利之處，另一方面則持續感受到自己的隱私受到侵犯以及無可自拔的科技上癮。"
   ]
  },
  {
   "cell_type": "markdown",
   "metadata": {},
   "source": [
    "!quote\n",
    "- 全世界只有兩種產業把客戶稱為「使用者」，一個是毒品，一個是軟體。\n",
    "- 統計學家 愛德華塔夫特"
   ]
  },
  {
   "cell_type": "markdown",
   "metadata": {},
   "source": [
    "Netflix 劇情紀錄片[《智能社會：進退兩難》（The Social Dilemma）](https://www.youtube.com/watch?v=uaaC57tcci0&ab_channel=Netflix)生動地描述了這樣的情境。透過對自己親手打造的產物敲響警鐘的科技專家，該片探究了社群媒體的危險人為影響，如[陰謀論](https://zh.wikipedia.org/wiki/%E9%99%B0%E8%AC%80%E8%AB%96)的廣泛傳播、青少年心理健康議題以及[政治極化](https://en.wikipedia.org/wiki/Political_polarization)。\n",
    "\n",
    "另一部紀錄片[《個資風暴：劍橋分析事件》（The Great Hack）](https://www.youtube.com/watch?v=qRQEXmg3RaE)則探究名為[劍橋分析](https://zh.wikipedia.org/wiki/%E5%8A%8D%E6%A9%8B%E5%88%86%E6%9E%90%E5%85%AC%E5%8F%B8)的數據公司如何不當地取得 5000 萬名臉書使用者的個資（超過全台灣人口的 2 倍）並在 [2016 年美國總統選舉](https://zh.wikipedia.org/wiki/2016%E5%B9%B4%E7%BE%8E%E5%9C%8B%E7%B8%BD%E7%B5%B1%E9%81%B8%E8%88%89)後成為社群媒體黑暗面的象徵。"
   ]
  },
  {
   "cell_type": "markdown",
   "metadata": {},
   "source": [
    "接下來的章節在探討監控資本主義時會以《監控》一書的內容為主，上述紀錄片的內容為輔（本文截圖之使用已獲 Netflix 同意）。想保留觀影新鮮感的讀者可以先去觀看這兩部紀錄片再回來閱讀本文（好啦，你可以重新開始專注挑戰）。"
   ]
  },
  {
   "cell_type": "markdown",
   "metadata": {},
   "source": [
    "## 第二章 以用戶出發的資訊服務：行為價值再投資循環"
   ]
  },
  {
   "cell_type": "markdown",
   "metadata": {},
   "source": [
    "文章開頭我以臉書作為當代監控資本家的一個例子，不過事實上依照《監控》一書的描述，谷歌才是監控資本主義的先驅。谷歌之於監控資本主義，如同一百年前的[福特汽車](https://zh.wikipedia.org/wiki/%E7%A6%8F%E7%89%B9%E6%B1%BD%E8%BD%A6)或[通用汽車](https://zh.wikipedia.org/wiki/%E9%80%9A%E7%94%A8%E6%B1%BD%E8%BD%A6)之於工業資本主義。\n",
    "\n",
    "為了更好地理解監控資本主義，讓我們先把時針倒回到距今超過 20 年前的 1998 年，也就是谷歌成立的那一年。\n",
    "\n",
    "在谷歌成立時已經有 [Mosaic](https://zh.wikipedia.org/wiki/Mosaic) 等瀏覽器讓所有電腦使用者都能連上[全球資訊網](https://zh.wikipedia.org/wiki/%E4%B8%87%E7%BB%B4%E7%BD%91)。最初，谷歌也實踐了**資訊**資本主義的承諾，提供免費的線上搜尋服務讓大眾搜尋數位資訊。憑藉著卓越的[搜尋引擎（Search Engine）](https://zh.wikipedia.org/wiki/%E7%BD%91%E7%BB%9C%E6%90%9C%E7%B4%A2%E5%BC%95%E6%93%8E)，谷歌搜尋的使用者越來越多。僅僅不到一年，谷歌的搜尋引擎就得每天處理 700 萬筆搜尋指令，這些搜尋指令也是使用者與系統互動的主要方式。"
   ]
  },
  {
   "cell_type": "markdown",
   "metadata": {},
   "source": [
    "!quote\n",
    "- 每位用戶的每個行動，都視為可進行分析並再次投進系統中的信號。\n",
    "- 范里安, 谷歌首席經濟學家"
   ]
  },
  {
   "cell_type": "markdown",
   "metadata": {},
   "source": [
    "但之後讓谷歌跟其他搜尋服務競爭者拉開距離的，是谷歌工程師將自家的搜尋引擎轉變成一個能持續學習的遞迴系統。他們透過「使用者與系統互動所產生的行為副產品」來持續改善搜尋結果並刺激產品創新：拼字檢查、翻譯以及語音辨識。\n",
    "\n",
    "有些人也把「行為副產品」稱作數據廢氣（Data Exhaust），也就是谷歌搜尋指令的附帶數據，比方說搜尋詞彙的拼字、停留時間、點擊模式以及地點。谷歌發現，這些儲存在數據緩存內的行為副產品能用來「回推」出每位使用者的思想、感受以及興趣。被譽為「谷歌經濟學的[亞當・斯密](https://zh.wikipedia.org/wiki/%E4%BA%9A%E5%BD%93%C2%B7%E6%96%AF%E5%AF%86)」的[哈爾・范里安](https://zh.wikipedia.org/wiki/%E5%93%88%E5%B0%94%C2%B7%E8%8C%83%E9%87%8C%E5%AE%89)則表示這是[逆向工程（reverse engineering）](https://zh.wikipedia.org/zh-tw/%E9%80%86%E5%90%91%E5%B7%A5%E7%A8%8B)：從使用者的行為數據回推他或她的意圖，提供更相關的搜尋結果。"
   ]
  },
  {
   "cell_type": "markdown",
   "metadata": {},
   "source": [
    "!mp4\n",
    "- dark\n",
    "- images/監控資本主義/行為價值再投資循環.mp4\n",
    "- images/監控資本主義/行為價值再投資循環.jpeg\n",
    "- 《監控》：行為價值再投資循環"
   ]
  },
  {
   "cell_type": "markdown",
   "metadata": {},
   "source": [
    "在谷歌搜尋引擎發展的初期，其使用者無意間提供的珍貴行為數據，**全部**都被谷歌拿來提昇服務品質並「全然」回饋給使用者，比方說提升搜尋的精確度與相關性。《監控》作者祖博夫將這種**從用戶出發**的循環稱之為行為價值再投資循環（Behavioral Value Reinvestment Cycle）：行為數據中隱含的價值經過再投資後被用來提升產品或服務品質。"
   ]
  },
  {
   "cell_type": "markdown",
   "metadata": {},
   "source": [
    "在這個循環裡頭，谷歌跟使用者互相需要，達到一種力量平衡：\n",
    "- 用戶需要「使用」谷歌的優秀搜尋功能完成知識獲取的需求\n",
    "- 谷歌需要「消耗」用戶創造的價值來改善產品，而該價值可從用戶的行為副產品中汲取\n",
    "\n",
    "群眾被視為企業營運的唯一目的，跟谷歌使命：「彙整全球資訊，供大眾使用，使人人受惠。」的宗旨完美契合。"
   ]
  },
  {
   "cell_type": "markdown",
   "metadata": {},
   "source": [
    "!image\n",
    "- dark\n",
    "- 監控資本主義/谷歌_降低資訊取得門檻.jpg\n",
    "- 谷歌：我們的搜尋原則\n",
    "- https://www.google.com/intl/zh-TW/search/howsearchworks/mission/"
   ]
  },
  {
   "cell_type": "markdown",
   "metadata": {},
   "source": [
    "當初一切看來都是那麼地美好，令人莞爾。\n",
    "\n",
    "但如果你是當初在 1999 年投資谷歌並急著想要回本的矽谷創投企業家，可能就笑不出來了。因為值得聲明的是谷歌的這個循環還不是你在[下個章節](#第三章-使用者淪為屍塊：發現並汲取大規模行為剩餘)會看到的監控資本主義，甚至不是你在大一經濟學碰過的[資本主義（Capitalism）](https://zh.wikipedia.org/wiki/%E8%B5%84%E6%9C%AC%E4%B8%BB%E4%B9%89)。谷歌搜尋引擎的這個行為價值再投資循環並無法將資金轉為收益。"
   ]
  },
  {
   "cell_type": "markdown",
   "metadata": {},
   "source": [
    "!quote\n",
    "- 資本主義是一齣由每一個投資者、員工、企業家、消費者攜手演出的一場毫無是非道德之分的鬧劇。\n",
    "- 《矽谷潑猴》"
   ]
  },
  {
   "cell_type": "markdown",
   "metadata": {},
   "source": [
    "雖然此循環概念是效仿之前[蘋果（Apple Inc.）](https://zh.wikipedia.org/wiki/%E8%98%8B%E6%9E%9C%E5%85%AC%E5%8F%B8)大紅大紫的 [iPod](https://zh.wikipedia.org/wiki/IPod) 而來，谷歌並不像蘋果那樣具有 iPod 或數位歌曲。沒有利潤、沒有盈餘，完全沒有可銷售並轉換成收益的「實體商品」。\n",
    "\n",
    "在谷歌與使用者之間完美的力量平衡下，向使用者收費會帶來極高財務風險，而在未付費的情況下把谷歌的[網路爬蟲（web crawler）](https://zh.wikipedia.org/wiki/%E7%B6%B2%E8%B7%AF%E7%88%AC%E8%9F%B2)從他人手中取來的索引資訊貼上價格也是非常危險的先例。"
   ]
  },
  {
   "cell_type": "markdown",
   "metadata": {},
   "source": [
    "!image\n",
    "- 監控資本主義/進擊的巨人_大地惡魔.jpg"
   ]
  },
  {
   "cell_type": "markdown",
   "metadata": {},
   "source": [
    "在心急的矽谷創投給的壓力、2000 年網路泡沫化的雙重夾擊之下，谷歌終於不得不宣告例外狀態（state of exception），擁抱當初被其貶為最低階業務的廣告。當時由 7 名員工組成的迷你 [AdWords](https://zh.wikipedia.org/wiki/Google_Ads) 團隊最重要的使命，就是得想辦法用廣告讓公司獲利。\n",
    "\n",
    "有點出戲，但當年谷歌對廣告態度的劇烈轉變總是讓我聯想到在[《進擊的巨人》](https://zh.wikipedia.org/wiki/%E9%80%B2%E6%93%8A%E7%9A%84%E5%B7%A8%E4%BA%BA)中與惡魔簽下契約的那名少女。其後世代代掌握強大的惡魔之力，在受眾人崇拜的同時遭人厭惡。其巨大的影響力也將引領人類走向不明的未來。"
   ]
  },
  {
   "cell_type": "markdown",
   "metadata": {},
   "source": [
    "## 第三章 使用者淪為屍塊：發現並汲取大規模行為剩餘"
   ]
  },
  {
   "cell_type": "markdown",
   "metadata": {},
   "source": [
    "為了減輕投資者們的焦慮，谷歌宣告例外狀態以擁抱廣告。但該怎麼說服成千上萬名用戶呢？\n",
    "\n",
    "為了向大眾合理化新的商業操作，谷歌創辦人[賴利歐・佩吉（Larry Page）](https://zh.wikipedia.org/wiki/%E6%8B%89%E9%87%8C%C2%B7%E4%BD%A9%E5%A5%87)決定不走當年盛行的廣告關鍵字模式，堅持廣告商不能干預關鍵字的選擇：谷歌會替他們選擇關鍵字。谷歌向大眾表示會利用蒐集到的大量數據、運算能力以及科技專長確保如果「搜尋時顯示了廣告」，這些廣告也會保證跟「下搜尋指令的使用者相關」。"
   ]
  },
  {
   "cell_type": "markdown",
   "metadata": {},
   "source": [
    "!image\n",
    "- dark\n",
    "- 監控資本主義/google_ads.jpg\n",
    "- Google Ads 即為當年的 Google AdWords\n",
    "- https://ads.google.com/intl/zh_TW/home/"
   ]
  },
  {
   "cell_type": "markdown",
   "metadata": {},
   "source": [
    "換句話說，這意味著谷歌會將特定廣告「對準」特定用戶，而不是讓廣告跟使用者搜尋指令中特定的關鍵字相連。秉持這項原則，谷歌宣稱可以兼顧所有人的顧慮：\n",
    "- 投資者角度：穩定獲取利潤並使其成指數增長\n",
    "- 廣告商角度：確保自己廣告能被目標用戶點擊\n",
    "- 使用者角度：谷歌顯示的廣告會與其高度相關"
   ]
  },
  {
   "cell_type": "markdown",
   "metadata": {},
   "source": [
    "谷歌與投資者想賺的錢由眾多廣告商提供，對一般使用者來說又能繼續「免費」地使用谷歌搜尋，一切又回歸美好。\n",
    "\n",
    "谷歌沒有跟用戶說的是：為了達到這個目標，谷歌將利用其敏感的行為資料，將原本只被用來改善搜尋結果的行為副產品拿去針對特定用戶進行[指定目標廣告投放](https://support.google.com/google-ads/answer/2497941?hl=zh-Hant)。而因為這些行為副產品現在除了原本用途（提升服務品質），還額外具備了其他用途（替谷歌與廣告商賺取廣告收益），《監控》作者祖博夫將其稱之為行為剩餘（behavior surplus）。\n",
    "\n",
    "[上一章](#第二章-以用戶出發的資訊服務：行為價值再投資循環)看到的行為價值再投資循環（下方菱形）已悄悄地屈服於另一項規模更大、更複雜的商業操作（上方五角形）："
   ]
  },
  {
   "cell_type": "markdown",
   "metadata": {},
   "source": [
    "!mp4\n",
    "- dark\n",
    "- images/監控資本主義/發現行為剩餘.mp4\n",
    "- images/監控資本主義/發現行為剩餘.jpeg\n",
    "- 《監控》：發現行為剩餘（請繼續閱讀並適時回顧圖中五角形的各元件）"
   ]
  },
  {
   "cell_type": "markdown",
   "metadata": {},
   "source": [
    "上面這套操作要成功，關鍵不在技術實現，而在於谷歌得暗中「監視」。如果當年谷歌公開跟每位使用者說："
   ]
  },
  {
   "cell_type": "markdown",
   "metadata": {},
   "source": [
    "!quote\n",
    "- 嘿！我為了過活，要拿你的搜尋以及網路上的行為數據去建構你的個人檔案喔！我還會把它拿去跟那些你這輩子沒聽過的廣告商的廣告比對，預估你會點擊哪一個。在你下次搜尋時我就會把廣告顯示出來給你看溜！別忘了點進去瞧瞧：）"
   ]
  },
  {
   "cell_type": "markdown",
   "metadata": {},
   "source": [
    "基於最基本的隱私考量，我想應該沒有一個理性的用戶會直接點頭同意這筆交易的。"
   ]
  },
  {
   "cell_type": "markdown",
   "metadata": {},
   "source": [
    "儘管沒跟大眾說白，谷歌與後來的臉書為了目標廣告投放將包含你在內的所有用戶都建檔了。諷刺的是，這檔案裡雖然都是關於你的數位資訊，但卻不是為了你而建立，因此自然也不會讓你存取或是認知到它的存在。《監控》一書將其命名為「影子文本」，相對於你在網路上看得到的所有公開資訊（公開文本）。"
   ]
  },
  {
   "cell_type": "markdown",
   "metadata": {},
   "source": [
    "在這個商業模式底下，使用者的行為數據仍然會被用來提升服務品質，但是更多的附帶數據被用來建立能夠預測使用者點擊行為的預測產品（Prediction Products）。用了這些能精準預測用戶行為的產品後，谷歌在行為未來市場（Markets in Future Behaviors）讓貪婪的廣告商們即時競價使用者對廣告的曝光（impressions）以及未來的點擊行為。\n",
    "\n",
    "你現在可以回顧一下剛剛前面看到的五角形。我們會在[第四章](#第四章-數據神父手中的演算法與資料結構是生產手段)詳細說明有哪些生產手段。"
   ]
  },
  {
   "cell_type": "markdown",
   "metadata": {},
   "source": [
    "!image\n",
    "- dark\n",
    "- 監控資本主義/谷歌專利_UPI.jpg\n",
    "- 《為廣告指定目標生成使用者資訊》\n",
    "- https://patents.google.com/patent/US20050131762A1/en"
   ]
  },
  {
   "cell_type": "markdown",
   "metadata": {},
   "source": [
    "依據 2003 年谷歌持有的一個具指標性的專利[《為廣告指定目標生成使用者資訊》（Generating User Information for Use in Targeted Advertising）](https://patents.google.com/patent/US20050131762A1/en)，谷歌掌握的行為剩餘包含但不限於：\n",
    "- 使用者曾瀏覽之網頁\n",
    "- 心理變數（別問我谷歌怎麼取得這項的，我也不知道）\n",
    "- 瀏覽活動\n",
    "- 使用者先前被選定或投放之廣告資訊\n",
    "- 使用者是否在瀏覽廣告後出現消費行為\n",
    "\n",
    "進入 21 世紀第 3 個十年，更新後的名單可能比本文還長了。這些使用者屬性/特質數據交互組合起來，就是專利內所謂的用戶檔案資訊（**U**ser **P**rofile **I**nformation, UPI）。3 名谷歌頂尖的資訊工程科學家跟其真正的[顧客](https://zh.wikipedia.org/wiki/%E9%A1%A7%E5%AE%A2)：廣告商們表示，透過 UPI 就不用再玩傳統的廣告猜謎遊戲，不需浪費廣告預算就能夠確保使用者點擊。"
   ]
  },
  {
   "cell_type": "code",
   "execution_count": null,
   "metadata": {},
   "outputs": [],
   "source": [
    "#ignore\n",
    "- 加入智能社會巫毒蛙蛙"
   ]
  },
  {
   "cell_type": "markdown",
   "metadata": {},
   "source": [
    "而且他們也向顧客說明最大的瓶頸不是技術問題，而是社會層面的隱私問題：使用者可能不願交出自己的資料。但他們也讓顧客安心：他們有辦法在使用者不知情的情況下透過使用者行為推論、假設並演繹出其正確的 UPI 以跟廣告比對。"
   ]
  },
  {
   "cell_type": "markdown",
   "metadata": {},
   "source": [
    "!quote\n",
    "- 谷歌將每次點擊之價格，乘以他們**估算**的使用者點擊廣告之機率，並根據此運算結果，將最好的搜尋位置提供給可能支付最高報酬的廣告商，藉此最大化來自珍貴資產的收益。\n",
    "- 彭博社, 2006 年"
   ]
  },
  {
   "cell_type": "markdown",
   "metadata": {},
   "source": [
    "要能估算成千上萬的使用者以及廣告組合的點擊機率，需要為每位使用者都建構出具代表性的 UPI。而要具代表性，自然需要蒐集特定使用者的大量行為剩餘。理解了這邏輯，谷歌便從一開始無意間「發現」行為剩餘，逐步演變成無所不用其極地「獵捕」用戶行為數據。而這一切都是為了能更精準地預測使用者的點擊行為。\n",
    "\n",
    "當年彭博記者筆下的「珍貴資產」，正是谷歌在絕多數用戶不知情的情況下，從其與搜尋系統的互動轉換而來的行為剩餘。"
   ]
  },
  {
   "cell_type": "markdown",
   "metadata": {},
   "source": [
    "!mp4\n",
    "- images/監控資本主義/老鼠轉輪.mp4\n",
    "- images/監控資本主義/老鼠轉輪.jpg\n",
    "- 用有限的注意力追逐無限的數位內容\n",
    "- https://www.youtube.com/watch?v=LQf3P1QLWzM"
   ]
  },
  {
   "cell_type": "markdown",
   "metadata": {},
   "source": [
    "至此，新的資本主義變種隨之誕生：谷歌用以致富的行為剩餘即為監控資產，其既為賺取監控收益的原物料，也是監控資本的重要來源。最適合用來描述這套資本累積邏輯的詞彙，自然就是[監控資本主義（Surveillance Capitalism）](https://en.wikipedia.org/wiki/Surveillance_capitalism)了。依據 [2020 財年第三季度財報](https://finance.ettoday.net/news/1843096)，谷歌母公司 Alphabet 的整體營收達到 461.7 億美元（約新台幣 1 兆 3205 億元），而其中廣告收入就佔了 8 成（包含搜尋廣告以及 YouTube 廣告）。\n",
    "\n",
    "為了最大化其監控收益，谷歌在 21 世紀發展了一系列監控科技以及免費服務，務求讓每位使用者都能像隻小老鼠一樣，持續盯著眼前誘人的數位內容並在轉輪上留下數位足跡。監控資本家想不斷地從我們的數位與實體行為中汲取出不只更大量，還要更多元的行為剩餘。除了搜尋以外，我們還有其他便利的飼料：\n",
    "\n",
    "- [Gmail](https://zh.wikipedia.org/zh-tw/Gmail)：蒐集你的用字行為\n",
    "- [Google 地圖](https://zh.wikipedia.org/zh-tw/Google%E5%9C%B0%E5%9B%BE)：蒐集你在實體世界裡的活動\n",
    "- [Google 助理](https://support.google.com/assistant/answer/7172657?co=GENIE.Platform%3DAndroid&hl=zh-Hant)：蒐集你的語音資訊\n",
    "- [YouTube](https://www.youtube.com/?gl=TW&hl=zh-TW)：蒐集你所有的觀片記錄與喜好\n",
    "\n",
    "深諳監控資本主義邏輯的企業家們朗朗上口的台詞：[「數據是新的石油！」](https://fc.bnext.com.tw/data-is-the-new-oil-for-tech/)背後真正的意思昭然若揭。"
   ]
  },
  {
   "cell_type": "markdown",
   "metadata": {},
   "source": [
    "!image\n",
    "- 監控資本主義/谷歌產品.jpg\n",
    "- 熱門的 Google 產品"
   ]
  },
  {
   "cell_type": "markdown",
   "metadata": {},
   "source": [
    "說白點，在監控資本主義裡頭實際進行價值交換的主體是谷歌與廣告商。我們這些使用者只是原物料（行為剩餘）抽取以及徵收的目標。因此你可能聽人說過：「如果有什麼東西免費，那真正的商品其實就是你。」\n",
    "\n",
    "但《監控》一書的作者祖博夫針對這句話有更進一步的說明。她認為谷歌與臉書等監控資本家盜獵我們行為剩餘的程度，恰似盜獵者為了象牙殘殺大象的暴行，扔下我們體內、腦內、跳動心臟內蘊含的意義。她表示前面那句已經過時，事實上："
   ]
  },
  {
   "cell_type": "markdown",
   "metadata": {},
   "source": [
    "!quote\n",
    "- 你才不是商品，你是被捨棄的屍塊，真正的「商品」源於從你人生奪取的剩餘。\n",
    "- 《監控資本主義時代》"
   ]
  },
  {
   "cell_type": "markdown",
   "metadata": {},
   "source": [
    "在監控資本主義的思維下，要賺取更多的廣告收益，就需要更多的廣告點擊。因此「跟使用者相關」很自然地就跟「使用者點擊」劃上了等號。谷歌創造了新的人類行為預測科學：「點擊物理學」，持續召募最聰明的 AI 人才去優化上述五角形中的[生產工具](#第四章-數據神父手中的演算法與資料結構是生產手段)，為的是更精準地預測使用者對個人化廣告的[點擊率（**C**lick-**T**hrought **R**ate, CTR）](https://en.wikipedia.org/wiki/Click-through_rate)。\n",
    "\n",
    "一般來說，這些複雜的廣告預測系統的最佳化目標是最大化 CTR，因此並不會關心（也沒有意識）一名特定用戶在點擊某廣告時，內心是憤怒、悲傷還是快樂的。「我其實不在乎你的想法、感受或是靈魂，但我要確保你的（點擊）行為符合我的預測。」這樣的激進想法是監控資本主義從[激進行為主義（Radical behaviorism）](https://en.wikipedia.org/wiki/Radical_behaviorism)的「以他人觀點客觀地觀察某生物個體在環境中的行為」延伸而來，祖博夫則將其稱為「激進冷漠」。\n",
    "\n",
    "谷歌透過這樣的想法打造出來的預測產品是所有公司夢寐以求的：能夠保證只要刊登廣告，就會有不錯的效果。一個谷歌能夠向其真正的顧客：廣告商販賣近似確定性（certainty）的市場：只要你給我足夠的錢，我就能用自家的預測產品給你要的保證結果：保證讓負責點擊的使用者買單。"
   ]
  },
  {
   "cell_type": "markdown",
   "metadata": {},
   "source": [
    "!image\n",
    "- 監控資本主義/google_analytics.jpg\n",
    "- Google Analytics 報表頁面"
   ]
  },
  {
   "cell_type": "markdown",
   "metadata": {},
   "source": [
    "在絕大多數用戶還不知情的情況下，處於市場循環之外的使用者就已不再是 21 世紀多數科技公司營運的主要目的，淪落成了一個手段，一個為了達成陌生、貪婪廣告商的營利目的的**手段**。以上就是長達 800 頁的《監控資本主義時代》想傳達的核心概念。相信你現在也對其有一定的瞭解了。\n",
    "\n",
    "對某些人來說，這一切可能聽起來十分地黑暗且令人焦慮。或許還會有人選擇直接視而不見並關掉此頁面。但要馴服一頭野獸，我們得先克服恐懼、直視它的雙眼並嘗試理解。轉頭奔逃很有可能只會讓你更快被其吞噬。\n",
    "\n",
    "要能建立精準的預測產品，比方說廣告推薦系統，只有大量的行為剩餘是不成氣候的。監控資本家也需要全新的生產手段來打造這些資訊系統。在了解監控資本主義的商業操作以後，讓我們用資料科學的角度看看科技公司是怎麼打造這些神奇產品的。"
   ]
  },
  {
   "cell_type": "markdown",
   "metadata": {},
   "source": [
    "喔對了！值得一提的是，與谷歌及臉書「冷漠」的廣告競標系統相比，採付費訂閱制的電影推薦服務 [Netflix](https://www.netflix.com/) 比較有「人性」，看似接近[以用戶出發的資訊服務](#第二章-以用戶出發的資訊服務：行為價值再投資循環)。但一般內容推薦系統仍有其原罪：「無上限」地渴望著用戶的「有限」注意力，因此這類服務（Netflix 上看不完的電影、推特滑不完的動態\n",
    "）都存在著讓用戶沈迷於其服務的隱憂。"
   ]
  },
  {
   "cell_type": "markdown",
   "metadata": {},
   "source": [
    "## 第四章 數據神父手中的演算法與資料結構是生產手段"
   ]
  },
  {
   "cell_type": "markdown",
   "metadata": {},
   "source": [
    "《監控》一書將打造預測產品的「全新生產技術」（請回顧[前一章](#第三章-使用者淪為屍塊：發現並汲取大規模行為剩餘)的五角形）統稱為機器智慧（Machine Intelligence），對應到我們已耳濡目染的資訊科技技術：人工智慧、資料科學、[深度學習（Deep Learning）](https://leemeng.tw/deep-learning-resources.html)以及預測分析。而使用這些技術打造預測模型的資料工程師、資料科學家以及機器學習工程師就是祖博夫筆下的「數據神父」。\n",
    "\n",
    "用「機器智慧」來概括監控資本主義中的科技很方便，卻也讓前幾章對監控資本家們的「指控」顯得十分抽象。在這章節裡，我會用資料科學的角度描述數據神父們是如何地實作對科技公司來說最重要的預測產品：[推薦系統](https://zh.wikipedia.org/zh-tw/%E6%8E%A8%E8%96%A6%E7%B3%BB%E7%B5%B1)。這章內容能讓你更直觀地連接監控資本主義的商業邏輯以及與之掛鉤的資料科學概念。"
   ]
  },
  {
   "cell_type": "markdown",
   "metadata": {},
   "source": [
    "### 回到上古時代：基於協同過濾的推薦系統"
   ]
  },
  {
   "cell_type": "markdown",
   "metadata": {},
   "source": [
    "!image\n",
    "- 監控資本主義/簡單電影推薦CF例子.jpg\n",
    "- 協同過濾：從用戶與物品的互動矩陣建構用戶興趣與物品屬性嵌入\n",
    "- https://developers.google.com/machine-learning/recommendation/collaborative/matrix"
   ]
  },
  {
   "cell_type": "markdown",
   "metadata": {},
   "source": [
    "我在 [2015 年完成 Coursera 上的推薦系統課程](https://coursera.org/share/b38390e0d76c7076751ec721e22d0a6d)時，[協同過濾（collaborative filtering）](https://zh.wikipedia.org/zh-tw/%E5%8D%94%E5%90%8C%E9%81%8E%E6%BF%BE)仍是初學者必學的推薦方法之一。以 Netflix 的電影推薦場景來說，其原理是透過[矩陣拆解（matrix decomposition）](https://zh.wikipedia.org/wiki/%E7%9F%A9%E9%98%B5%E5%88%86%E8%A7%A3)將所有用戶與所有物品互動的矩陣（電影評分紀錄） $\\mathbf{A}$ 拆解成最具代表性的用戶潛在興趣矩陣 $\\mathbf{U}$ 與物品潛在屬性矩陣 $\\mathbf{V^{T}}$，使得 $\\mathbf{U}\\mathbf{V}^{T}  \\approx \\mathbf{A}$。\n",
    "\n",
    "一旦有了這兩個子矩陣，我們就能預測任意使用者 $u$ 給任意電影 $v$ 的評分（先不考慮[新用戶](https://www.mdeditor.tw/pl/2Gcp/zh-tw)）。該系統只要在用戶登入時將他或她還沒看過的電影的預測分數從高到低排序，並把預測評分前 N 個大的電影顯示給該用戶即可完成最簡單的電影推薦。這邊值得一提的是，任一用戶只能存取自己的評分紀錄（公開文本），而 Netflix 可以存取[截至 2020 年為止其在全球獲得的近 2 億訂閱用戶](https://www.statista.com/statistics/250934/quarterly-number-of-netflix-streaming-subscribers-worldwide/)的所有評分行為（影子文本），創造了和單一用戶之間龐大的知識與力量鴻溝。\n",
    "\n",
    "另外在推薦系統領域中，所有人都已習慣將每一名用戶簡化為一個紀錄其喜好的高維向量了。"
   ]
  },
  {
   "cell_type": "markdown",
   "metadata": {},
   "source": [
    "### 快轉到基於深度學習的推薦系統王朝"
   ]
  },
  {
   "cell_type": "markdown",
   "metadata": {},
   "source": [
    "2016 年，Google Play 推薦團隊推出 [Wide & Deep 模型](https://ai.googleblog.com/2016/06/wide-deep-learning-better-together-with.html)，整合[邏輯回歸（logistic regression）](https://zh.wikipedia.org/wiki/%E9%82%8F%E8%BC%AF%E8%BF%B4%E6%AD%B8)以及[深度神經網路（deep neural network）](https://leemeng.tw/deep-learning-for-everyone-understand-neural-net-and-linear-algebra.html)的優點來做 App 推薦並看到卓越的指標提昇。隨後業界爭相使用此架構（或其變形）來改善自家的推薦系統。此研究也是讓[深度學習](https://leemeng.tw/deep-learning-for-everyone-understand-neural-net-and-linear-algebra.html)更快普及到推薦系統領域的主要推手之一。"
   ]
  },
  {
   "cell_type": "markdown",
   "metadata": {},
   "source": [
    "!youtube\n",
    "- Xmw9SWJ0L50\n",
    "- 3 分鐘理解谷歌經典的 Wide＆Deep 推薦模型概念"
   ]
  },
  {
   "cell_type": "code",
   "execution_count": null,
   "metadata": {},
   "outputs": [],
   "source": [
    "#ignore\n",
    "- p153 生產手段"
   ]
  },
  {
   "cell_type": "markdown",
   "metadata": {},
   "source": [
    "[谷歌的論文](https://arxiv.org/abs/1606.07792)用實際的業務成長說明其模型的卓越性。谷歌對當時的用戶進行[線上 A/B 測試](https://zh.wikipedia.org/wiki/A/B%E6%B8%AC%E8%A9%A6)：讓 1 % 的用戶繼續使用原始版本的 App 推薦系統（對照組），讓另外 1％ 的用戶使用類神經網路加持的 Wide & Deep 模型（實驗組）。實驗結果顯示谷歌可以讓實驗組在 Google Play 多點擊下載 3.9％ 的應用程式。要知道 [Google Play 在 2016 年有 550 億下載，到了 2020 年更達到上千億](https://www.statista.com/statistics/734332/google-play-app-installs-per-year/#:~:text=In%202020%2C%20Google%20Play%20users,only%20available%20for%20Apple%20devices)。以這個規模來評估模型帶來的影響力就十分驚人了。當然，一般用戶不會知曉這場偉大的實驗。"
   ]
  },
  {
   "cell_type": "markdown",
   "metadata": {},
   "source": [
    "在 App 推薦取得巨大突破後，沒道理不應用到指定目標廣告投放的點擊率預測。你一樣可以把每一個廣告商的廣告視為一個物品，並依據用戶過去的點擊與瀏覽行為去預測他/她點擊每個廣告的機率。搭配無數廣告商的競標預算，谷歌在你搜尋任何東西時顯示他們有信心能讓你點擊的廣告。2017 年史丹佛大學與谷歌的 [Deep & Cross Network for Ad Click Predictions](https://arxiv.org/abs/1708.05123) 的論文標題就直白地說明了他們是改造 Wide ＆ Deep 模型來做廣告點擊預測。"
   ]
  },
  {
   "cell_type": "markdown",
   "metadata": {},
   "source": [
    "!image\n",
    "- dark\n",
    "- 監控資本主義/谷歌_deep_and_cross_廣告預測推薦模型.jpg\n",
    "- 谷歌的 Deep & Cross Network 被設計來做廣告點擊預測\n",
    "- https://arxiv.org/abs/1708.05123"
   ]
  },
  {
   "cell_type": "markdown",
   "metadata": {},
   "source": [
    "為了避免失焦，我在這篇文章裡頭不會討論過多技術細節。值得強調的是，這些模型是科技公司與數據神父們的嘔心瀝血之作，但從一般人的角度來看可以說是不知所云。所以我完全可以理解心理學與經濟學背景的祖博夫給這些技術下的評論："
   ]
  },
  {
   "cell_type": "markdown",
   "metadata": {},
   "source": [
    "!quote\n",
    "- 成千上百份研究成果，無論是小成就還是大躍進，全都是那昂貴、複雜、晦澀難懂，而且獨一無二的二十一世紀「生產手段」。\n",
    "- 《監控資本主義時代》"
   ]
  },
  {
   "cell_type": "markdown",
   "metadata": {},
   "source": [
    "這些生產工具為監控資本家帶來了巨大收益。在[一篇 2017 年的微軟跟 Bing 搜尋相關的廣告論文](https://www.microsoft.com/en-us/research/wp-content/uploads/2017/04/main-1.pdf)開頭就寫著：「對搜尋引擎的收益來說，精準預估廣告的點擊率相當關鍵，就算只有將精準度提升 0.1％，也能增加數億美元的營收。」而他們最後顯示能夠用該論文提出的深度學習推薦模型提升 0.9％ 的離線與線上精準度。真正的卓越成就。\n"
   ]
  },
  {
   "cell_type": "markdown",
   "metadata": {},
   "source": [
    "有趣的是，實際打造谷歌這些「生產工具」的是他們大力推行的開源軟體庫 [TensorFlow](https://www.tensorflow.org/?hl=zh-tw)，也是無數機器學習工程師與資料科學家日夜使用的開發工具。所以現在大家一窩蜂在學的 TensorFlow 以及 [PyTorch](https://pytorch.org/) 可以說是生產工具的生產工具。"
   ]
  },
  {
   "cell_type": "markdown",
   "metadata": {},
   "source": [
    "以下則是谷歌向開發者（developer）展示如何透過 TensorFlow 打造 Wide & Deep 模型的範例程式碼："
   ]
  },
  {
   "cell_type": "markdown",
   "metadata": {},
   "source": [
    "```python\n",
    "estimator = DNNLinearCombinedClassifier(\n",
    "    linear_feature_columns=my_wide_features,\n",
    "    dnn_feature_columns=my_deep_features,\n",
    "    dnn_hidden_units=[256, 64, 16],\n",
    "    ...)\n",
    "\n",
    "estimator.fit(...)\n",
    "estimator.evaluate(...)\n",
    "```"
   ]
  },
  {
   "cell_type": "markdown",
   "metadata": {},
   "source": [
    "而因為這些開源軟體庫使用上十分便利，讓建構複雜神經網路模型像是在疊疊樂，業界內的工程師有時會自娛娛人："
   ]
  },
  {
   "cell_type": "markdown",
   "metadata": {},
   "source": [
    "!image\n",
    "- nlp-kaggle-intro/playing-with-keras.jpg\n",
    "- 用開源函式庫建構深度學習模型\n",
    "- https://leemeng.tw/shortest-path-to-the-nlp-world-a-gentle-guide-of-natural-language-processing-and-deep-learning-for-everyone.html"
   ]
  },
  {
   "cell_type": "markdown",
   "metadata": {},
   "source": [
    "更有趣的是，這些終日研讀技術文檔、開發的數據神父們有很大機率並不曉得自己在這樣的商業世界裡頭。\n",
    "\n",
    "這我們等等還會提到。"
   ]
  },
  {
   "cell_type": "markdown",
   "metadata": {},
   "source": [
    "### 一張圖說明監控資本主義與資料科學的聯姻"
   ]
  },
  {
   "cell_type": "markdown",
   "metadata": {},
   "source": [
    "讀完上節，我相信你已經能夠直觀地將資料科學與監控資本主義的商業邏輯結合了。但我在撰寫此文時一直在想：「有沒有更淺白、更直觀的方式讓我把到目前為止談過的所有概念用一張圖呈現給你看呢？」\n",
    "\n",
    "人類是視覺的動物。一個可行方案是透過[知識圖譜（knowledge graph）](https://en.wikipedia.org/wiki/Knowledge_graph)的想法，將所有重要概念（監控資本主義、推薦系統等）視為一個個的節點（node），並將節點其中的關係視為邊（edge）來繪圖。你要不要猜一猜世上最大的**公開**知識圖譜在哪？沒錯，就是[維基數據（Wikidata）](https://zh.wikipedia.org/zh-tw/%E7%BB%B4%E5%9F%BA%E6%95%B0%E6%8D%AE)。我們可以用類似 [SQL](https://leemeng.tw/why-you-need-to-learn-sql-as-a-data-scientist.html) 的語法即時查詢有提及《監控資本主義時代》作者[肖莎娜・祖博夫（Shoshana Zuboff）\n",
    "](https://en.wikipedia.org/wiki/Shoshana_Zuboff)名字的所有維基頁面： "
   ]
  },
  {
   "cell_type": "markdown",
   "metadata": {},
   "source": [
    "```sql\n",
    "SELECT DISTINCT (concat(?itemLabel, \" (\", ?typeLabel, \")\") AS ?name) ?itemLabel ?typeLabel\n",
    "WHERE {\n",
    " {\n",
    "   SELECT ?item WHERE {\n",
    "    SERVICE wikibase:mwapi {\n",
    "      bd:serviceParam wikibase:endpoint \"en.wikipedia.org\";\n",
    "                      wikibase:api \"Generator\";\n",
    "                      mwapi:generator \"search\";\n",
    "                      mwapi:gsrsearch \"'Shoshana Zuboff'\";\n",
    "                      mwapi:gsrlimit \"max\".\n",
    "      ?item wikibase:apiOutputItem mwapi:item .\n",
    "    }\n",
    "  } LIMIT 100\n",
    " }\n",
    " hint:Prior hint:runFirst \"true\".\n",
    " ?item wdt:P31|wdt:P279 ?type.\n",
    " OPTIONAL { ?item wdt:P18 ?pic }\n",
    " SERVICE wikibase:label { bd:serviceParam wikibase:language \"zh-hant,[AUTO_LANGUAGE]\". }\n",
    "} LIMIT 100\n",
    "```"
   ]
  },
  {
   "cell_type": "markdown",
   "metadata": {},
   "source": [
    "!image\n",
    "- dark\n",
    "- 監控資本主義/wikidata_query_service.png\n",
    "- 有提及《監控》作者名稱的部分維基頁面\n",
    "- https://w.wiki/uU9\n",
    "- Wikidata Query Service"
   ]
  },
  {
   "cell_type": "markdown",
   "metadata": {},
   "source": [
    "如果你開啟[圖片來源連結](https://w.wiki/uU9)，就能找到一些跟監控資本主義直接相關的概念：\n",
    "- 資本主義\n",
    "- 極權主義\n",
    "- 精靈寶可夢 GO（還記得谷歌無所不用其極地蒐集你的行為剩餘嗎？）\n",
    "- 網路訪客追蹤\n",
    "- Netflix 紀錄片：《智能社會：進退兩難》\n",
    "- 圓形監獄\n",
    "\n",
    "但這樣還不夠，我相信我們能做得更好。我用 [Pyvis](https://github.com/WestHealth/pyvis) 打造了一個涵蓋監控資本主義以及資料科學相關概念的知識圖譜（或者說是我的心智圖）。在有了前面幾章的背景知識之後，你可以很輕鬆地解讀這個知識圖譜。要理解`谷歌`、`臉書`以及`推特`是怎麼賺進大把鈔票的，你只需找到下方圖譜中的`使用者 A（你我）`圖標，接著一路順著箭頭探索就能理解監控資本家是如何將你我的`注意力、行為與時間`轉換成`監控收益`的了，magic！\n",
    "\n",
    "你也可以自由縮放、拖曳圖譜。"
   ]
  },
  {
   "cell_type": "code",
   "execution_count": 3,
   "metadata": {
    "code_folding": [
     0
    ]
   },
   "outputs": [],
   "source": [
    "#ignore\n",
    "# 建立監控資本主義 mindmap\n",
    "import os\n",
    "from glob import glob\n",
    "from pyvis.network import Network\n",
    "from pprint import pprint\n",
    "from dataclasses import dataclass, field, asdict\n",
    "\n",
    "@dataclass\n",
    "class Edge:\n",
    "    source: str\n",
    "    to: str\n",
    "    label: str = field(default='')\n",
    "    title: str = field(default='')\n",
    "    color: str = field(default=\"#848484\")\n",
    "    font: dict = field(default=None)\n",
    "        \n",
    "    def __post_init__(self):\n",
    "        self.font = {\"color\": \"grey\"}\n",
    "        self.smooth = {\"enabled\": True, \"type\": \"dynamic\"}\n",
    "        \n",
    "gdrive_baseurl = \"https://drive.google.com/thumbnail?id={fid}\"\n",
    "github_baseurl = 'https://raw.githubusercontent.com/leemengtaiwan/leemengtaiwan.github.io/dev/content/{filepath}'\n",
    "kg_dir = \"images/監控資本主義/knowledge-graph\"\n",
    "\n",
    "pyvis_output_file = \"pyvis/surveillance_capitalism_mindmap.html\"\n",
    "g2color = {\"default\": \"blue\", \"sc\": \"red\", \"tech\": \"blue\", 'agent': \"black\", \"dummy_agent\": \"black\"}\n",
    "g2value = {\"default\": 1, \"sc\": 5, \"tech\": 1, \"agent\": 4, \"dummy_agent\": 1}"
   ]
  },
  {
   "cell_type": "code",
   "execution_count": null,
   "metadata": {
    "code_folding": [
     23,
     247
    ]
   },
   "outputs": [],
   "source": [
    "#ignore\n",
    "# 實際繪圖\n",
    "render_height = '750px'\n",
    "network = Network(\n",
    "    notebook=True, \n",
    "    height=render_height, \n",
    "    width=\"100%\", \n",
    "    directed=True,\n",
    "    heading='',\n",
    "    layout=False,\n",
    ")\n",
    "\n",
    "# 定義 nodes\n",
    "apps = ['谷歌' , '臉書', '推特']\n",
    "shadow_corpus = \"影子文本/知識\"\n",
    "society = \"社會/機器蜂巢\"\n",
    "user_a = \"使用者 A（你我）\"\n",
    "user_b = \"使用者 B\"\n",
    "next_gen = \"下個世代\"\n",
    "god_father = '監控神父'\n",
    "sc = \"監控資本主義\"\n",
    "\n",
    "nodes = {\n",
    "    user_a: {\"group\": \"agent\", \"fid\": \"1DcYj-O2gvG3M-uA65LmeLiB2R5s-oIi_\", 'img': '使用者.png'},\n",
    "        user_a + ' ': {\"group\": \"dummy_agent\", \"fid\": \"1DcYj-O2gvG3M-uA65LmeLiB2R5s-oIi_\", 'img': '使用者.png'},\n",
    "        next_gen: {\"group\": \"dummy_agent\", \"fid\": \"1DcYj-O2gvG3M-uA65LmeLiB2R5s-oIi_\", 'img': '使用者.png'},\n",
    "    user_b: {\"group\": \"agent\", \"fid\": \"1DcYj-O2gvG3M-uA65LmeLiB2R5s-oIi_\", 'img': '使用者.png'},\n",
    "    \"谷歌\": {\"group\": \"agent\", \"fid\": \"1Twnpn3tPnWQ1U1lxiQGrQEdNkuQfPnMV\", 'img': '谷歌.png'},\n",
    "    \"臉書\": {\"group\": \"agent\", \"fid\": \"1nDZChV28WvJTGC4efiYEDbMTuK5jAKgJ\", 'img': '臉書.png'},\n",
    "    \"推特\": {\"group\": \"agent\", \"fid\": \"1MCYSxMfE6MWHtqY8IFnQZntux92YbBGR\", 'img': ''},\n",
    "    \"政治力量\": {\"group\": \"agent\", \"fid\": \"1HKUgh9HtMdqYQmNo-xezOZbjMbqB_KwS\", 'img': ''},\n",
    "    \"監控資本\": {\"group\": \"agent\", \"fid\": \"1s0ZFeDBvNOBHBZtkMX6mu3cGSk8Rt9Zw\", 'img': ''},\n",
    "    \"資料科學家\": {\"group\": \"agent\", \"fid\": \"1xyU4R5t5u76FQNFjsTCazVd_Ju2AH7Ji\", 'img': ''},\n",
    "        \"資料科學家 \": {\"group\": \"dummy_agent\", \"fid\": \"1xyU4R5t5u76FQNFjsTCazVd_Ju2AH7Ji\", 'img': ''},\n",
    "    \"機器學習工程師\": {\"group\": \"agent\", \"fid\": \"1Q2hhS3BwCeL-vM0vGEMjIkQZxFroZP-L\", 'img': ''},\n",
    "        \"機器學習工程師 \": {\"group\": \"dummy_agent\", \"fid\": \"1Q2hhS3BwCeL-vM0vGEMjIkQZxFroZP-L\", 'img': ''},\n",
    "    \"資料工程師\": {\"group\": \"agent\", \"fid\": \"1GT1RL6OXyNTfZ_G4FilwhGRW47hYEJW_\", 'img': ''},\n",
    "        \"資料工程師 \": {\"group\": \"dummy_agent\", \"fid\": \"1GT1RL6OXyNTfZ_G4FilwhGRW47hYEJW_\", 'img': ''},\n",
    "    \"程式設計師\": {\"group\": \"agent\", \"fid\": \"15grkRfj5ssYEU21JnQ7LXhL0lAStbvmR\", 'img': ''},\n",
    "        \"程式設計師 \": {\"group\": \"dummy_agent\", \"fid\": \"15grkRfj5ssYEU21JnQ7LXhL0lAStbvmR\", 'img': ''},\n",
    "    society: {\"group\": \"agent\", \"fid\": \"1W3L1Okw10Exeo0pJn8cP8f4qOTa3Fh6u\", 'img': ''},\n",
    "    society: {\"group\": \"agent\", \"fid\": \"1W3L1Okw10Exeo0pJn8cP8f4qOTa3Fh6u\", 'img': ''},\n",
    "    god_father: {\"group\": \"sc\", \"fid\": \"1Fio2I-oArtdVlo5XqisLZN5fKt_RCCD-\", 'img': ''},\n",
    "    \"科技設計師\": {\"group\": \"agent\", \"fid\": \"1SRs4OU-LzdwOrm-0KZIgDUCFN1Oti0uk\", 'img': ''},\n",
    "        \"科技設計師 \": {\"group\": \"dummy_agent\", \"fid\": \"1SRs4OU-LzdwOrm-0KZIgDUCFN1Oti0uk\", 'img': ''},\n",
    "    \n",
    "    # 激進冷漠 -> 公開文本\n",
    "    # 230 法 -> \n",
    "    \n",
    "    \"激進行為主義\": {\"group\": \"sc\", \"fid\": \"11uzyxMNXYo2LosrdTTQg5cayBcB7ENa5\", 'img': ''},\n",
    "    sc: {\"group\":  \"sc\", \"fid\": \"16X6Kj0-o0wWfxw1cMYv5iAVVnx617XP-\", 'img': ''},\n",
    "    \"行為價值再投資循環\": {\"group\":  \"tech\", \"fid\": \"1iuGbqN7eHutpGvgEPN-NP1p5_MMOMKAe\", 'img': ''},\n",
    "        \"數據廢氣\": {\"group\": \"tech\", \"fid\": \"1TgHDz43bs5VPFs-k0bvZY9uf0X7W5UE6\", 'img': ''},\n",
    "    \"商業邏輯\": {\"group\": \"sc\", \"fid\": \"1tGpWGAlIYPK5Hrr3gdxFwXuZD1s-TWIe\", 'img': ''},\n",
    "    \"行為預測模型\": {\"group\": \"sc\", \"fid\": \"1M2Nw_aK01yfaqdUYeZ4jbBeb-WM-tiRq\", 'img': ''},\n",
    "    \"大他者\": {\"group\":  \"sc\", \"fid\": \"1jowkMalc5GjsU9xcWsaYDpP5FJPFdYBj\", 'img': ''},\n",
    "    \"行為未來市場\": {\"group\": \"sc\", \"fid\": \"1ei0DhBFVx36MBQDgTP8hb228gE7aJNoS\", 'img': ''},\n",
    "    \"行為剩餘\": {\"group\": \"sc\", \"fid\": \"159XsvGjsmHELLq_Zl7IUQTlL-oRbG1CL\", 'img': ''},\n",
    "    \"全新生產手段\": {\"group\": \"sc\", \"fid\": \"1BiBTO26BoaljQBtzgWUdV25Zwc_nuZOd\", 'img': ''},\n",
    "    \"監控收益\": {\"group\": \"sc\", \"fid\": \"1WgFi9hD2E2BnOYFRgzscoIg7dQNCSCss\", 'img': ''},\n",
    "    \"注意力、行為與時間\": {\"fid\": \"1J7Nrr2Z_3nkJkbHEhDotgqYq_MP1UPip\", 'img': ''},\n",
    "    \"注意力、行為與時間 \": {\"fid\": \"1J7Nrr2Z_3nkJkbHEhDotgqYq_MP1UPip\", 'img': ''},  # for 使用者 B\n",
    "    \n",
    "    \"資訊科技\": {\"group\": \"tech\", \"fid\": \"1Bem-_uetEmwQ3lMsQCtQgrykSYii8_7I\", 'img': ''},\n",
    "        \"大數據\": {\"group\": \"tech\", \"fid\": \"1fiKgB8FjgiWbBPfgDRzlNv0RgtE8hr52\", 'img': ''},\n",
    "            \"公開文本\": {\"group\": \"tech\", \"fid\": \"19M_rPCDxSOWDWv57HUBYENXgf13oYg47\", 'img': ''},\n",
    "            shadow_corpus: {\"group\": \"sc\", \"fid\": \"12S1tFNxmydt43VeEImIkhI5WGICVIXE-\", 'img': ''},\n",
    "            \"物聯網\": {\"group\": \"tech\", \"fid\": \"1AWOBWlCCXl2Ifb6quVqFfLL7NcpTCbKM\", 'img': ''},\n",
    "    \n",
    "    \"資料科學\": {\"group\": \"tech\", \"fid\": \"1-HW1XVNKes5x0umFLkQ11lgUiRodun3G\", 'img': ''},\n",
    "        \"資料分析\": {\"group\": \"tech\", \"fid\": \"1TzQCtWYeJx6e2AVQmxyZm2Qfy4BZv1wm\", 'img': ''},\n",
    "        \"資料分析 \": {\"group\": \"tech\", \"fid\": \"1TzQCtWYeJx6e2AVQmxyZm2Qfy4BZv1wm\", 'img': ''},  # for 使用者 B\n",
    "        \"AB測試\": {\"group\": \"tech\", \"fid\": \"18CgvWVkmlTcgAGgaT-vTEb6dmO0nURLI\", 'img': ''},\n",
    "        \"人工智慧\": {\"group\": \"tech\", \"fid\": \"1N_SqURgDIerhu21IisRZIjjN3kh8hiZV\", 'img': ''},\n",
    "            \"機器學習\": {\"group\": \"tech\", \"fid\": \"1Ods_a_SfLaVTSmemeJyMrFl6ZjTAReP_\", 'img': ''},\n",
    "                \"深度學習\": {\"group\": \"tech\", \"fid\": \"1p34c2K-Ieik9vsnPMicmIy2U0FEDBi8v\", 'img': ''},\n",
    "                    \"推薦系統\": {\"group\": \"tech\", \"fid\": \"1io43NIQPwevrqEalsxfK4xLTMk7fWmFY\", 'img': ''},\n",
    "                        \"互動/行為預測\": {\"group\": \"tech\", \"fid\": \"1iNdWdXjYYXILY3nVR6LBLFmc9hkpoPTW\", 'img': ''},\n",
    "                    \"自然語言處理\" : {\"group\": \"tech\", \"fid\": \"1H9hLcOkVu5Csuxs9sTNDl5IjBch8x9RM\", 'img': ''},\n",
    "                        \"語音辨識\": {\"group\": \"tech\", \"fid\": \"1oDe8EXFcP9ClvCaVO3_zzVCe9_ngpJqP\", 'img': ''},\n",
    "                            \"智慧音箱\" : {\"group\": \"tech\", \"fid\": \"1s_ZnAIIgkOkxODvVrCqGi1bT2bpIsMX-\", 'img': ''},\n",
    "                    \"電腦視覺\" : {\"group\": \"tech\", \"fid\": \"1iRG_NpjA1j8T6vp4lQYD0CFbnvnvupQj\", 'img': ''},\n",
    "                        \"臉部辨識\" : {\"group\": \"tech\", \"fid\": \"14Zep8RptfmK60H2a1ehEpws4GP3xMeqh\", 'img': ''},\n",
    "    \n",
    "}\n",
    "\n",
    "# 建立 entity name -> image path 的 map\n",
    "image_paths = glob(os.path.join(kg_dir, \"*\"))\n",
    "label2filepath = {p.split('/')[-1].replace('.jpg', '').replace('.png', '').replace('.jpeg', ''): p for p in image_paths}\n",
    "for label in [user_a, user_b, next_gen]:\n",
    "    label2filepath[label] = label2filepath['使用者']\n",
    "label2filepath[society] = label2filepath['社會']\n",
    "label2filepath[sc] = label2filepath['監控資本主義時代']\n",
    "label2filepath['行為價值再投資循環'] = label2filepath['其他資訊資本主義']\n",
    "label2filepath['商業邏輯'] = label2filepath['商業模式']\n",
    "label2filepath['注意力、行為與時間'] = label2filepath['注意力與時間']\n",
    "label2filepath['資訊科技'] = label2filepath['科技']\n",
    "label2filepath[shadow_corpus] = label2filepath['影子文本']\n",
    "label2filepath['資料分析'] = label2filepath['探索性資料分析']\n",
    "label2filepath['互動/行為預測'] = label2filepath['點擊率預測']\n",
    "\n",
    "\n",
    "for label, p in dict(label2filepath).items():\n",
    "    label2filepath[label + \" \"] = p\n",
    "    \n",
    "for node, v in nodes.items():    \n",
    "    # 渲染 full github cdn url, group font color\n",
    "    if 'fid' in v:\n",
    "        v['shape'] = \"image\"\n",
    "#         v['image'] = gdrive_baseurl.format(fid=v['fid'])\n",
    "        v['image'] = github_baseurl.format(filepath=label2filepath[node])\n",
    "        \n",
    "    # 渲染不同 group 的 font color\n",
    "    g = v.get(\"group\", \"default\")\n",
    "    if 'font' not in v:\n",
    "        v['font'] = {\"color\": g2color[g]}\n",
    "    else:\n",
    "        v['font']['color'] = g2color[g]\n",
    "    \n",
    "    # 渲染不同 group 的 node 大小\n",
    "    v['value'] = g2value[g]\n",
    "\n",
    "# 微調個別 node 大小\n",
    "nodes['注意力、行為與時間']['value'] = 5\n",
    "nodes['注意力、行為與時間 ']['value'] = 5\n",
    "nodes['大數據']['value'] = 3\n",
    "nodes['資訊科技']['value'] = 3\n",
    "nodes['監控資本主義']['value'] = 7\n",
    "nodes['監控收益']['value'] = 7\n",
    "nodes[shadow_corpus]['value'] = 7\n",
    "    \n",
    "edges = [    \n",
    "    Edge(\"激進行為主義\", \"監控資本主義\"),\n",
    "        Edge('監控資本主義', '大他者', label=\"創造\"),\n",
    "            Edge('大他者', society, label=\"預測/校準/制約/控制\"),\n",
    "            Edge('行為未來市場', society, label=\"預測/校準/制約/控制\"),\n",
    "    Edge('商業邏輯', '監控資本主義'),\n",
    "    Edge('商業邏輯', '行為價值再投資循環'),\n",
    "    Edge('監控資本主義', '行為預測模型', label=\"最高價值之商品\"),\n",
    "    Edge('行為價值再投資循環', '數據廢氣'),\n",
    "    \n",
    "#     Edge(\"資訊科技\", \"大他者\", label=\"創造\"),\n",
    "    Edge(\"資訊科技\", \"全新生產手段\"),\n",
    "    Edge(\"資訊科技\", \"大數據\"),\n",
    "        Edge(\"資料工程師\", \"大數據\", label='從事'),\n",
    "    \n",
    "    Edge(user_a, \"公開文本\", label=\"知曉\"),\n",
    "    Edge(shadow_corpus, \"行為剩餘\", label='萃取'),\n",
    "    Edge(\"物聯網\", \"大數據\"),\n",
    "        Edge(\"程式設計師\", \"物聯網\", label='開發'),\n",
    "    \n",
    "    Edge(\"資料科學\", \"人工智慧\"),\n",
    "    Edge(\"資料科學\", \"資料分析\"),\n",
    "    Edge(\"資料科學\", \"AB測試\"),\n",
    "        Edge(\"資料科學家\", \"資料科學\", label='從事'),\n",
    "    Edge(\"資料分析\", \"全新生產手段\"),\n",
    "    Edge(\"AB測試\", \"全新生產手段\"),\n",
    "    Edge(\"資料科學\", \"全新生產手段\"),\n",
    "    Edge(\"全新生產手段\", \"行為預測模型\", label='生產＆改善'),\n",
    "    \n",
    "    Edge(\"人工智慧\", \"機器學習\"),\n",
    "    Edge(\"機器學習\", \"深度學習\"),\n",
    "        Edge(\"機器學習工程師\", \"機器學習\", label='從事'),\n",
    "    Edge(\"推薦系統\", \"互動/行為預測\"),\n",
    "    Edge(\"互動/行為預測\", \"全新生產手段\"),\n",
    "    Edge(\"自然語言處理\", \"語音辨識\"),\n",
    "    Edge(\"電腦視覺\", \"臉部辨識\"),\n",
    "    Edge(\"智慧音箱\", \"語音辨識\"),\n",
    "    Edge(\"智慧音箱\", \"物聯網\"),\n",
    "        Edge(\"科技設計師\", \"智慧音箱\", label='設計'),\n",
    "    \n",
    "    Edge(\"行為剩餘\", \"全新生產手段\"),\n",
    "    Edge(\"行為預測模型\", \"行為未來市場\"),\n",
    "    Edge(\"行為未來市場\", \"監控收益\"),\n",
    "    Edge(user_a, \"注意力、行為與時間\", label=\"提供\"),\n",
    "    \n",
    "    Edge(\"政治力量\", \"監控資本\", label=\"合作/抗衡\"),\n",
    "    \n",
    "    Edge(\"大數據\", \"公開文本\", label='公開'),\n",
    "    Edge(\"大數據\", shadow_corpus, label=\"累積\"),\n",
    "]\n",
    "\n",
    "for app in apps:\n",
    "    edges.append(Edge(\"注意力、行為與時間\", app))\n",
    "    edges.append(Edge(app, \"大數據\"))\n",
    "    edges.append(Edge(\"監控收益\", app))\n",
    "    \n",
    "edges.append(Edge(\"使用者 B\", \"注意力、行為與時間 \", label=\"提供\"))\n",
    "edges.append(Edge(\"行為價值再投資循環\", \"資料分析 \"))\n",
    "edges.append(Edge(\"資料分析 \", \"使用者 B\", label=\"提升服務品質\"))\n",
    "edges.append(Edge(\"注意力、行為與時間 \", \"行為價值再投資循環\"))\n",
    "    \n",
    "for buyer in ['監控資本', '政治力量']:\n",
    "    edges.append(Edge(buyer, '行為未來市場', label='競標'))\n",
    "    \n",
    "for domain in [\"推薦系統\", \"自然語言處理\", \"電腦視覺\"]:\n",
    "    edges.append(Edge(\"深度學習\", domain))\n",
    "\n",
    "for technique in ['臉部辨識', '語音辨識']:\n",
    "    edges.append(Edge(technique, \"影子文本/知識\", label=\"累積\"))\n",
    "        \n",
    "for name, v in nodes.items():\n",
    "    if v.get('group', None) == 'dummy_agent':\n",
    "        edges.append(Edge(society, name))\n",
    "        if '使用者' not in name and '世代' not in name:\n",
    "            edges.append(Edge(god_father, name))\n",
    "        \n",
    "for node, v in nodes.items():\n",
    "    network.add_node(node, **v)\n",
    "\n",
    "for edge in edges:\n",
    "    values = asdict(edge)\n",
    "    render_values = dict(values)\n",
    "    for k, v in values.items():\n",
    "        if not v:\n",
    "            render_values.pop(k)\n",
    "    \n",
    "    # 依據 edge 兩邊的 nodes 設置 edge color\n",
    "    src, to = edge.source, edge.to\n",
    "    src_group, to_group = nodes[src].get('group', 'default'), nodes[to].get('group', 'default')\n",
    "    groups = [src_group, to_group]\n",
    "    if 'sc' in groups:\n",
    "        render_values['color'] = g2color['sc']\n",
    "    elif 'tech' in groups:\n",
    "        render_values['color'] = g2color['tech']\n",
    "            \n",
    "    network.add_edge(**render_values)\n",
    "    \n",
    "# 蒐集 inbound/outbound 鄰居\n",
    "neibors  = {}\n",
    "for d in network.get_edges():\n",
    "    src, tgt = d['from'], d['to']\n",
    "    \n",
    "    l = neibors.get(src, [])\n",
    "    l.append(tgt)\n",
    "    neibors[src] = l\n",
    "    \n",
    "    l2 = neibors.get(tgt, [])\n",
    "    l2.append(src)\n",
    "    neibors[tgt] = l2\n",
    "    \n",
    "# 為每個 node 加上鄰居說明\n",
    "for node in network.nodes:\n",
    "    neibors_text = \"<br>\".join([f'- {t}' for t in neibors[node['label']]])\n",
    "    node['title'] = \"\"\"與 {} 相連實體：<br> {}\"\"\".format(node[\"label\"], neibors_text)\n",
    "\n",
    "network.toggle_physics(True)\n",
    "network.set_options(\"\"\"\n",
    "var options = {\n",
    "  \"nodes\": {\n",
    "    \"font\": {\n",
    "      \"size\": 14\n",
    "    }\n",
    "  },\n",
    "  \"edges\": {\n",
    "    \"color\": {\n",
    "      \"inherit\": true\n",
    "    },\n",
    "    \"font\": {\n",
    "      \"face\": \"tahoma\",\n",
    "      \"size\": 14\n",
    "    },\n",
    "    \"smooth\": {\n",
    "      \"forceDirection\": \"none\",\n",
    "      \"type\": \"dynamic\"\n",
    "    }\n",
    "  },\n",
    "  \"physics\": {\n",
    "    \"minVelocity\": 0.75\n",
    "  },\n",
    "  \"scaling\": {\n",
    "      \"min\": 1,\n",
    "      \"max\": 15\n",
    "  }\n",
    "}\n",
    "\"\"\")\n",
    "# network.show_buttons(filter_=['nodes', 'edges', 'physics'])\n",
    "network.show(pyvis_output_file)"
   ]
  },
  {
   "cell_type": "code",
   "execution_count": 5,
   "metadata": {},
   "outputs": [],
   "source": [
    "#ignore\n",
    "# 客製化 pyvis 輸出 html 的樣式\n",
    "with open(pyvis_output_file, \"r\") as fp:\n",
    "    html = fp.read()\n",
    "    html = html.replace(\"1px solid lightgray\", '0px solid lightgray')\n",
    "    html = html.replace(f'height: {render_height};\\n', '')\n",
    "    html = html.replace(\"background-color: #ffffff;\\n\", '')\n",
    "with open(pyvis_output_file, \"w\") as fp:\n",
    "    fp.write(html)"
   ]
  },
  {
   "cell_type": "code",
   "execution_count": null,
   "metadata": {},
   "outputs": [],
   "source": [
    "#ignore\n",
    "- 複製貼上生成的 html, 手動加入 height = 750"
   ]
  },
  {
   "cell_type": "markdown",
   "metadata": {},
   "source": [
    "<html>\n",
    "<head>\n",
    "<link rel=\"stylesheet\" href=\"https://cdnjs.cloudflare.com/ajax/libs/vis/4.16.1/vis.css\" type=\"text/css\" />\n",
    "<script type=\"text/javascript\" src=\"https://cdnjs.cloudflare.com/ajax/libs/vis/4.16.1/vis-network.min.js\"> </script>\n",
    "<center>\n",
    "<h1></h1>\n",
    "</center>\n",
    "\n",
    "<!-- <link rel=\"stylesheet\" href=\"../node_modules/vis/dist/vis.min.css\" type=\"text/css\" />\n",
    "<script type=\"text/javascript\" src=\"../node_modules/vis/dist/vis.js\"> </script>-->\n",
    "\n",
    "<style type=\"text/css\">\n",
    "\n",
    "        #mynetwork {\n",
    "            width: 100%;\n",
    "            height:750px;\n",
    "            border: 0px solid lightgray;\n",
    "            position: relative;\n",
    "            float: left;\n",
    "        }\n",
    "\n",
    "        \n",
    "\n",
    "        \n",
    "\n",
    "        \n",
    "</style>\n",
    "\n",
    "</head>\n",
    "\n",
    "<body>\n",
    "<div id = \"mynetwork\"></div>\n",
    "\n",
    "\n",
    "<script type=\"text/javascript\">\n",
    "\n",
    "    // initialize global variables.\n",
    "    var edges;\n",
    "    var nodes;\n",
    "    var network; \n",
    "    var container;\n",
    "    var options, data;\n",
    "\n",
    "    \n",
    "    // This method is responsible for drawing the graph, returns the drawn network\n",
    "    function drawGraph() {\n",
    "        var container = document.getElementById('mynetwork');\n",
    "        \n",
    "        \n",
    "\n",
    "        // parsing and collecting nodes and edges from the python\n",
    "        nodes = new vis.DataSet([{\"fid\": \"1DcYj-O2gvG3M-uA65LmeLiB2R5s-oIi_\", \"font\": {\"color\": \"black\"}, \"group\": \"agent\", \"id\": \"\\u4f7f\\u7528\\u8005 A\\uff08\\u4f60\\u6211\\uff09\", \"image\": \"https://raw.githubusercontent.com/leemengtaiwan/leemengtaiwan.github.io/dev/content/images/\\u76e3\\u63a7\\u8cc7\\u672c\\u4e3b\\u7fa9/knowledge-graph/\\u4f7f\\u7528\\u8005.png\", \"img\": \"\\u4f7f\\u7528\\u8005.png\", \"label\": \"\\u4f7f\\u7528\\u8005 A\\uff08\\u4f60\\u6211\\uff09\", \"shape\": \"image\", \"title\": \"\\u8207 \\u4f7f\\u7528\\u8005 A\\uff08\\u4f60\\u6211\\uff09 \\u76f8\\u9023\\u5be6\\u9ad4\\uff1a\\u003cbr\\u003e - \\u516c\\u958b\\u6587\\u672c\\u003cbr\\u003e- \\u6ce8\\u610f\\u529b\\u3001\\u884c\\u70ba\\u8207\\u6642\\u9593\", \"value\": 4}, {\"fid\": \"1DcYj-O2gvG3M-uA65LmeLiB2R5s-oIi_\", \"font\": {\"color\": \"black\"}, \"group\": \"dummy_agent\", \"id\": \"\\u4f7f\\u7528\\u8005 A\\uff08\\u4f60\\u6211\\uff09 \", \"image\": \"https://raw.githubusercontent.com/leemengtaiwan/leemengtaiwan.github.io/dev/content/images/\\u76e3\\u63a7\\u8cc7\\u672c\\u4e3b\\u7fa9/knowledge-graph/\\u4f7f\\u7528\\u8005.png\", \"img\": \"\\u4f7f\\u7528\\u8005.png\", \"label\": \"\\u4f7f\\u7528\\u8005 A\\uff08\\u4f60\\u6211\\uff09 \", \"shape\": \"image\", \"title\": \"\\u8207 \\u4f7f\\u7528\\u8005 A\\uff08\\u4f60\\u6211\\uff09  \\u76f8\\u9023\\u5be6\\u9ad4\\uff1a\\u003cbr\\u003e - \\u793e\\u6703/\\u6a5f\\u5668\\u8702\\u5de2\", \"value\": 1}, {\"fid\": \"1DcYj-O2gvG3M-uA65LmeLiB2R5s-oIi_\", \"font\": {\"color\": \"black\"}, \"group\": \"dummy_agent\", \"id\": \"\\u4e0b\\u500b\\u4e16\\u4ee3\", \"image\": \"https://raw.githubusercontent.com/leemengtaiwan/leemengtaiwan.github.io/dev/content/images/\\u76e3\\u63a7\\u8cc7\\u672c\\u4e3b\\u7fa9/knowledge-graph/\\u4f7f\\u7528\\u8005.png\", \"img\": \"\\u4f7f\\u7528\\u8005.png\", \"label\": \"\\u4e0b\\u500b\\u4e16\\u4ee3\", \"shape\": \"image\", \"title\": \"\\u8207 \\u4e0b\\u500b\\u4e16\\u4ee3 \\u76f8\\u9023\\u5be6\\u9ad4\\uff1a\\u003cbr\\u003e - \\u793e\\u6703/\\u6a5f\\u5668\\u8702\\u5de2\", \"value\": 1}, {\"fid\": \"1DcYj-O2gvG3M-uA65LmeLiB2R5s-oIi_\", \"font\": {\"color\": \"black\"}, \"group\": \"agent\", \"id\": \"\\u4f7f\\u7528\\u8005 B\", \"image\": \"https://raw.githubusercontent.com/leemengtaiwan/leemengtaiwan.github.io/dev/content/images/\\u76e3\\u63a7\\u8cc7\\u672c\\u4e3b\\u7fa9/knowledge-graph/\\u4f7f\\u7528\\u8005.png\", \"img\": \"\\u4f7f\\u7528\\u8005.png\", \"label\": \"\\u4f7f\\u7528\\u8005 B\", \"shape\": \"image\", \"title\": \"\\u8207 \\u4f7f\\u7528\\u8005 B \\u76f8\\u9023\\u5be6\\u9ad4\\uff1a\\u003cbr\\u003e - \\u6ce8\\u610f\\u529b\\u3001\\u884c\\u70ba\\u8207\\u6642\\u9593 \\u003cbr\\u003e- \\u8cc7\\u6599\\u5206\\u6790 \", \"value\": 4}, {\"fid\": \"1Twnpn3tPnWQ1U1lxiQGrQEdNkuQfPnMV\", \"font\": {\"color\": \"black\"}, \"group\": \"agent\", \"id\": \"\\u8c37\\u6b4c\", \"image\": \"https://raw.githubusercontent.com/leemengtaiwan/leemengtaiwan.github.io/dev/content/images/\\u76e3\\u63a7\\u8cc7\\u672c\\u4e3b\\u7fa9/knowledge-graph/\\u8c37\\u6b4c.png\", \"img\": \"\\u8c37\\u6b4c.png\", \"label\": \"\\u8c37\\u6b4c\", \"shape\": \"image\", \"title\": \"\\u8207 \\u8c37\\u6b4c \\u76f8\\u9023\\u5be6\\u9ad4\\uff1a\\u003cbr\\u003e - \\u6ce8\\u610f\\u529b\\u3001\\u884c\\u70ba\\u8207\\u6642\\u9593\\u003cbr\\u003e- \\u5927\\u6578\\u64da\\u003cbr\\u003e- \\u76e3\\u63a7\\u6536\\u76ca\", \"value\": 4}, {\"fid\": \"1nDZChV28WvJTGC4efiYEDbMTuK5jAKgJ\", \"font\": {\"color\": \"black\"}, \"group\": \"agent\", \"id\": \"\\u81c9\\u66f8\", \"image\": \"https://raw.githubusercontent.com/leemengtaiwan/leemengtaiwan.github.io/dev/content/images/\\u76e3\\u63a7\\u8cc7\\u672c\\u4e3b\\u7fa9/knowledge-graph/\\u81c9\\u66f8.png\", \"img\": \"\\u81c9\\u66f8.png\", \"label\": \"\\u81c9\\u66f8\", \"shape\": \"image\", \"title\": \"\\u8207 \\u81c9\\u66f8 \\u76f8\\u9023\\u5be6\\u9ad4\\uff1a\\u003cbr\\u003e - \\u6ce8\\u610f\\u529b\\u3001\\u884c\\u70ba\\u8207\\u6642\\u9593\\u003cbr\\u003e- \\u5927\\u6578\\u64da\\u003cbr\\u003e- \\u76e3\\u63a7\\u6536\\u76ca\", \"value\": 4}, {\"fid\": \"1MCYSxMfE6MWHtqY8IFnQZntux92YbBGR\", \"font\": {\"color\": \"black\"}, \"group\": \"agent\", \"id\": \"\\u63a8\\u7279\", \"image\": \"https://raw.githubusercontent.com/leemengtaiwan/leemengtaiwan.github.io/dev/content/images/\\u76e3\\u63a7\\u8cc7\\u672c\\u4e3b\\u7fa9/knowledge-graph/\\u63a8\\u7279.png\", \"img\": \"\", \"label\": \"\\u63a8\\u7279\", \"shape\": \"image\", \"title\": \"\\u8207 \\u63a8\\u7279 \\u76f8\\u9023\\u5be6\\u9ad4\\uff1a\\u003cbr\\u003e - \\u6ce8\\u610f\\u529b\\u3001\\u884c\\u70ba\\u8207\\u6642\\u9593\\u003cbr\\u003e- \\u5927\\u6578\\u64da\\u003cbr\\u003e- \\u76e3\\u63a7\\u6536\\u76ca\", \"value\": 4}, {\"fid\": \"1HKUgh9HtMdqYQmNo-xezOZbjMbqB_KwS\", \"font\": {\"color\": \"black\"}, \"group\": \"agent\", \"id\": \"\\u653f\\u6cbb\\u529b\\u91cf\", \"image\": \"https://raw.githubusercontent.com/leemengtaiwan/leemengtaiwan.github.io/dev/content/images/\\u76e3\\u63a7\\u8cc7\\u672c\\u4e3b\\u7fa9/knowledge-graph/\\u653f\\u6cbb\\u529b\\u91cf.png\", \"img\": \"\", \"label\": \"\\u653f\\u6cbb\\u529b\\u91cf\", \"shape\": \"image\", \"title\": \"\\u8207 \\u653f\\u6cbb\\u529b\\u91cf \\u76f8\\u9023\\u5be6\\u9ad4\\uff1a\\u003cbr\\u003e - \\u76e3\\u63a7\\u8cc7\\u672c\\u003cbr\\u003e- \\u884c\\u70ba\\u672a\\u4f86\\u5e02\\u5834\", \"value\": 4}, {\"fid\": \"1s0ZFeDBvNOBHBZtkMX6mu3cGSk8Rt9Zw\", \"font\": {\"color\": \"black\"}, \"group\": \"agent\", \"id\": \"\\u76e3\\u63a7\\u8cc7\\u672c\", \"image\": \"https://raw.githubusercontent.com/leemengtaiwan/leemengtaiwan.github.io/dev/content/images/\\u76e3\\u63a7\\u8cc7\\u672c\\u4e3b\\u7fa9/knowledge-graph/\\u76e3\\u63a7\\u8cc7\\u672c.png\", \"img\": \"\", \"label\": \"\\u76e3\\u63a7\\u8cc7\\u672c\", \"shape\": \"image\", \"title\": \"\\u8207 \\u76e3\\u63a7\\u8cc7\\u672c \\u76f8\\u9023\\u5be6\\u9ad4\\uff1a\\u003cbr\\u003e - \\u653f\\u6cbb\\u529b\\u91cf\\u003cbr\\u003e- \\u884c\\u70ba\\u672a\\u4f86\\u5e02\\u5834\", \"value\": 4}, {\"fid\": \"1xyU4R5t5u76FQNFjsTCazVd_Ju2AH7Ji\", \"font\": {\"color\": \"black\"}, \"group\": \"agent\", \"id\": \"\\u8cc7\\u6599\\u79d1\\u5b78\\u5bb6\", \"image\": \"https://raw.githubusercontent.com/leemengtaiwan/leemengtaiwan.github.io/dev/content/images/\\u76e3\\u63a7\\u8cc7\\u672c\\u4e3b\\u7fa9/knowledge-graph/\\u8cc7\\u6599\\u79d1\\u5b78\\u5bb6.png\", \"img\": \"\", \"label\": \"\\u8cc7\\u6599\\u79d1\\u5b78\\u5bb6\", \"shape\": \"image\", \"title\": \"\\u8207 \\u8cc7\\u6599\\u79d1\\u5b78\\u5bb6 \\u76f8\\u9023\\u5be6\\u9ad4\\uff1a\\u003cbr\\u003e - \\u8cc7\\u6599\\u79d1\\u5b78\", \"value\": 4}, {\"fid\": \"1xyU4R5t5u76FQNFjsTCazVd_Ju2AH7Ji\", \"font\": {\"color\": \"black\"}, \"group\": \"dummy_agent\", \"id\": \"\\u8cc7\\u6599\\u79d1\\u5b78\\u5bb6 \", \"image\": \"https://raw.githubusercontent.com/leemengtaiwan/leemengtaiwan.github.io/dev/content/images/\\u76e3\\u63a7\\u8cc7\\u672c\\u4e3b\\u7fa9/knowledge-graph/\\u8cc7\\u6599\\u79d1\\u5b78\\u5bb6.png\", \"img\": \"\", \"label\": \"\\u8cc7\\u6599\\u79d1\\u5b78\\u5bb6 \", \"shape\": \"image\", \"title\": \"\\u8207 \\u8cc7\\u6599\\u79d1\\u5b78\\u5bb6  \\u76f8\\u9023\\u5be6\\u9ad4\\uff1a\\u003cbr\\u003e - \\u793e\\u6703/\\u6a5f\\u5668\\u8702\\u5de2\\u003cbr\\u003e- \\u76e3\\u63a7\\u795e\\u7236\", \"value\": 1}, {\"fid\": \"1Q2hhS3BwCeL-vM0vGEMjIkQZxFroZP-L\", \"font\": {\"color\": \"black\"}, \"group\": \"agent\", \"id\": \"\\u6a5f\\u5668\\u5b78\\u7fd2\\u5de5\\u7a0b\\u5e2b\", \"image\": \"https://raw.githubusercontent.com/leemengtaiwan/leemengtaiwan.github.io/dev/content/images/\\u76e3\\u63a7\\u8cc7\\u672c\\u4e3b\\u7fa9/knowledge-graph/\\u6a5f\\u5668\\u5b78\\u7fd2\\u5de5\\u7a0b\\u5e2b.png\", \"img\": \"\", \"label\": \"\\u6a5f\\u5668\\u5b78\\u7fd2\\u5de5\\u7a0b\\u5e2b\", \"shape\": \"image\", \"title\": \"\\u8207 \\u6a5f\\u5668\\u5b78\\u7fd2\\u5de5\\u7a0b\\u5e2b \\u76f8\\u9023\\u5be6\\u9ad4\\uff1a\\u003cbr\\u003e - \\u6a5f\\u5668\\u5b78\\u7fd2\", \"value\": 4}, {\"fid\": \"1Q2hhS3BwCeL-vM0vGEMjIkQZxFroZP-L\", \"font\": {\"color\": \"black\"}, \"group\": \"dummy_agent\", \"id\": \"\\u6a5f\\u5668\\u5b78\\u7fd2\\u5de5\\u7a0b\\u5e2b \", \"image\": \"https://raw.githubusercontent.com/leemengtaiwan/leemengtaiwan.github.io/dev/content/images/\\u76e3\\u63a7\\u8cc7\\u672c\\u4e3b\\u7fa9/knowledge-graph/\\u6a5f\\u5668\\u5b78\\u7fd2\\u5de5\\u7a0b\\u5e2b.png\", \"img\": \"\", \"label\": \"\\u6a5f\\u5668\\u5b78\\u7fd2\\u5de5\\u7a0b\\u5e2b \", \"shape\": \"image\", \"title\": \"\\u8207 \\u6a5f\\u5668\\u5b78\\u7fd2\\u5de5\\u7a0b\\u5e2b  \\u76f8\\u9023\\u5be6\\u9ad4\\uff1a\\u003cbr\\u003e - \\u793e\\u6703/\\u6a5f\\u5668\\u8702\\u5de2\\u003cbr\\u003e- \\u76e3\\u63a7\\u795e\\u7236\", \"value\": 1}, {\"fid\": \"1GT1RL6OXyNTfZ_G4FilwhGRW47hYEJW_\", \"font\": {\"color\": \"black\"}, \"group\": \"agent\", \"id\": \"\\u8cc7\\u6599\\u5de5\\u7a0b\\u5e2b\", \"image\": \"https://raw.githubusercontent.com/leemengtaiwan/leemengtaiwan.github.io/dev/content/images/\\u76e3\\u63a7\\u8cc7\\u672c\\u4e3b\\u7fa9/knowledge-graph/\\u8cc7\\u6599\\u5de5\\u7a0b\\u5e2b.png\", \"img\": \"\", \"label\": \"\\u8cc7\\u6599\\u5de5\\u7a0b\\u5e2b\", \"shape\": \"image\", \"title\": \"\\u8207 \\u8cc7\\u6599\\u5de5\\u7a0b\\u5e2b \\u76f8\\u9023\\u5be6\\u9ad4\\uff1a\\u003cbr\\u003e - \\u5927\\u6578\\u64da\", \"value\": 4}, {\"fid\": \"1GT1RL6OXyNTfZ_G4FilwhGRW47hYEJW_\", \"font\": {\"color\": \"black\"}, \"group\": \"dummy_agent\", \"id\": \"\\u8cc7\\u6599\\u5de5\\u7a0b\\u5e2b \", \"image\": \"https://raw.githubusercontent.com/leemengtaiwan/leemengtaiwan.github.io/dev/content/images/\\u76e3\\u63a7\\u8cc7\\u672c\\u4e3b\\u7fa9/knowledge-graph/\\u8cc7\\u6599\\u5de5\\u7a0b\\u5e2b.png\", \"img\": \"\", \"label\": \"\\u8cc7\\u6599\\u5de5\\u7a0b\\u5e2b \", \"shape\": \"image\", \"title\": \"\\u8207 \\u8cc7\\u6599\\u5de5\\u7a0b\\u5e2b  \\u76f8\\u9023\\u5be6\\u9ad4\\uff1a\\u003cbr\\u003e - \\u793e\\u6703/\\u6a5f\\u5668\\u8702\\u5de2\\u003cbr\\u003e- \\u76e3\\u63a7\\u795e\\u7236\", \"value\": 1}, {\"fid\": \"15grkRfj5ssYEU21JnQ7LXhL0lAStbvmR\", \"font\": {\"color\": \"black\"}, \"group\": \"agent\", \"id\": \"\\u7a0b\\u5f0f\\u8a2d\\u8a08\\u5e2b\", \"image\": \"https://raw.githubusercontent.com/leemengtaiwan/leemengtaiwan.github.io/dev/content/images/\\u76e3\\u63a7\\u8cc7\\u672c\\u4e3b\\u7fa9/knowledge-graph/\\u7a0b\\u5f0f\\u8a2d\\u8a08\\u5e2b.png\", \"img\": \"\", \"label\": \"\\u7a0b\\u5f0f\\u8a2d\\u8a08\\u5e2b\", \"shape\": \"image\", \"title\": \"\\u8207 \\u7a0b\\u5f0f\\u8a2d\\u8a08\\u5e2b \\u76f8\\u9023\\u5be6\\u9ad4\\uff1a\\u003cbr\\u003e - \\u7269\\u806f\\u7db2\", \"value\": 4}, {\"fid\": \"15grkRfj5ssYEU21JnQ7LXhL0lAStbvmR\", \"font\": {\"color\": \"black\"}, \"group\": \"dummy_agent\", \"id\": \"\\u7a0b\\u5f0f\\u8a2d\\u8a08\\u5e2b \", \"image\": \"https://raw.githubusercontent.com/leemengtaiwan/leemengtaiwan.github.io/dev/content/images/\\u76e3\\u63a7\\u8cc7\\u672c\\u4e3b\\u7fa9/knowledge-graph/\\u7a0b\\u5f0f\\u8a2d\\u8a08\\u5e2b.png\", \"img\": \"\", \"label\": \"\\u7a0b\\u5f0f\\u8a2d\\u8a08\\u5e2b \", \"shape\": \"image\", \"title\": \"\\u8207 \\u7a0b\\u5f0f\\u8a2d\\u8a08\\u5e2b  \\u76f8\\u9023\\u5be6\\u9ad4\\uff1a\\u003cbr\\u003e - \\u793e\\u6703/\\u6a5f\\u5668\\u8702\\u5de2\\u003cbr\\u003e- \\u76e3\\u63a7\\u795e\\u7236\", \"value\": 1}, {\"fid\": \"1W3L1Okw10Exeo0pJn8cP8f4qOTa3Fh6u\", \"font\": {\"color\": \"black\"}, \"group\": \"agent\", \"id\": \"\\u793e\\u6703/\\u6a5f\\u5668\\u8702\\u5de2\", \"image\": \"https://raw.githubusercontent.com/leemengtaiwan/leemengtaiwan.github.io/dev/content/images/\\u76e3\\u63a7\\u8cc7\\u672c\\u4e3b\\u7fa9/knowledge-graph/\\u793e\\u6703.png\", \"img\": \"\", \"label\": \"\\u793e\\u6703/\\u6a5f\\u5668\\u8702\\u5de2\", \"shape\": \"image\", \"title\": \"\\u8207 \\u793e\\u6703/\\u6a5f\\u5668\\u8702\\u5de2 \\u76f8\\u9023\\u5be6\\u9ad4\\uff1a\\u003cbr\\u003e - \\u5927\\u4ed6\\u8005\\u003cbr\\u003e- \\u884c\\u70ba\\u672a\\u4f86\\u5e02\\u5834\\u003cbr\\u003e- \\u4f7f\\u7528\\u8005 A\\uff08\\u4f60\\u6211\\uff09 \\u003cbr\\u003e- \\u4e0b\\u500b\\u4e16\\u4ee3\\u003cbr\\u003e- \\u8cc7\\u6599\\u79d1\\u5b78\\u5bb6 \\u003cbr\\u003e- \\u6a5f\\u5668\\u5b78\\u7fd2\\u5de5\\u7a0b\\u5e2b \\u003cbr\\u003e- \\u8cc7\\u6599\\u5de5\\u7a0b\\u5e2b \\u003cbr\\u003e- \\u7a0b\\u5f0f\\u8a2d\\u8a08\\u5e2b \\u003cbr\\u003e- \\u79d1\\u6280\\u8a2d\\u8a08\\u5e2b \", \"value\": 4}, {\"fid\": \"1Fio2I-oArtdVlo5XqisLZN5fKt_RCCD-\", \"font\": {\"color\": \"red\"}, \"group\": \"sc\", \"id\": \"\\u76e3\\u63a7\\u795e\\u7236\", \"image\": \"https://raw.githubusercontent.com/leemengtaiwan/leemengtaiwan.github.io/dev/content/images/\\u76e3\\u63a7\\u8cc7\\u672c\\u4e3b\\u7fa9/knowledge-graph/\\u76e3\\u63a7\\u795e\\u7236.png\", \"img\": \"\", \"label\": \"\\u76e3\\u63a7\\u795e\\u7236\", \"shape\": \"image\", \"title\": \"\\u8207 \\u76e3\\u63a7\\u795e\\u7236 \\u76f8\\u9023\\u5be6\\u9ad4\\uff1a\\u003cbr\\u003e - \\u8cc7\\u6599\\u79d1\\u5b78\\u5bb6 \\u003cbr\\u003e- \\u6a5f\\u5668\\u5b78\\u7fd2\\u5de5\\u7a0b\\u5e2b \\u003cbr\\u003e- \\u8cc7\\u6599\\u5de5\\u7a0b\\u5e2b \\u003cbr\\u003e- \\u7a0b\\u5f0f\\u8a2d\\u8a08\\u5e2b \\u003cbr\\u003e- \\u79d1\\u6280\\u8a2d\\u8a08\\u5e2b \", \"value\": 5}, {\"fid\": \"1SRs4OU-LzdwOrm-0KZIgDUCFN1Oti0uk\", \"font\": {\"color\": \"black\"}, \"group\": \"agent\", \"id\": \"\\u79d1\\u6280\\u8a2d\\u8a08\\u5e2b\", \"image\": \"https://raw.githubusercontent.com/leemengtaiwan/leemengtaiwan.github.io/dev/content/images/\\u76e3\\u63a7\\u8cc7\\u672c\\u4e3b\\u7fa9/knowledge-graph/\\u79d1\\u6280\\u8a2d\\u8a08\\u5e2b.png\", \"img\": \"\", \"label\": \"\\u79d1\\u6280\\u8a2d\\u8a08\\u5e2b\", \"shape\": \"image\", \"title\": \"\\u8207 \\u79d1\\u6280\\u8a2d\\u8a08\\u5e2b \\u76f8\\u9023\\u5be6\\u9ad4\\uff1a\\u003cbr\\u003e - \\u667a\\u6167\\u97f3\\u7bb1\", \"value\": 4}, {\"fid\": \"1SRs4OU-LzdwOrm-0KZIgDUCFN1Oti0uk\", \"font\": {\"color\": \"black\"}, \"group\": \"dummy_agent\", \"id\": \"\\u79d1\\u6280\\u8a2d\\u8a08\\u5e2b \", \"image\": \"https://raw.githubusercontent.com/leemengtaiwan/leemengtaiwan.github.io/dev/content/images/\\u76e3\\u63a7\\u8cc7\\u672c\\u4e3b\\u7fa9/knowledge-graph/\\u79d1\\u6280\\u8a2d\\u8a08\\u5e2b.png\", \"img\": \"\", \"label\": \"\\u79d1\\u6280\\u8a2d\\u8a08\\u5e2b \", \"shape\": \"image\", \"title\": \"\\u8207 \\u79d1\\u6280\\u8a2d\\u8a08\\u5e2b  \\u76f8\\u9023\\u5be6\\u9ad4\\uff1a\\u003cbr\\u003e - \\u793e\\u6703/\\u6a5f\\u5668\\u8702\\u5de2\\u003cbr\\u003e- \\u76e3\\u63a7\\u795e\\u7236\", \"value\": 1}, {\"fid\": \"11uzyxMNXYo2LosrdTTQg5cayBcB7ENa5\", \"font\": {\"color\": \"red\"}, \"group\": \"sc\", \"id\": \"\\u6fc0\\u9032\\u884c\\u70ba\\u4e3b\\u7fa9\", \"image\": \"https://raw.githubusercontent.com/leemengtaiwan/leemengtaiwan.github.io/dev/content/images/\\u76e3\\u63a7\\u8cc7\\u672c\\u4e3b\\u7fa9/knowledge-graph/\\u6fc0\\u9032\\u884c\\u70ba\\u4e3b\\u7fa9.png\", \"img\": \"\", \"label\": \"\\u6fc0\\u9032\\u884c\\u70ba\\u4e3b\\u7fa9\", \"shape\": \"image\", \"title\": \"\\u8207 \\u6fc0\\u9032\\u884c\\u70ba\\u4e3b\\u7fa9 \\u76f8\\u9023\\u5be6\\u9ad4\\uff1a\\u003cbr\\u003e - \\u76e3\\u63a7\\u8cc7\\u672c\\u4e3b\\u7fa9\", \"value\": 5}, {\"fid\": \"16X6Kj0-o0wWfxw1cMYv5iAVVnx617XP-\", \"font\": {\"color\": \"red\"}, \"group\": \"sc\", \"id\": \"\\u76e3\\u63a7\\u8cc7\\u672c\\u4e3b\\u7fa9\", \"image\": \"https://raw.githubusercontent.com/leemengtaiwan/leemengtaiwan.github.io/dev/content/images/\\u76e3\\u63a7\\u8cc7\\u672c\\u4e3b\\u7fa9/knowledge-graph/\\u76e3\\u63a7\\u8cc7\\u672c\\u4e3b\\u7fa9\\u6642\\u4ee3.jpg\", \"img\": \"\", \"label\": \"\\u76e3\\u63a7\\u8cc7\\u672c\\u4e3b\\u7fa9\", \"shape\": \"image\", \"title\": \"\\u8207 \\u76e3\\u63a7\\u8cc7\\u672c\\u4e3b\\u7fa9 \\u76f8\\u9023\\u5be6\\u9ad4\\uff1a\\u003cbr\\u003e - \\u6fc0\\u9032\\u884c\\u70ba\\u4e3b\\u7fa9\\u003cbr\\u003e- \\u5927\\u4ed6\\u8005\\u003cbr\\u003e- \\u5546\\u696d\\u908f\\u8f2f\\u003cbr\\u003e- \\u884c\\u70ba\\u9810\\u6e2c\\u6a21\\u578b\", \"value\": 7}, {\"fid\": \"1iuGbqN7eHutpGvgEPN-NP1p5_MMOMKAe\", \"font\": {\"color\": \"blue\"}, \"group\": \"tech\", \"id\": \"\\u884c\\u70ba\\u50f9\\u503c\\u518d\\u6295\\u8cc7\\u5faa\\u74b0\", \"image\": \"https://raw.githubusercontent.com/leemengtaiwan/leemengtaiwan.github.io/dev/content/images/\\u76e3\\u63a7\\u8cc7\\u672c\\u4e3b\\u7fa9/knowledge-graph/\\u5176\\u4ed6\\u8cc7\\u8a0a\\u8cc7\\u672c\\u4e3b\\u7fa9.png\", \"img\": \"\", \"label\": \"\\u884c\\u70ba\\u50f9\\u503c\\u518d\\u6295\\u8cc7\\u5faa\\u74b0\", \"shape\": \"image\", \"title\": \"\\u8207 \\u884c\\u70ba\\u50f9\\u503c\\u518d\\u6295\\u8cc7\\u5faa\\u74b0 \\u76f8\\u9023\\u5be6\\u9ad4\\uff1a\\u003cbr\\u003e - \\u5546\\u696d\\u908f\\u8f2f\\u003cbr\\u003e- \\u6578\\u64da\\u5ee2\\u6c23\\u003cbr\\u003e- \\u8cc7\\u6599\\u5206\\u6790 \\u003cbr\\u003e- \\u6ce8\\u610f\\u529b\\u3001\\u884c\\u70ba\\u8207\\u6642\\u9593 \", \"value\": 1}, {\"fid\": \"1TgHDz43bs5VPFs-k0bvZY9uf0X7W5UE6\", \"font\": {\"color\": \"blue\"}, \"group\": \"tech\", \"id\": \"\\u6578\\u64da\\u5ee2\\u6c23\", \"image\": \"https://raw.githubusercontent.com/leemengtaiwan/leemengtaiwan.github.io/dev/content/images/\\u76e3\\u63a7\\u8cc7\\u672c\\u4e3b\\u7fa9/knowledge-graph/\\u6578\\u64da\\u5ee2\\u6c23.png\", \"img\": \"\", \"label\": \"\\u6578\\u64da\\u5ee2\\u6c23\", \"shape\": \"image\", \"title\": \"\\u8207 \\u6578\\u64da\\u5ee2\\u6c23 \\u76f8\\u9023\\u5be6\\u9ad4\\uff1a\\u003cbr\\u003e - \\u884c\\u70ba\\u50f9\\u503c\\u518d\\u6295\\u8cc7\\u5faa\\u74b0\", \"value\": 1}, {\"fid\": \"1tGpWGAlIYPK5Hrr3gdxFwXuZD1s-TWIe\", \"font\": {\"color\": \"red\"}, \"group\": \"sc\", \"id\": \"\\u5546\\u696d\\u908f\\u8f2f\", \"image\": \"https://raw.githubusercontent.com/leemengtaiwan/leemengtaiwan.github.io/dev/content/images/\\u76e3\\u63a7\\u8cc7\\u672c\\u4e3b\\u7fa9/knowledge-graph/\\u5546\\u696d\\u6a21\\u5f0f.jpg\", \"img\": \"\", \"label\": \"\\u5546\\u696d\\u908f\\u8f2f\", \"shape\": \"image\", \"title\": \"\\u8207 \\u5546\\u696d\\u908f\\u8f2f \\u76f8\\u9023\\u5be6\\u9ad4\\uff1a\\u003cbr\\u003e - \\u76e3\\u63a7\\u8cc7\\u672c\\u4e3b\\u7fa9\\u003cbr\\u003e- \\u884c\\u70ba\\u50f9\\u503c\\u518d\\u6295\\u8cc7\\u5faa\\u74b0\", \"value\": 5}, {\"fid\": \"1M2Nw_aK01yfaqdUYeZ4jbBeb-WM-tiRq\", \"font\": {\"color\": \"red\"}, \"group\": \"sc\", \"id\": \"\\u884c\\u70ba\\u9810\\u6e2c\\u6a21\\u578b\", \"image\": \"https://raw.githubusercontent.com/leemengtaiwan/leemengtaiwan.github.io/dev/content/images/\\u76e3\\u63a7\\u8cc7\\u672c\\u4e3b\\u7fa9/knowledge-graph/\\u884c\\u70ba\\u9810\\u6e2c\\u6a21\\u578b.png\", \"img\": \"\", \"label\": \"\\u884c\\u70ba\\u9810\\u6e2c\\u6a21\\u578b\", \"shape\": \"image\", \"title\": \"\\u8207 \\u884c\\u70ba\\u9810\\u6e2c\\u6a21\\u578b \\u76f8\\u9023\\u5be6\\u9ad4\\uff1a\\u003cbr\\u003e - \\u76e3\\u63a7\\u8cc7\\u672c\\u4e3b\\u7fa9\\u003cbr\\u003e- \\u5168\\u65b0\\u751f\\u7522\\u624b\\u6bb5\\u003cbr\\u003e- \\u884c\\u70ba\\u672a\\u4f86\\u5e02\\u5834\", \"value\": 5}, {\"fid\": \"1jowkMalc5GjsU9xcWsaYDpP5FJPFdYBj\", \"font\": {\"color\": \"red\"}, \"group\": \"sc\", \"id\": \"\\u5927\\u4ed6\\u8005\", \"image\": \"https://raw.githubusercontent.com/leemengtaiwan/leemengtaiwan.github.io/dev/content/images/\\u76e3\\u63a7\\u8cc7\\u672c\\u4e3b\\u7fa9/knowledge-graph/\\u5927\\u4ed6\\u8005.jpg\", \"img\": \"\", \"label\": \"\\u5927\\u4ed6\\u8005\", \"shape\": \"image\", \"title\": \"\\u8207 \\u5927\\u4ed6\\u8005 \\u76f8\\u9023\\u5be6\\u9ad4\\uff1a\\u003cbr\\u003e - \\u76e3\\u63a7\\u8cc7\\u672c\\u4e3b\\u7fa9\\u003cbr\\u003e- \\u793e\\u6703/\\u6a5f\\u5668\\u8702\\u5de2\", \"value\": 5}, {\"fid\": \"1ei0DhBFVx36MBQDgTP8hb228gE7aJNoS\", \"font\": {\"color\": \"red\"}, \"group\": \"sc\", \"id\": \"\\u884c\\u70ba\\u672a\\u4f86\\u5e02\\u5834\", \"image\": \"https://raw.githubusercontent.com/leemengtaiwan/leemengtaiwan.github.io/dev/content/images/\\u76e3\\u63a7\\u8cc7\\u672c\\u4e3b\\u7fa9/knowledge-graph/\\u884c\\u70ba\\u672a\\u4f86\\u5e02\\u5834.png\", \"img\": \"\", \"label\": \"\\u884c\\u70ba\\u672a\\u4f86\\u5e02\\u5834\", \"shape\": \"image\", \"title\": \"\\u8207 \\u884c\\u70ba\\u672a\\u4f86\\u5e02\\u5834 \\u76f8\\u9023\\u5be6\\u9ad4\\uff1a\\u003cbr\\u003e - \\u793e\\u6703/\\u6a5f\\u5668\\u8702\\u5de2\\u003cbr\\u003e- \\u884c\\u70ba\\u9810\\u6e2c\\u6a21\\u578b\\u003cbr\\u003e- \\u76e3\\u63a7\\u6536\\u76ca\\u003cbr\\u003e- \\u76e3\\u63a7\\u8cc7\\u672c\\u003cbr\\u003e- \\u653f\\u6cbb\\u529b\\u91cf\", \"value\": 5}, {\"fid\": \"159XsvGjsmHELLq_Zl7IUQTlL-oRbG1CL\", \"font\": {\"color\": \"red\"}, \"group\": \"sc\", \"id\": \"\\u884c\\u70ba\\u5269\\u9918\", \"image\": \"https://raw.githubusercontent.com/leemengtaiwan/leemengtaiwan.github.io/dev/content/images/\\u76e3\\u63a7\\u8cc7\\u672c\\u4e3b\\u7fa9/knowledge-graph/\\u884c\\u70ba\\u5269\\u9918.png\", \"img\": \"\", \"label\": \"\\u884c\\u70ba\\u5269\\u9918\", \"shape\": \"image\", \"title\": \"\\u8207 \\u884c\\u70ba\\u5269\\u9918 \\u76f8\\u9023\\u5be6\\u9ad4\\uff1a\\u003cbr\\u003e - \\u5f71\\u5b50\\u6587\\u672c/\\u77e5\\u8b58\\u003cbr\\u003e- \\u5168\\u65b0\\u751f\\u7522\\u624b\\u6bb5\", \"value\": 5}, {\"fid\": \"1BiBTO26BoaljQBtzgWUdV25Zwc_nuZOd\", \"font\": {\"color\": \"red\"}, \"group\": \"sc\", \"id\": \"\\u5168\\u65b0\\u751f\\u7522\\u624b\\u6bb5\", \"image\": \"https://raw.githubusercontent.com/leemengtaiwan/leemengtaiwan.github.io/dev/content/images/\\u76e3\\u63a7\\u8cc7\\u672c\\u4e3b\\u7fa9/knowledge-graph/\\u5168\\u65b0\\u751f\\u7522\\u624b\\u6bb5.png\", \"img\": \"\", \"label\": \"\\u5168\\u65b0\\u751f\\u7522\\u624b\\u6bb5\", \"shape\": \"image\", \"title\": \"\\u8207 \\u5168\\u65b0\\u751f\\u7522\\u624b\\u6bb5 \\u76f8\\u9023\\u5be6\\u9ad4\\uff1a\\u003cbr\\u003e - \\u8cc7\\u8a0a\\u79d1\\u6280\\u003cbr\\u003e- \\u8cc7\\u6599\\u5206\\u6790\\u003cbr\\u003e- AB\\u6e2c\\u8a66\\u003cbr\\u003e- \\u8cc7\\u6599\\u79d1\\u5b78\\u003cbr\\u003e- \\u884c\\u70ba\\u9810\\u6e2c\\u6a21\\u578b\\u003cbr\\u003e- \\u4e92\\u52d5/\\u884c\\u70ba\\u9810\\u6e2c\\u003cbr\\u003e- \\u884c\\u70ba\\u5269\\u9918\", \"value\": 5}, {\"fid\": \"1WgFi9hD2E2BnOYFRgzscoIg7dQNCSCss\", \"font\": {\"color\": \"red\"}, \"group\": \"sc\", \"id\": \"\\u76e3\\u63a7\\u6536\\u76ca\", \"image\": \"https://raw.githubusercontent.com/leemengtaiwan/leemengtaiwan.github.io/dev/content/images/\\u76e3\\u63a7\\u8cc7\\u672c\\u4e3b\\u7fa9/knowledge-graph/\\u76e3\\u63a7\\u6536\\u76ca.png\", \"img\": \"\", \"label\": \"\\u76e3\\u63a7\\u6536\\u76ca\", \"shape\": \"image\", \"title\": \"\\u8207 \\u76e3\\u63a7\\u6536\\u76ca \\u76f8\\u9023\\u5be6\\u9ad4\\uff1a\\u003cbr\\u003e - \\u884c\\u70ba\\u672a\\u4f86\\u5e02\\u5834\\u003cbr\\u003e- \\u8c37\\u6b4c\\u003cbr\\u003e- \\u81c9\\u66f8\\u003cbr\\u003e- \\u63a8\\u7279\", \"value\": 7}, {\"fid\": \"1J7Nrr2Z_3nkJkbHEhDotgqYq_MP1UPip\", \"font\": {\"color\": \"blue\"}, \"id\": \"\\u6ce8\\u610f\\u529b\\u3001\\u884c\\u70ba\\u8207\\u6642\\u9593\", \"image\": \"https://raw.githubusercontent.com/leemengtaiwan/leemengtaiwan.github.io/dev/content/images/\\u76e3\\u63a7\\u8cc7\\u672c\\u4e3b\\u7fa9/knowledge-graph/\\u6ce8\\u610f\\u529b\\u8207\\u6642\\u9593.png\", \"img\": \"\", \"label\": \"\\u6ce8\\u610f\\u529b\\u3001\\u884c\\u70ba\\u8207\\u6642\\u9593\", \"shape\": \"image\", \"title\": \"\\u8207 \\u6ce8\\u610f\\u529b\\u3001\\u884c\\u70ba\\u8207\\u6642\\u9593 \\u76f8\\u9023\\u5be6\\u9ad4\\uff1a\\u003cbr\\u003e - \\u4f7f\\u7528\\u8005 A\\uff08\\u4f60\\u6211\\uff09\\u003cbr\\u003e- \\u8c37\\u6b4c\\u003cbr\\u003e- \\u81c9\\u66f8\\u003cbr\\u003e- \\u63a8\\u7279\", \"value\": 5}, {\"fid\": \"1J7Nrr2Z_3nkJkbHEhDotgqYq_MP1UPip\", \"font\": {\"color\": \"blue\"}, \"id\": \"\\u6ce8\\u610f\\u529b\\u3001\\u884c\\u70ba\\u8207\\u6642\\u9593 \", \"image\": \"https://raw.githubusercontent.com/leemengtaiwan/leemengtaiwan.github.io/dev/content/images/\\u76e3\\u63a7\\u8cc7\\u672c\\u4e3b\\u7fa9/knowledge-graph/\\u6ce8\\u610f\\u529b\\u8207\\u6642\\u9593.png\", \"img\": \"\", \"label\": \"\\u6ce8\\u610f\\u529b\\u3001\\u884c\\u70ba\\u8207\\u6642\\u9593 \", \"shape\": \"image\", \"title\": \"\\u8207 \\u6ce8\\u610f\\u529b\\u3001\\u884c\\u70ba\\u8207\\u6642\\u9593  \\u76f8\\u9023\\u5be6\\u9ad4\\uff1a\\u003cbr\\u003e - \\u4f7f\\u7528\\u8005 B\\u003cbr\\u003e- \\u884c\\u70ba\\u50f9\\u503c\\u518d\\u6295\\u8cc7\\u5faa\\u74b0\", \"value\": 5}, {\"fid\": \"1Bem-_uetEmwQ3lMsQCtQgrykSYii8_7I\", \"font\": {\"color\": \"blue\"}, \"group\": \"tech\", \"id\": \"\\u8cc7\\u8a0a\\u79d1\\u6280\", \"image\": \"https://raw.githubusercontent.com/leemengtaiwan/leemengtaiwan.github.io/dev/content/images/\\u76e3\\u63a7\\u8cc7\\u672c\\u4e3b\\u7fa9/knowledge-graph/\\u79d1\\u6280.jpg\", \"img\": \"\", \"label\": \"\\u8cc7\\u8a0a\\u79d1\\u6280\", \"shape\": \"image\", \"title\": \"\\u8207 \\u8cc7\\u8a0a\\u79d1\\u6280 \\u76f8\\u9023\\u5be6\\u9ad4\\uff1a\\u003cbr\\u003e - \\u5168\\u65b0\\u751f\\u7522\\u624b\\u6bb5\\u003cbr\\u003e- \\u5927\\u6578\\u64da\", \"value\": 3}, {\"fid\": \"1fiKgB8FjgiWbBPfgDRzlNv0RgtE8hr52\", \"font\": {\"color\": \"blue\"}, \"group\": \"tech\", \"id\": \"\\u5927\\u6578\\u64da\", \"image\": \"https://raw.githubusercontent.com/leemengtaiwan/leemengtaiwan.github.io/dev/content/images/\\u76e3\\u63a7\\u8cc7\\u672c\\u4e3b\\u7fa9/knowledge-graph/\\u5927\\u6578\\u64da.jpg\", \"img\": \"\", \"label\": \"\\u5927\\u6578\\u64da\", \"shape\": \"image\", \"title\": \"\\u8207 \\u5927\\u6578\\u64da \\u76f8\\u9023\\u5be6\\u9ad4\\uff1a\\u003cbr\\u003e - \\u8cc7\\u8a0a\\u79d1\\u6280\\u003cbr\\u003e- \\u8cc7\\u6599\\u5de5\\u7a0b\\u5e2b\\u003cbr\\u003e- \\u7269\\u806f\\u7db2\\u003cbr\\u003e- \\u516c\\u958b\\u6587\\u672c\\u003cbr\\u003e- \\u5f71\\u5b50\\u6587\\u672c/\\u77e5\\u8b58\\u003cbr\\u003e- \\u8c37\\u6b4c\\u003cbr\\u003e- \\u81c9\\u66f8\\u003cbr\\u003e- \\u63a8\\u7279\", \"value\": 3}, {\"fid\": \"19M_rPCDxSOWDWv57HUBYENXgf13oYg47\", \"font\": {\"color\": \"blue\"}, \"group\": \"tech\", \"id\": \"\\u516c\\u958b\\u6587\\u672c\", \"image\": \"https://raw.githubusercontent.com/leemengtaiwan/leemengtaiwan.github.io/dev/content/images/\\u76e3\\u63a7\\u8cc7\\u672c\\u4e3b\\u7fa9/knowledge-graph/\\u516c\\u958b\\u6587\\u672c.png\", \"img\": \"\", \"label\": \"\\u516c\\u958b\\u6587\\u672c\", \"shape\": \"image\", \"title\": \"\\u8207 \\u516c\\u958b\\u6587\\u672c \\u76f8\\u9023\\u5be6\\u9ad4\\uff1a\\u003cbr\\u003e - \\u4f7f\\u7528\\u8005 A\\uff08\\u4f60\\u6211\\uff09\\u003cbr\\u003e- \\u5927\\u6578\\u64da\", \"value\": 1}, {\"fid\": \"12S1tFNxmydt43VeEImIkhI5WGICVIXE-\", \"font\": {\"color\": \"red\"}, \"group\": \"sc\", \"id\": \"\\u5f71\\u5b50\\u6587\\u672c/\\u77e5\\u8b58\", \"image\": \"https://raw.githubusercontent.com/leemengtaiwan/leemengtaiwan.github.io/dev/content/images/\\u76e3\\u63a7\\u8cc7\\u672c\\u4e3b\\u7fa9/knowledge-graph/\\u5f71\\u5b50\\u6587\\u672c.png\", \"img\": \"\", \"label\": \"\\u5f71\\u5b50\\u6587\\u672c/\\u77e5\\u8b58\", \"shape\": \"image\", \"title\": \"\\u8207 \\u5f71\\u5b50\\u6587\\u672c/\\u77e5\\u8b58 \\u76f8\\u9023\\u5be6\\u9ad4\\uff1a\\u003cbr\\u003e - \\u884c\\u70ba\\u5269\\u9918\\u003cbr\\u003e- \\u5927\\u6578\\u64da\\u003cbr\\u003e- \\u81c9\\u90e8\\u8fa8\\u8b58\\u003cbr\\u003e- \\u8a9e\\u97f3\\u8fa8\\u8b58\", \"value\": 7}, {\"fid\": \"1AWOBWlCCXl2Ifb6quVqFfLL7NcpTCbKM\", \"font\": {\"color\": \"blue\"}, \"group\": \"tech\", \"id\": \"\\u7269\\u806f\\u7db2\", \"image\": \"https://raw.githubusercontent.com/leemengtaiwan/leemengtaiwan.github.io/dev/content/images/\\u76e3\\u63a7\\u8cc7\\u672c\\u4e3b\\u7fa9/knowledge-graph/\\u7269\\u806f\\u7db2.jpg\", \"img\": \"\", \"label\": \"\\u7269\\u806f\\u7db2\", \"shape\": \"image\", \"title\": \"\\u8207 \\u7269\\u806f\\u7db2 \\u76f8\\u9023\\u5be6\\u9ad4\\uff1a\\u003cbr\\u003e - \\u5927\\u6578\\u64da\\u003cbr\\u003e- \\u7a0b\\u5f0f\\u8a2d\\u8a08\\u5e2b\\u003cbr\\u003e- \\u667a\\u6167\\u97f3\\u7bb1\", \"value\": 1}, {\"fid\": \"1-HW1XVNKes5x0umFLkQ11lgUiRodun3G\", \"font\": {\"color\": \"blue\"}, \"group\": \"tech\", \"id\": \"\\u8cc7\\u6599\\u79d1\\u5b78\", \"image\": \"https://raw.githubusercontent.com/leemengtaiwan/leemengtaiwan.github.io/dev/content/images/\\u76e3\\u63a7\\u8cc7\\u672c\\u4e3b\\u7fa9/knowledge-graph/\\u8cc7\\u6599\\u79d1\\u5b78.jpg\", \"img\": \"\", \"label\": \"\\u8cc7\\u6599\\u79d1\\u5b78\", \"shape\": \"image\", \"title\": \"\\u8207 \\u8cc7\\u6599\\u79d1\\u5b78 \\u76f8\\u9023\\u5be6\\u9ad4\\uff1a\\u003cbr\\u003e - \\u4eba\\u5de5\\u667a\\u6167\\u003cbr\\u003e- \\u8cc7\\u6599\\u5206\\u6790\\u003cbr\\u003e- AB\\u6e2c\\u8a66\\u003cbr\\u003e- \\u8cc7\\u6599\\u79d1\\u5b78\\u5bb6\\u003cbr\\u003e- \\u5168\\u65b0\\u751f\\u7522\\u624b\\u6bb5\", \"value\": 1}, {\"fid\": \"1TzQCtWYeJx6e2AVQmxyZm2Qfy4BZv1wm\", \"font\": {\"color\": \"blue\"}, \"group\": \"tech\", \"id\": \"\\u8cc7\\u6599\\u5206\\u6790\", \"image\": \"https://raw.githubusercontent.com/leemengtaiwan/leemengtaiwan.github.io/dev/content/images/\\u76e3\\u63a7\\u8cc7\\u672c\\u4e3b\\u7fa9/knowledge-graph/\\u63a2\\u7d22\\u6027\\u8cc7\\u6599\\u5206\\u6790.jpg\", \"img\": \"\", \"label\": \"\\u8cc7\\u6599\\u5206\\u6790\", \"shape\": \"image\", \"title\": \"\\u8207 \\u8cc7\\u6599\\u5206\\u6790 \\u76f8\\u9023\\u5be6\\u9ad4\\uff1a\\u003cbr\\u003e - \\u8cc7\\u6599\\u79d1\\u5b78\\u003cbr\\u003e- \\u5168\\u65b0\\u751f\\u7522\\u624b\\u6bb5\", \"value\": 1}, {\"fid\": \"1TzQCtWYeJx6e2AVQmxyZm2Qfy4BZv1wm\", \"font\": {\"color\": \"blue\"}, \"group\": \"tech\", \"id\": \"\\u8cc7\\u6599\\u5206\\u6790 \", \"image\": \"https://raw.githubusercontent.com/leemengtaiwan/leemengtaiwan.github.io/dev/content/images/\\u76e3\\u63a7\\u8cc7\\u672c\\u4e3b\\u7fa9/knowledge-graph/\\u63a2\\u7d22\\u6027\\u8cc7\\u6599\\u5206\\u6790.jpg\", \"img\": \"\", \"label\": \"\\u8cc7\\u6599\\u5206\\u6790 \", \"shape\": \"image\", \"title\": \"\\u8207 \\u8cc7\\u6599\\u5206\\u6790  \\u76f8\\u9023\\u5be6\\u9ad4\\uff1a\\u003cbr\\u003e - \\u884c\\u70ba\\u50f9\\u503c\\u518d\\u6295\\u8cc7\\u5faa\\u74b0\\u003cbr\\u003e- \\u4f7f\\u7528\\u8005 B\", \"value\": 1}, {\"fid\": \"18CgvWVkmlTcgAGgaT-vTEb6dmO0nURLI\", \"font\": {\"color\": \"blue\"}, \"group\": \"tech\", \"id\": \"AB\\u6e2c\\u8a66\", \"image\": \"https://raw.githubusercontent.com/leemengtaiwan/leemengtaiwan.github.io/dev/content/images/\\u76e3\\u63a7\\u8cc7\\u672c\\u4e3b\\u7fa9/knowledge-graph/AB\\u6e2c\\u8a66.png\", \"img\": \"\", \"label\": \"AB\\u6e2c\\u8a66\", \"shape\": \"image\", \"title\": \"\\u8207 AB\\u6e2c\\u8a66 \\u76f8\\u9023\\u5be6\\u9ad4\\uff1a\\u003cbr\\u003e - \\u8cc7\\u6599\\u79d1\\u5b78\\u003cbr\\u003e- \\u5168\\u65b0\\u751f\\u7522\\u624b\\u6bb5\", \"value\": 1}, {\"fid\": \"1N_SqURgDIerhu21IisRZIjjN3kh8hiZV\", \"font\": {\"color\": \"blue\"}, \"group\": \"tech\", \"id\": \"\\u4eba\\u5de5\\u667a\\u6167\", \"image\": \"https://raw.githubusercontent.com/leemengtaiwan/leemengtaiwan.github.io/dev/content/images/\\u76e3\\u63a7\\u8cc7\\u672c\\u4e3b\\u7fa9/knowledge-graph/\\u4eba\\u5de5\\u667a\\u6167.jpg\", \"img\": \"\", \"label\": \"\\u4eba\\u5de5\\u667a\\u6167\", \"shape\": \"image\", \"title\": \"\\u8207 \\u4eba\\u5de5\\u667a\\u6167 \\u76f8\\u9023\\u5be6\\u9ad4\\uff1a\\u003cbr\\u003e - \\u8cc7\\u6599\\u79d1\\u5b78\\u003cbr\\u003e- \\u6a5f\\u5668\\u5b78\\u7fd2\", \"value\": 1}, {\"fid\": \"1Ods_a_SfLaVTSmemeJyMrFl6ZjTAReP_\", \"font\": {\"color\": \"blue\"}, \"group\": \"tech\", \"id\": \"\\u6a5f\\u5668\\u5b78\\u7fd2\", \"image\": \"https://raw.githubusercontent.com/leemengtaiwan/leemengtaiwan.github.io/dev/content/images/\\u76e3\\u63a7\\u8cc7\\u672c\\u4e3b\\u7fa9/knowledge-graph/\\u6a5f\\u5668\\u5b78\\u7fd2.png\", \"img\": \"\", \"label\": \"\\u6a5f\\u5668\\u5b78\\u7fd2\", \"shape\": \"image\", \"title\": \"\\u8207 \\u6a5f\\u5668\\u5b78\\u7fd2 \\u76f8\\u9023\\u5be6\\u9ad4\\uff1a\\u003cbr\\u003e - \\u4eba\\u5de5\\u667a\\u6167\\u003cbr\\u003e- \\u6df1\\u5ea6\\u5b78\\u7fd2\\u003cbr\\u003e- \\u6a5f\\u5668\\u5b78\\u7fd2\\u5de5\\u7a0b\\u5e2b\", \"value\": 1}, {\"fid\": \"1p34c2K-Ieik9vsnPMicmIy2U0FEDBi8v\", \"font\": {\"color\": \"blue\"}, \"group\": \"tech\", \"id\": \"\\u6df1\\u5ea6\\u5b78\\u7fd2\", \"image\": \"https://raw.githubusercontent.com/leemengtaiwan/leemengtaiwan.github.io/dev/content/images/\\u76e3\\u63a7\\u8cc7\\u672c\\u4e3b\\u7fa9/knowledge-graph/\\u6df1\\u5ea6\\u5b78\\u7fd2.jpeg\", \"img\": \"\", \"label\": \"\\u6df1\\u5ea6\\u5b78\\u7fd2\", \"shape\": \"image\", \"title\": \"\\u8207 \\u6df1\\u5ea6\\u5b78\\u7fd2 \\u76f8\\u9023\\u5be6\\u9ad4\\uff1a\\u003cbr\\u003e - \\u6a5f\\u5668\\u5b78\\u7fd2\\u003cbr\\u003e- \\u63a8\\u85a6\\u7cfb\\u7d71\\u003cbr\\u003e- \\u81ea\\u7136\\u8a9e\\u8a00\\u8655\\u7406\\u003cbr\\u003e- \\u96fb\\u8166\\u8996\\u89ba\", \"value\": 1}, {\"fid\": \"1io43NIQPwevrqEalsxfK4xLTMk7fWmFY\", \"font\": {\"color\": \"blue\"}, \"group\": \"tech\", \"id\": \"\\u63a8\\u85a6\\u7cfb\\u7d71\", \"image\": \"https://raw.githubusercontent.com/leemengtaiwan/leemengtaiwan.github.io/dev/content/images/\\u76e3\\u63a7\\u8cc7\\u672c\\u4e3b\\u7fa9/knowledge-graph/\\u63a8\\u85a6\\u7cfb\\u7d71.png\", \"img\": \"\", \"label\": \"\\u63a8\\u85a6\\u7cfb\\u7d71\", \"shape\": \"image\", \"title\": \"\\u8207 \\u63a8\\u85a6\\u7cfb\\u7d71 \\u76f8\\u9023\\u5be6\\u9ad4\\uff1a\\u003cbr\\u003e - \\u4e92\\u52d5/\\u884c\\u70ba\\u9810\\u6e2c\\u003cbr\\u003e- \\u6df1\\u5ea6\\u5b78\\u7fd2\", \"value\": 1}, {\"fid\": \"1iNdWdXjYYXILY3nVR6LBLFmc9hkpoPTW\", \"font\": {\"color\": \"blue\"}, \"group\": \"tech\", \"id\": \"\\u4e92\\u52d5/\\u884c\\u70ba\\u9810\\u6e2c\", \"image\": \"https://raw.githubusercontent.com/leemengtaiwan/leemengtaiwan.github.io/dev/content/images/\\u76e3\\u63a7\\u8cc7\\u672c\\u4e3b\\u7fa9/knowledge-graph/\\u9ede\\u64ca\\u7387\\u9810\\u6e2c.jpg\", \"img\": \"\", \"label\": \"\\u4e92\\u52d5/\\u884c\\u70ba\\u9810\\u6e2c\", \"shape\": \"image\", \"title\": \"\\u8207 \\u4e92\\u52d5/\\u884c\\u70ba\\u9810\\u6e2c \\u76f8\\u9023\\u5be6\\u9ad4\\uff1a\\u003cbr\\u003e - \\u63a8\\u85a6\\u7cfb\\u7d71\\u003cbr\\u003e- \\u5168\\u65b0\\u751f\\u7522\\u624b\\u6bb5\", \"value\": 1}, {\"fid\": \"1H9hLcOkVu5Csuxs9sTNDl5IjBch8x9RM\", \"font\": {\"color\": \"blue\"}, \"group\": \"tech\", \"id\": \"\\u81ea\\u7136\\u8a9e\\u8a00\\u8655\\u7406\", \"image\": \"https://raw.githubusercontent.com/leemengtaiwan/leemengtaiwan.github.io/dev/content/images/\\u76e3\\u63a7\\u8cc7\\u672c\\u4e3b\\u7fa9/knowledge-graph/\\u81ea\\u7136\\u8a9e\\u8a00\\u8655\\u7406.png\", \"img\": \"\", \"label\": \"\\u81ea\\u7136\\u8a9e\\u8a00\\u8655\\u7406\", \"shape\": \"image\", \"title\": \"\\u8207 \\u81ea\\u7136\\u8a9e\\u8a00\\u8655\\u7406 \\u76f8\\u9023\\u5be6\\u9ad4\\uff1a\\u003cbr\\u003e - \\u8a9e\\u97f3\\u8fa8\\u8b58\\u003cbr\\u003e- \\u6df1\\u5ea6\\u5b78\\u7fd2\", \"value\": 1}, {\"fid\": \"1oDe8EXFcP9ClvCaVO3_zzVCe9_ngpJqP\", \"font\": {\"color\": \"blue\"}, \"group\": \"tech\", \"id\": \"\\u8a9e\\u97f3\\u8fa8\\u8b58\", \"image\": \"https://raw.githubusercontent.com/leemengtaiwan/leemengtaiwan.github.io/dev/content/images/\\u76e3\\u63a7\\u8cc7\\u672c\\u4e3b\\u7fa9/knowledge-graph/\\u8a9e\\u97f3\\u8fa8\\u8b58.png\", \"img\": \"\", \"label\": \"\\u8a9e\\u97f3\\u8fa8\\u8b58\", \"shape\": \"image\", \"title\": \"\\u8207 \\u8a9e\\u97f3\\u8fa8\\u8b58 \\u76f8\\u9023\\u5be6\\u9ad4\\uff1a\\u003cbr\\u003e - \\u81ea\\u7136\\u8a9e\\u8a00\\u8655\\u7406\\u003cbr\\u003e- \\u667a\\u6167\\u97f3\\u7bb1\\u003cbr\\u003e- \\u5f71\\u5b50\\u6587\\u672c/\\u77e5\\u8b58\", \"value\": 1}, {\"fid\": \"1s_ZnAIIgkOkxODvVrCqGi1bT2bpIsMX-\", \"font\": {\"color\": \"blue\"}, \"group\": \"tech\", \"id\": \"\\u667a\\u6167\\u97f3\\u7bb1\", \"image\": \"https://raw.githubusercontent.com/leemengtaiwan/leemengtaiwan.github.io/dev/content/images/\\u76e3\\u63a7\\u8cc7\\u672c\\u4e3b\\u7fa9/knowledge-graph/\\u667a\\u6167\\u97f3\\u7bb1.png\", \"img\": \"\", \"label\": \"\\u667a\\u6167\\u97f3\\u7bb1\", \"shape\": \"image\", \"title\": \"\\u8207 \\u667a\\u6167\\u97f3\\u7bb1 \\u76f8\\u9023\\u5be6\\u9ad4\\uff1a\\u003cbr\\u003e - \\u8a9e\\u97f3\\u8fa8\\u8b58\\u003cbr\\u003e- \\u7269\\u806f\\u7db2\\u003cbr\\u003e- \\u79d1\\u6280\\u8a2d\\u8a08\\u5e2b\", \"value\": 1}, {\"fid\": \"1iRG_NpjA1j8T6vp4lQYD0CFbnvnvupQj\", \"font\": {\"color\": \"blue\"}, \"group\": \"tech\", \"id\": \"\\u96fb\\u8166\\u8996\\u89ba\", \"image\": \"https://raw.githubusercontent.com/leemengtaiwan/leemengtaiwan.github.io/dev/content/images/\\u76e3\\u63a7\\u8cc7\\u672c\\u4e3b\\u7fa9/knowledge-graph/\\u96fb\\u8166\\u8996\\u89ba.png\", \"img\": \"\", \"label\": \"\\u96fb\\u8166\\u8996\\u89ba\", \"shape\": \"image\", \"title\": \"\\u8207 \\u96fb\\u8166\\u8996\\u89ba \\u76f8\\u9023\\u5be6\\u9ad4\\uff1a\\u003cbr\\u003e - \\u81c9\\u90e8\\u8fa8\\u8b58\\u003cbr\\u003e- \\u6df1\\u5ea6\\u5b78\\u7fd2\", \"value\": 1}, {\"fid\": \"14Zep8RptfmK60H2a1ehEpws4GP3xMeqh\", \"font\": {\"color\": \"blue\"}, \"group\": \"tech\", \"id\": \"\\u81c9\\u90e8\\u8fa8\\u8b58\", \"image\": \"https://raw.githubusercontent.com/leemengtaiwan/leemengtaiwan.github.io/dev/content/images/\\u76e3\\u63a7\\u8cc7\\u672c\\u4e3b\\u7fa9/knowledge-graph/\\u81c9\\u90e8\\u8fa8\\u8b58.png\", \"img\": \"\", \"label\": \"\\u81c9\\u90e8\\u8fa8\\u8b58\", \"shape\": \"image\", \"title\": \"\\u8207 \\u81c9\\u90e8\\u8fa8\\u8b58 \\u76f8\\u9023\\u5be6\\u9ad4\\uff1a\\u003cbr\\u003e - \\u96fb\\u8166\\u8996\\u89ba\\u003cbr\\u003e- \\u5f71\\u5b50\\u6587\\u672c/\\u77e5\\u8b58\", \"value\": 1}]);\n",
    "        edges = new vis.DataSet([{\"arrows\": \"to\", \"color\": \"red\", \"font\": {\"color\": \"grey\"}, \"from\": \"\\u6fc0\\u9032\\u884c\\u70ba\\u4e3b\\u7fa9\", \"to\": \"\\u76e3\\u63a7\\u8cc7\\u672c\\u4e3b\\u7fa9\"}, {\"arrows\": \"to\", \"color\": \"red\", \"font\": {\"color\": \"grey\"}, \"from\": \"\\u76e3\\u63a7\\u8cc7\\u672c\\u4e3b\\u7fa9\", \"label\": \"\\u5275\\u9020\", \"to\": \"\\u5927\\u4ed6\\u8005\"}, {\"arrows\": \"to\", \"color\": \"red\", \"font\": {\"color\": \"grey\"}, \"from\": \"\\u5927\\u4ed6\\u8005\", \"label\": \"\\u9810\\u6e2c/\\u6821\\u6e96/\\u5236\\u7d04/\\u63a7\\u5236\", \"to\": \"\\u793e\\u6703/\\u6a5f\\u5668\\u8702\\u5de2\"}, {\"arrows\": \"to\", \"color\": \"red\", \"font\": {\"color\": \"grey\"}, \"from\": \"\\u884c\\u70ba\\u672a\\u4f86\\u5e02\\u5834\", \"label\": \"\\u9810\\u6e2c/\\u6821\\u6e96/\\u5236\\u7d04/\\u63a7\\u5236\", \"to\": \"\\u793e\\u6703/\\u6a5f\\u5668\\u8702\\u5de2\"}, {\"arrows\": \"to\", \"color\": \"red\", \"font\": {\"color\": \"grey\"}, \"from\": \"\\u5546\\u696d\\u908f\\u8f2f\", \"to\": \"\\u76e3\\u63a7\\u8cc7\\u672c\\u4e3b\\u7fa9\"}, {\"arrows\": \"to\", \"color\": \"red\", \"font\": {\"color\": \"grey\"}, \"from\": \"\\u5546\\u696d\\u908f\\u8f2f\", \"to\": \"\\u884c\\u70ba\\u50f9\\u503c\\u518d\\u6295\\u8cc7\\u5faa\\u74b0\"}, {\"arrows\": \"to\", \"color\": \"red\", \"font\": {\"color\": \"grey\"}, \"from\": \"\\u76e3\\u63a7\\u8cc7\\u672c\\u4e3b\\u7fa9\", \"label\": \"\\u6700\\u9ad8\\u50f9\\u503c\\u4e4b\\u5546\\u54c1\", \"to\": \"\\u884c\\u70ba\\u9810\\u6e2c\\u6a21\\u578b\"}, {\"arrows\": \"to\", \"color\": \"blue\", \"font\": {\"color\": \"grey\"}, \"from\": \"\\u884c\\u70ba\\u50f9\\u503c\\u518d\\u6295\\u8cc7\\u5faa\\u74b0\", \"to\": \"\\u6578\\u64da\\u5ee2\\u6c23\"}, {\"arrows\": \"to\", \"color\": \"red\", \"font\": {\"color\": \"grey\"}, \"from\": \"\\u8cc7\\u8a0a\\u79d1\\u6280\", \"to\": \"\\u5168\\u65b0\\u751f\\u7522\\u624b\\u6bb5\"}, {\"arrows\": \"to\", \"color\": \"blue\", \"font\": {\"color\": \"grey\"}, \"from\": \"\\u8cc7\\u8a0a\\u79d1\\u6280\", \"to\": \"\\u5927\\u6578\\u64da\"}, {\"arrows\": \"to\", \"color\": \"blue\", \"font\": {\"color\": \"grey\"}, \"from\": \"\\u8cc7\\u6599\\u5de5\\u7a0b\\u5e2b\", \"label\": \"\\u5f9e\\u4e8b\", \"to\": \"\\u5927\\u6578\\u64da\"}, {\"arrows\": \"to\", \"color\": \"blue\", \"font\": {\"color\": \"grey\"}, \"from\": \"\\u4f7f\\u7528\\u8005 A\\uff08\\u4f60\\u6211\\uff09\", \"label\": \"\\u77e5\\u66c9\", \"to\": \"\\u516c\\u958b\\u6587\\u672c\"}, {\"arrows\": \"to\", \"color\": \"red\", \"font\": {\"color\": \"grey\"}, \"from\": \"\\u5f71\\u5b50\\u6587\\u672c/\\u77e5\\u8b58\", \"label\": \"\\u8403\\u53d6\", \"to\": \"\\u884c\\u70ba\\u5269\\u9918\"}, {\"arrows\": \"to\", \"color\": \"blue\", \"font\": {\"color\": \"grey\"}, \"from\": \"\\u7269\\u806f\\u7db2\", \"to\": \"\\u5927\\u6578\\u64da\"}, {\"arrows\": \"to\", \"color\": \"blue\", \"font\": {\"color\": \"grey\"}, \"from\": \"\\u7a0b\\u5f0f\\u8a2d\\u8a08\\u5e2b\", \"label\": \"\\u958b\\u767c\", \"to\": \"\\u7269\\u806f\\u7db2\"}, {\"arrows\": \"to\", \"color\": \"blue\", \"font\": {\"color\": \"grey\"}, \"from\": \"\\u8cc7\\u6599\\u79d1\\u5b78\", \"to\": \"\\u4eba\\u5de5\\u667a\\u6167\"}, {\"arrows\": \"to\", \"color\": \"blue\", \"font\": {\"color\": \"grey\"}, \"from\": \"\\u8cc7\\u6599\\u79d1\\u5b78\", \"to\": \"\\u8cc7\\u6599\\u5206\\u6790\"}, {\"arrows\": \"to\", \"color\": \"blue\", \"font\": {\"color\": \"grey\"}, \"from\": \"\\u8cc7\\u6599\\u79d1\\u5b78\", \"to\": \"AB\\u6e2c\\u8a66\"}, {\"arrows\": \"to\", \"color\": \"blue\", \"font\": {\"color\": \"grey\"}, \"from\": \"\\u8cc7\\u6599\\u79d1\\u5b78\\u5bb6\", \"label\": \"\\u5f9e\\u4e8b\", \"to\": \"\\u8cc7\\u6599\\u79d1\\u5b78\"}, {\"arrows\": \"to\", \"color\": \"red\", \"font\": {\"color\": \"grey\"}, \"from\": \"\\u8cc7\\u6599\\u5206\\u6790\", \"to\": \"\\u5168\\u65b0\\u751f\\u7522\\u624b\\u6bb5\"}, {\"arrows\": \"to\", \"color\": \"red\", \"font\": {\"color\": \"grey\"}, \"from\": \"AB\\u6e2c\\u8a66\", \"to\": \"\\u5168\\u65b0\\u751f\\u7522\\u624b\\u6bb5\"}, {\"arrows\": \"to\", \"color\": \"red\", \"font\": {\"color\": \"grey\"}, \"from\": \"\\u8cc7\\u6599\\u79d1\\u5b78\", \"to\": \"\\u5168\\u65b0\\u751f\\u7522\\u624b\\u6bb5\"}, {\"arrows\": \"to\", \"color\": \"red\", \"font\": {\"color\": \"grey\"}, \"from\": \"\\u5168\\u65b0\\u751f\\u7522\\u624b\\u6bb5\", \"label\": \"\\u751f\\u7522\\uff06\\u6539\\u5584\", \"to\": \"\\u884c\\u70ba\\u9810\\u6e2c\\u6a21\\u578b\"}, {\"arrows\": \"to\", \"color\": \"blue\", \"font\": {\"color\": \"grey\"}, \"from\": \"\\u4eba\\u5de5\\u667a\\u6167\", \"to\": \"\\u6a5f\\u5668\\u5b78\\u7fd2\"}, {\"arrows\": \"to\", \"color\": \"blue\", \"font\": {\"color\": \"grey\"}, \"from\": \"\\u6a5f\\u5668\\u5b78\\u7fd2\", \"to\": \"\\u6df1\\u5ea6\\u5b78\\u7fd2\"}, {\"arrows\": \"to\", \"color\": \"blue\", \"font\": {\"color\": \"grey\"}, \"from\": \"\\u6a5f\\u5668\\u5b78\\u7fd2\\u5de5\\u7a0b\\u5e2b\", \"label\": \"\\u5f9e\\u4e8b\", \"to\": \"\\u6a5f\\u5668\\u5b78\\u7fd2\"}, {\"arrows\": \"to\", \"color\": \"blue\", \"font\": {\"color\": \"grey\"}, \"from\": \"\\u63a8\\u85a6\\u7cfb\\u7d71\", \"to\": \"\\u4e92\\u52d5/\\u884c\\u70ba\\u9810\\u6e2c\"}, {\"arrows\": \"to\", \"color\": \"red\", \"font\": {\"color\": \"grey\"}, \"from\": \"\\u4e92\\u52d5/\\u884c\\u70ba\\u9810\\u6e2c\", \"to\": \"\\u5168\\u65b0\\u751f\\u7522\\u624b\\u6bb5\"}, {\"arrows\": \"to\", \"color\": \"blue\", \"font\": {\"color\": \"grey\"}, \"from\": \"\\u81ea\\u7136\\u8a9e\\u8a00\\u8655\\u7406\", \"to\": \"\\u8a9e\\u97f3\\u8fa8\\u8b58\"}, {\"arrows\": \"to\", \"color\": \"blue\", \"font\": {\"color\": \"grey\"}, \"from\": \"\\u96fb\\u8166\\u8996\\u89ba\", \"to\": \"\\u81c9\\u90e8\\u8fa8\\u8b58\"}, {\"arrows\": \"to\", \"color\": \"blue\", \"font\": {\"color\": \"grey\"}, \"from\": \"\\u667a\\u6167\\u97f3\\u7bb1\", \"to\": \"\\u8a9e\\u97f3\\u8fa8\\u8b58\"}, {\"arrows\": \"to\", \"color\": \"blue\", \"font\": {\"color\": \"grey\"}, \"from\": \"\\u667a\\u6167\\u97f3\\u7bb1\", \"to\": \"\\u7269\\u806f\\u7db2\"}, {\"arrows\": \"to\", \"color\": \"blue\", \"font\": {\"color\": \"grey\"}, \"from\": \"\\u79d1\\u6280\\u8a2d\\u8a08\\u5e2b\", \"label\": \"\\u8a2d\\u8a08\", \"to\": \"\\u667a\\u6167\\u97f3\\u7bb1\"}, {\"arrows\": \"to\", \"color\": \"red\", \"font\": {\"color\": \"grey\"}, \"from\": \"\\u884c\\u70ba\\u5269\\u9918\", \"to\": \"\\u5168\\u65b0\\u751f\\u7522\\u624b\\u6bb5\"}, {\"arrows\": \"to\", \"color\": \"red\", \"font\": {\"color\": \"grey\"}, \"from\": \"\\u884c\\u70ba\\u9810\\u6e2c\\u6a21\\u578b\", \"to\": \"\\u884c\\u70ba\\u672a\\u4f86\\u5e02\\u5834\"}, {\"arrows\": \"to\", \"color\": \"red\", \"font\": {\"color\": \"grey\"}, \"from\": \"\\u884c\\u70ba\\u672a\\u4f86\\u5e02\\u5834\", \"to\": \"\\u76e3\\u63a7\\u6536\\u76ca\"}, {\"arrows\": \"to\", \"color\": \"#848484\", \"font\": {\"color\": \"grey\"}, \"from\": \"\\u4f7f\\u7528\\u8005 A\\uff08\\u4f60\\u6211\\uff09\", \"label\": \"\\u63d0\\u4f9b\", \"to\": \"\\u6ce8\\u610f\\u529b\\u3001\\u884c\\u70ba\\u8207\\u6642\\u9593\"}, {\"arrows\": \"to\", \"color\": \"#848484\", \"font\": {\"color\": \"grey\"}, \"from\": \"\\u653f\\u6cbb\\u529b\\u91cf\", \"label\": \"\\u5408\\u4f5c/\\u6297\\u8861\", \"to\": \"\\u76e3\\u63a7\\u8cc7\\u672c\"}, {\"arrows\": \"to\", \"color\": \"blue\", \"font\": {\"color\": \"grey\"}, \"from\": \"\\u5927\\u6578\\u64da\", \"label\": \"\\u516c\\u958b\", \"to\": \"\\u516c\\u958b\\u6587\\u672c\"}, {\"arrows\": \"to\", \"color\": \"red\", \"font\": {\"color\": \"grey\"}, \"from\": \"\\u5927\\u6578\\u64da\", \"label\": \"\\u7d2f\\u7a4d\", \"to\": \"\\u5f71\\u5b50\\u6587\\u672c/\\u77e5\\u8b58\"}, {\"arrows\": \"to\", \"color\": \"#848484\", \"font\": {\"color\": \"grey\"}, \"from\": \"\\u6ce8\\u610f\\u529b\\u3001\\u884c\\u70ba\\u8207\\u6642\\u9593\", \"to\": \"\\u8c37\\u6b4c\"}, {\"arrows\": \"to\", \"color\": \"blue\", \"font\": {\"color\": \"grey\"}, \"from\": \"\\u8c37\\u6b4c\", \"to\": \"\\u5927\\u6578\\u64da\"}, {\"arrows\": \"to\", \"color\": \"red\", \"font\": {\"color\": \"grey\"}, \"from\": \"\\u76e3\\u63a7\\u6536\\u76ca\", \"to\": \"\\u8c37\\u6b4c\"}, {\"arrows\": \"to\", \"color\": \"#848484\", \"font\": {\"color\": \"grey\"}, \"from\": \"\\u6ce8\\u610f\\u529b\\u3001\\u884c\\u70ba\\u8207\\u6642\\u9593\", \"to\": \"\\u81c9\\u66f8\"}, {\"arrows\": \"to\", \"color\": \"blue\", \"font\": {\"color\": \"grey\"}, \"from\": \"\\u81c9\\u66f8\", \"to\": \"\\u5927\\u6578\\u64da\"}, {\"arrows\": \"to\", \"color\": \"red\", \"font\": {\"color\": \"grey\"}, \"from\": \"\\u76e3\\u63a7\\u6536\\u76ca\", \"to\": \"\\u81c9\\u66f8\"}, {\"arrows\": \"to\", \"color\": \"#848484\", \"font\": {\"color\": \"grey\"}, \"from\": \"\\u6ce8\\u610f\\u529b\\u3001\\u884c\\u70ba\\u8207\\u6642\\u9593\", \"to\": \"\\u63a8\\u7279\"}, {\"arrows\": \"to\", \"color\": \"blue\", \"font\": {\"color\": \"grey\"}, \"from\": \"\\u63a8\\u7279\", \"to\": \"\\u5927\\u6578\\u64da\"}, {\"arrows\": \"to\", \"color\": \"red\", \"font\": {\"color\": \"grey\"}, \"from\": \"\\u76e3\\u63a7\\u6536\\u76ca\", \"to\": \"\\u63a8\\u7279\"}, {\"arrows\": \"to\", \"color\": \"#848484\", \"font\": {\"color\": \"grey\"}, \"from\": \"\\u4f7f\\u7528\\u8005 B\", \"label\": \"\\u63d0\\u4f9b\", \"to\": \"\\u6ce8\\u610f\\u529b\\u3001\\u884c\\u70ba\\u8207\\u6642\\u9593 \"}, {\"arrows\": \"to\", \"color\": \"blue\", \"font\": {\"color\": \"grey\"}, \"from\": \"\\u884c\\u70ba\\u50f9\\u503c\\u518d\\u6295\\u8cc7\\u5faa\\u74b0\", \"to\": \"\\u8cc7\\u6599\\u5206\\u6790 \"}, {\"arrows\": \"to\", \"color\": \"blue\", \"font\": {\"color\": \"grey\"}, \"from\": \"\\u8cc7\\u6599\\u5206\\u6790 \", \"label\": \"\\u63d0\\u5347\\u670d\\u52d9\\u54c1\\u8cea\", \"to\": \"\\u4f7f\\u7528\\u8005 B\"}, {\"arrows\": \"to\", \"color\": \"blue\", \"font\": {\"color\": \"grey\"}, \"from\": \"\\u6ce8\\u610f\\u529b\\u3001\\u884c\\u70ba\\u8207\\u6642\\u9593 \", \"to\": \"\\u884c\\u70ba\\u50f9\\u503c\\u518d\\u6295\\u8cc7\\u5faa\\u74b0\"}, {\"arrows\": \"to\", \"color\": \"red\", \"font\": {\"color\": \"grey\"}, \"from\": \"\\u76e3\\u63a7\\u8cc7\\u672c\", \"label\": \"\\u7af6\\u6a19\", \"to\": \"\\u884c\\u70ba\\u672a\\u4f86\\u5e02\\u5834\"}, {\"arrows\": \"to\", \"color\": \"red\", \"font\": {\"color\": \"grey\"}, \"from\": \"\\u653f\\u6cbb\\u529b\\u91cf\", \"label\": \"\\u7af6\\u6a19\", \"to\": \"\\u884c\\u70ba\\u672a\\u4f86\\u5e02\\u5834\"}, {\"arrows\": \"to\", \"color\": \"blue\", \"font\": {\"color\": \"grey\"}, \"from\": \"\\u6df1\\u5ea6\\u5b78\\u7fd2\", \"to\": \"\\u63a8\\u85a6\\u7cfb\\u7d71\"}, {\"arrows\": \"to\", \"color\": \"blue\", \"font\": {\"color\": \"grey\"}, \"from\": \"\\u6df1\\u5ea6\\u5b78\\u7fd2\", \"to\": \"\\u81ea\\u7136\\u8a9e\\u8a00\\u8655\\u7406\"}, {\"arrows\": \"to\", \"color\": \"blue\", \"font\": {\"color\": \"grey\"}, \"from\": \"\\u6df1\\u5ea6\\u5b78\\u7fd2\", \"to\": \"\\u96fb\\u8166\\u8996\\u89ba\"}, {\"arrows\": \"to\", \"color\": \"red\", \"font\": {\"color\": \"grey\"}, \"from\": \"\\u81c9\\u90e8\\u8fa8\\u8b58\", \"label\": \"\\u7d2f\\u7a4d\", \"to\": \"\\u5f71\\u5b50\\u6587\\u672c/\\u77e5\\u8b58\"}, {\"arrows\": \"to\", \"color\": \"red\", \"font\": {\"color\": \"grey\"}, \"from\": \"\\u8a9e\\u97f3\\u8fa8\\u8b58\", \"label\": \"\\u7d2f\\u7a4d\", \"to\": \"\\u5f71\\u5b50\\u6587\\u672c/\\u77e5\\u8b58\"}, {\"arrows\": \"to\", \"color\": \"#848484\", \"font\": {\"color\": \"grey\"}, \"from\": \"\\u793e\\u6703/\\u6a5f\\u5668\\u8702\\u5de2\", \"to\": \"\\u4f7f\\u7528\\u8005 A\\uff08\\u4f60\\u6211\\uff09 \"}, {\"arrows\": \"to\", \"color\": \"#848484\", \"font\": {\"color\": \"grey\"}, \"from\": \"\\u793e\\u6703/\\u6a5f\\u5668\\u8702\\u5de2\", \"to\": \"\\u4e0b\\u500b\\u4e16\\u4ee3\"}, {\"arrows\": \"to\", \"color\": \"#848484\", \"font\": {\"color\": \"grey\"}, \"from\": \"\\u793e\\u6703/\\u6a5f\\u5668\\u8702\\u5de2\", \"to\": \"\\u8cc7\\u6599\\u79d1\\u5b78\\u5bb6 \"}, {\"arrows\": \"to\", \"color\": \"red\", \"font\": {\"color\": \"grey\"}, \"from\": \"\\u76e3\\u63a7\\u795e\\u7236\", \"to\": \"\\u8cc7\\u6599\\u79d1\\u5b78\\u5bb6 \"}, {\"arrows\": \"to\", \"color\": \"#848484\", \"font\": {\"color\": \"grey\"}, \"from\": \"\\u793e\\u6703/\\u6a5f\\u5668\\u8702\\u5de2\", \"to\": \"\\u6a5f\\u5668\\u5b78\\u7fd2\\u5de5\\u7a0b\\u5e2b \"}, {\"arrows\": \"to\", \"color\": \"red\", \"font\": {\"color\": \"grey\"}, \"from\": \"\\u76e3\\u63a7\\u795e\\u7236\", \"to\": \"\\u6a5f\\u5668\\u5b78\\u7fd2\\u5de5\\u7a0b\\u5e2b \"}, {\"arrows\": \"to\", \"color\": \"#848484\", \"font\": {\"color\": \"grey\"}, \"from\": \"\\u793e\\u6703/\\u6a5f\\u5668\\u8702\\u5de2\", \"to\": \"\\u8cc7\\u6599\\u5de5\\u7a0b\\u5e2b \"}, {\"arrows\": \"to\", \"color\": \"red\", \"font\": {\"color\": \"grey\"}, \"from\": \"\\u76e3\\u63a7\\u795e\\u7236\", \"to\": \"\\u8cc7\\u6599\\u5de5\\u7a0b\\u5e2b \"}, {\"arrows\": \"to\", \"color\": \"#848484\", \"font\": {\"color\": \"grey\"}, \"from\": \"\\u793e\\u6703/\\u6a5f\\u5668\\u8702\\u5de2\", \"to\": \"\\u7a0b\\u5f0f\\u8a2d\\u8a08\\u5e2b \"}, {\"arrows\": \"to\", \"color\": \"red\", \"font\": {\"color\": \"grey\"}, \"from\": \"\\u76e3\\u63a7\\u795e\\u7236\", \"to\": \"\\u7a0b\\u5f0f\\u8a2d\\u8a08\\u5e2b \"}, {\"arrows\": \"to\", \"color\": \"#848484\", \"font\": {\"color\": \"grey\"}, \"from\": \"\\u793e\\u6703/\\u6a5f\\u5668\\u8702\\u5de2\", \"to\": \"\\u79d1\\u6280\\u8a2d\\u8a08\\u5e2b \"}, {\"arrows\": \"to\", \"color\": \"red\", \"font\": {\"color\": \"grey\"}, \"from\": \"\\u76e3\\u63a7\\u795e\\u7236\", \"to\": \"\\u79d1\\u6280\\u8a2d\\u8a08\\u5e2b \"}]);\n",
    "\n",
    "        // adding nodes and edges to the graph\n",
    "        data = {nodes: nodes, edges: edges};\n",
    "\n",
    "        var options = {\"nodes\": {\"font\": {\"size\": 14}}, \"edges\": {\"color\": {\"inherit\": true}, \"font\": {\"face\": \"tahoma\", \"size\": 14}, \"smooth\": {\"forceDirection\": \"none\", \"type\": \"dynamic\"}}, \"physics\": {\"minVelocity\": 0.75}, \"scaling\": {\"min\": 1, \"max\": 15}};\n",
    "        \n",
    "        \n",
    "\n",
    "        \n",
    "\n",
    "        network = new vis.Network(container, data, options);\n",
    "\n",
    "        \n",
    "\n",
    "\n",
    "        \n",
    "\n",
    "        return network;\n",
    "\n",
    "    }\n",
    "\n",
    "    drawGraph();\n",
    "\n",
    "</script>\n",
    "</body>\n",
    "</html>"
   ]
  },
  {
   "cell_type": "markdown",
   "metadata": {},
   "source": [
    "<center>\n",
    "    世上唯一涵蓋監控資本主義與資料科學相關概念的知識圖譜\n",
    "    <br>\n",
    "    <br>\n",
    "</center>"
   ]
  },
  {
   "cell_type": "markdown",
   "metadata": {},
   "source": [
    "我希望你在瀏覽此圖譜時不只有一個 [Aha moment](http://big5.cri.cn/gate/big5/news.cri.cn/gb/33160/2010/11/26/4925s3069304.htm)：比方說突然對世界的運作方式有了更深的領悟、頓悟資料科學跟監控資本主義的商業邏輯是如何緊密耦合的。如果你富有好奇心，應該會花不少時間瀏覽上圖並從中獲得一些有趣的發現：\n",
    "1. 紅色代表與監控資本主義相關的概念；藍色是資料科學；黑色則是指相關人物\n",
    "2. 影子文本是監控資本家的最大生財資產。一般用戶無法存取甚至不知道其存在\n",
    "3. 資訊科技不等於監控資本主義。後者是一種商業邏輯而前者是後者的生產手段\n",
    "4. 監控資本圈並不只科技公司牽涉其中。監控資本以及政治力量都會型塑著市場\n",
    "5. 行為未來市場最終能控制社會，且終將影響一般用戶以及打造它的數據神父們\n",
    "6. 行為價值再投資循環是一個相對健康的商業邏輯，但仍有前面提過的科技上癮\n",
    "7. 除了推薦系統，[自然語言處理](https://leemeng.tw/shortest-path-to-the-nlp-world-a-gentle-guide-of-natural-language-processing-and-deep-learning-for-everyone.html)與電腦視覺也是監控資本主義中的生產手段之一"
   ]
  },
  {
   "cell_type": "markdown",
   "metadata": {},
   "source": [
    "沒有藏頭，不用找了。我只是有點強迫症。"
   ]
  },
  {
   "cell_type": "markdown",
   "metadata": {},
   "source": [
    "### 再訪影子文本：「我們絕不會賣用戶個資！」"
   ]
  },
  {
   "cell_type": "markdown",
   "metadata": {},
   "source": [
    "有了我們的知識圖譜以後，上一節最後提到的論述應該都顯得十分直觀。不過我還是建議想深入了解監控資本主義的讀者找時間咀嚼[《監控資本主義時代》](https://shoshanazuboff.com/book/about/)。你可以透過該書深入了解祖博夫筆下的`大他者`以及`機器蜂巢`所代表的意義。\n",
    "\n",
    "底下我再針對第 2 點提到的`影子文本`給一個實例說明。"
   ]
  },
  {
   "cell_type": "markdown",
   "metadata": {},
   "source": [
    "如果你沒有在科技公司工作的經驗，可能難以想像祖博夫筆下的`影子文本`長什麼樣子。但對業界的工程師來說，所謂的影子文本自然指的是那些只能在企業內部存取的一筆筆使用者行為日誌（user behavior log）。這些日誌詳細紀錄了**每一個**用戶跟某個系統 / 網站 / App 的**每一次**互動，是萃取`行為剩餘`最好的原物料。科技公司對其隱密的程度讓維基上甚至沒有一個好的說明頁面。下圖則是[微軟亞洲研究院](https://zh.wikipedia.org/wiki/%E5%BE%AE%E8%BD%AF%E4%BA%9A%E6%B4%B2%E7%A0%94%E7%A9%B6%E9%99%A2)於 [2018 年發布的一篇新聞推薦論文](https://arxiv.org/abs/1801.08284)中出現的案例研究："
   ]
  },
  {
   "cell_type": "markdown",
   "metadata": {},
   "source": [
    "!image\n",
    "- dark\n",
    "- 監控資本主義/DKN_使用者行為數據.jpg\n",
    "- 某位毫不知情的 Microsoft News 用戶的實際新聞瀏覽行為\n",
    "- https://arxiv.org/abs/1801.08284"
   ]
  },
  {
   "cell_type": "markdown",
   "metadata": {},
   "source": [
    "在[這篇論文](https://arxiv.org/abs/1801.08284)裡，研究員們描述了他們怎麼使用微軟自有的 [Satori 知識圖譜](https://www.microsoft.com/en-us/research/project/knowledge-mining-api/)以及我以前寫過的[注意力機制（attention mechanism）](https://leemeng.tw/neural-machine-translation-with-transformer-and-tensorflow2.html)來為一名隨機抽樣出來的用戶提供更好的新聞推薦（更多點擊 = 更好）：「我們看到注意力神經網路能準確地抓到此用戶喜歡汽車以及政治的喜好。因為在知識圖譜裡頭，通用汽車跟特斯拉距離很近。」\n",
    "\n",
    "這邊的重點是所有你現在在用的數位服務都在做這件事情：研發最能抓住你注意力的演算法，讓你繼續點擊、往下滑並待在他們的 Apps 上以提升你的互動與參與程度（engagement）。當然，科技公司會跟你說這些私密數據都匿名化了，沒有隱私議題。而且你當初在下載 App 時也已經同意了使用者條款，不是嗎？（儘管沒人會/能仔細看冗長的說明書）。"
   ]
  },
  {
   "cell_type": "markdown",
   "metadata": {},
   "source": [
    "!image\n",
    "- 監控資本主義/智能社會_監控.jpg\n",
    "- 科技公司監控用戶行為並使用能最大化用戶互動的演算法\n",
    "- https://www.youtube.com/watch?v=uaaC57tcci0&ab_channel=Netflix\n",
    "- 《智能社會：進退兩難》"
   ]
  },
  {
   "cell_type": "markdown",
   "metadata": {},
   "source": [
    "透過蒐集成千上萬名用戶的數位行為，科技公司累積了人類史上最龐大的知識量，以此打造能夠緊緊抓住每一位用戶注意力的演算法。這些演算法與推薦系統是將知識轉成權力的最佳體現：「我比你還懂你自己，而且我覺得這個東西很重要，所以你應該馬上點開查看」。[《人類大未來》](https://www.books.com.tw/products/0010774982)作者，歷史學家哈拉瑞就在書中預言未來會是少數菁英統治 AI，AI 再統治絕大多數的人類。應該也有人跟我一樣嗅到經典的反烏托邦作品[《美麗新世界》](https://zh.wikipedia.org/wiki/%E7%BE%8E%E9%BA%97%E6%96%B0%E4%B8%96%E7%95%8C)的味道：這些菁英怎麼聽起來那麼像阿爾法 $\\alpha $ ？\n",
    "\n",
    "Github 聯合創立人普雷斯頓・沃納在[接受彭博採訪時也有類似的言論](https://www.businessinsider.com/jobs-in-the-future-2014-8)："
   ]
  },
  {
   "cell_type": "markdown",
   "metadata": {},
   "source": [
    "!quote\n",
    "- 未來人類可能只會剩下兩種類型的工作：一種是你寫程式告訴機器怎麼做，另外一種則是機器告訴你該做什麼。\n",
    "- Preston-Werner, Github 聯合創辦人"
   ]
  },
  {
   "cell_type": "markdown",
   "metadata": {},
   "source": [
    "這就是影子文本的強大之處：累積巨大知識並能用來預測並引導底下用戶的未來行為。這是上對下的關係。\n",
    "\n",
    "懂了這個以後，你就知道外界常常控訴「科技公司將用戶個資賣給第三方！」的這個議題根本打錯方向。一流的科技公司最珍視的就是自己的影子文本，谷歌跟臉書的發言人會跟你說：「我們怎麼可能出賣用戶個資！」而他們沒有說謊。使用者的數據隱私權不是沒了，而只是被科技公司「重新分配」了：雖然這些日誌都是關於你的行為，但我們不會讓你看到，而是自己用來預測你的未來行為。"
   ]
  },
  {
   "cell_type": "markdown",
   "metadata": {},
   "source": [
    "!youtube\n",
    "- OQSMr-3GGvQ\n",
    "- 卡羅爾在 TED 上與她口中的「矽谷神祇」們講述臉書在英國脫歐的角色和它對民主的威脅"
   ]
  },
  {
   "cell_type": "markdown",
   "metadata": {},
   "source": [
    "[2016 年劍橋分析醜聞](https://www.twreporter.org/a/information-warfare-business-interview-cambridge-analytica-brittany-kaiser)的[劍橋分析公司](https://zh.wikipedia.org/wiki/%E5%8A%8D%E6%A9%8B%E5%88%86%E6%9E%90%E5%85%AC%E5%8F%B8)被英國追蹤記者[卡洛爾・卡瓦拉德爾（Carole Cadwalladr）](https://twitter.com/carolecadwalla)揭露其非法取得 5,000 萬筆臉書用戶數據並透過臉書的廣告推薦系統操控易被左右的英國選民，在選民沒意識到的情況下影響他們的脫歐抉擇。\n",
    "\n",
    "該醜聞的其中一個引爆點正是因帕森設計學院的副教授[大衛凱洛（David Carroll）](https://twitter.com/profcarroll)問了該公司一個很簡單的問題："
   ]
  },
  {
   "cell_type": "markdown",
   "metadata": {},
   "source": [
    "!quote\n",
    "- 我能看看你握有的我的個人數據嗎？\n",
    "- 大衛凱洛"
   ]
  },
  {
   "cell_type": "markdown",
   "metadata": {},
   "source": [
    "而一直要到 2020 年，該公司宣告破產的 2 年多以後，大衛凱洛才[終於透過媒體拿到了屬於他自己的那一份「影子文本」](https://www.youtube.com/watch?v=5Swqc2NjEXM&feature=emb_logo)。大多數美國臉書用戶仍然沒親眼見過劍橋分析公司從臉書蒐集到的、那些屬於他們自己的私密數據。"
   ]
  },
  {
   "cell_type": "markdown",
   "metadata": {},
   "source": [
    "### 個人化的極致：以個人為單位的平行世界與社會極化"
   ]
  },
  {
   "cell_type": "markdown",
   "metadata": {},
   "source": [
    "在你想要去暴打你那位被祖博夫稱作「數據神父」的工程師或是資料科學家的朋友之前，讓我幫他/她辯解一下：他們自己可能也沒有意識到背後的商業邏輯。沒有貶低的意味，但在這年代利用最新生產手段（人工智慧、類神經網路）打造出能夠精準預測用戶行為的工程師們，其實就跟當年工廠生產線上的作業員沒差多少。我們都只是經濟體系裡服從資本的勞動力。"
   ]
  },
  {
   "cell_type": "markdown",
   "metadata": {},
   "source": [
    "!image\n",
    "- 監控資本主義/大量生產資本主義_監控資本主義_生產線.jpg\n",
    "- 左右兩邊出乎意料地相似"
   ]
  },
  {
   "cell_type": "markdown",
   "metadata": {},
   "source": [
    "只不過當年工廠中的作業員信奉的神諭是「大量生產」，現在的工程師們信奉的是「個人化」的信條。"
   ]
  },
  {
   "cell_type": "markdown",
   "metadata": {},
   "source": [
    "幾乎所有你能看到的推薦系統論文都會在其研究動機以及背景提到個人化的重要以及必要性。工程師與研究員也早已習慣將「用戶點擊」、「用戶按讚」、「用戶轉發分享」或是「用戶接受通知進入 App」視為數位世界的真理：「這對使用者好」。這些使用者行為要不是**直接**增加企業收益，就是透過提升使用者與系統的互動程度**間接**為企業賺錢。\n",
    "\n",
    "這就是為何臉書 / IG 有時會貼心地提醒你：「有人在照片上標注你了喔！」卻沒有直接把該照片附在通知裡的原因。在通知裡頭附上照片對用戶很有實質幫助，卻可能讓用戶不需點進 App，進而造成企業的利益損失。"
   ]
  },
  {
   "cell_type": "markdown",
   "metadata": {},
   "source": [
    "!image\n",
    "- 監控資本主義/智能社會_照片通知.jpg\n",
    "- 《智能社會：進退兩難》"
   ]
  },
  {
   "cell_type": "markdown",
   "metadata": {},
   "source": [
    "個人化當然有對用戶的好處及其必要性。不過我們也絕不能忽略極端的個人化會導致《智能社會》裡頭看到的科技上癮。無上限的個人化也會導致我們在 2016 年劍橋醜聞已經看過的社會極化：每個人都只看到自己想看到的。現在的監控資本家們就像是發給全世界每一位用戶一個免費的[意若思鏡](https://harrypotter.fandom.com/zh/wiki/%E5%8E%84%E9%87%8C%E6%96%AF%E9%AD%94%E9%95%9C?variant=zh-tw)，其大小就是你手中那只有幾寸的螢幕畫面，投射出所有你內心最渴望卻也最虛幻的慾望，而此單面鏡後不斷有人想著怎麼讓你的大腦再分泌一點多巴胺。\n",
    "\n",
    "到頭來疑惑的人們會在社群媒體上丟出疑問，質疑跟自己想法不一樣的「他們」到底在想什麼："
   ]
  },
  {
   "cell_type": "markdown",
   "metadata": {},
   "source": [
    "!quote\n",
    "- 為什麼那些人這麼地蠢？你看看我每天看到的臉書與推特動態、谷歌搜尋結果以及微軟新聞內容，難道這些資訊他們都沒看到嗎？\n",
    "- 身處數位時代的你我會有的日常疑問"
   ]
  },
  {
   "cell_type": "markdown",
   "metadata": {},
   "source": [
    "然後這些疑問還只有願意跟我們互動的同溫層會收得到，多虧了個人化演算法。\n",
    "\n",
    "人們都會趨吉避凶，本能地排斥不同觀點並喜歡與符合自己觀點的想法/群體互動。這種人類天性被「最大化用戶互動程度以獲利」的社群媒體利用，直接導致了震驚全球的 [2021 年 1 月美國國會示威騷亂](https://www.bbc.com/zhongwen/trad/world-55565454)：美國總統川普支持者強行闖入象徵該國民主的國會大廈，試圖推翻 [2020 美國總統大選](https://zh.wikipedia.org/wiki/2020%E5%B9%B4%E7%BE%8E%E5%9C%8B%E7%B8%BD%E7%B5%B1%E9%81%B8%E8%88%89)結果。\n",
    "\n",
    "用監控資本主義的框架思考，就能理解正是因為社群媒體的商業本質使得「川普將會帶領軍隊推翻選舉結果！」等陰謀論以及極右思想能夠以低廉的成本廣泛散播給數以百萬計的用戶，塑造他們的平行宇宙，最終導致這場悲劇。[BBC 指出早在騷動的前 65 天](https://www.bbc.com/zhongwen/trad/world-55631638)就已經能看到陰謀論在臉書上流傳的跡象。以下則是 [BBC 新聞攝影師在前線的紀錄](https://www.bbc.com/zhongwen/trad/world-55666142)："
   ]
  },
  {
   "cell_type": "code",
   "execution_count": null,
   "metadata": {},
   "outputs": [],
   "source": [
    "#ignore\n",
    "- BBC iframe"
   ]
  },
  {
   "cell_type": "markdown",
   "metadata": {},
   "source": [
    "<center>\n",
    "<iframe frameborder=\"0\" width=\"100%\" height=\"600\" src=\"https://www.bbc.com/zhongwen/trad/av-embeds/world-55666142\">\n",
    "</iframe>\n",
    "</center>"
   ]
  },
  {
   "cell_type": "markdown",
   "metadata": {},
   "source": [
    "監控資本主義給出的答案很殘酷。沒錯，那些跟你持不同想法的人們每天會看到並互動的個人化內容都跟你看到的不一樣。"
   ]
  },
  {
   "cell_type": "markdown",
   "metadata": {},
   "source": [
    "而在美國國會大廈遭到衝擊之後，推特宣佈已經關閉了超過 7 萬個與陰謀論有關的賬戶，最後則是美國前總統川普本人的帳號。有些人將其視為左派的勝利，但如果你超越政治光譜，把思考問題的高度放到跟[德國總理梅克爾](https://www.bbc.com/zhongwen/trad/world-55639767)一樣的位置，就知道真正需要被大眾討論跟解決的問題應該是："
   ]
  },
  {
   "cell_type": "markdown",
   "metadata": {},
   "source": [
    "!quote\n",
    "- 為何社群媒體可以為了營利在一開始放縱這些陰謀論流竄？為何這些科技巨頭後來可以自己選擇下架美國總統？社群媒體自我審查的基準在哪裡？為何他們有那麼大的權力？民主與人權在哪裡？"
   ]
  },
  {
   "cell_type": "markdown",
   "metadata": {},
   "source": [
    "[根據美國現行法律《通信規範法案》第 230 條](https://www.bbc.com/zhongwen/trad/world-52846379)，包括推特和臉書在內的社交媒體公司不會因用戶發帖內容而被追責，同時也可以刪除合法但會引起反感的內容。這是俗稱的「避風港條款」。\n",
    "\n",
    "但我們需要承認新型態的資本主義發展速度太快，現行的法律已經跟不上腳步了。避風港條款是在 21 世紀初期通過，而監控資本主義那時也才剛剛萌芽。時至今日，如果今天推特 CEO 可以凌駕全世界所有法律，關閉有 8,800 萬追蹤者的美國總統帳號，同時宣稱該企業會「自主控管」以及擁有「言論自由」，還有什麼能限制他們呢？\n",
    "\n",
    "這些問題值得我們認真思考。"
   ]
  },
  {
   "cell_type": "markdown",
   "metadata": {},
   "source": [
    "!image\n",
    "- 監控資本主義/舒適圈.jpg"
   ]
  },
  {
   "cell_type": "markdown",
   "metadata": {},
   "source": [
    "要改善我們的數位社會需要每個人的合作，近年工程師們也正努力地想辦法改善推薦系統的社會面向。幫助用戶脫離個人化資訊的舒適層（comfort zone）、增加推薦內容的多樣性（diversity）以提升用戶滿意度。「誰說我們只想著 CTR！」\n",
    "\n",
    "雖然老實說是因為不少企業發現要保證用戶能持續地使用自家 App（另個企業指標：長期留存率！）得考慮 CTR 以外的事情，頂尖的推薦系統會議如 [RecSys](https://recsys.acm.org/) 在 2020 年都出現了更多試圖解決推薦系統對社會帶來的負面影響的研究。RecSys 2020 Keynotes 的主題就分別為\n",
    "「4 個社群媒體使我們容易被操控的理由」以及「搜尋以及推薦系統的偏差」。\n",
    "\n",
    "其他我印象比較深刻的近期研究（以下為我自己的翻譯）有：\n",
    "- [肩負使命的推薦系統：評估新聞推薦裡頭的多樣性](https://arxiv.org/abs/2012.10185)\n",
    "- [對抗搜尋及推薦系統裡頭的偏見並提升公平性](https://www.youtube.com/watch?v=TtF6exuBbSU&ab_channel=ACMRecSys)\n",
    "- [PURS: 提升使用者滿意度的個人化非預期推薦系統](https://dl.acm.org/doi/10.1145/3383313.3412238)\n",
    "\n",
    "以後或許會撰文深入討論相關研究，但現在先讓我們就此打住，總結一下一路上聊了些什麼。"
   ]
  },
  {
   "cell_type": "markdown",
   "metadata": {},
   "source": [
    "## 最終章 21 世紀第 3 個十年的認知革命"
   ]
  },
  {
   "cell_type": "markdown",
   "metadata": {},
   "source": [
    "呼！一路走來，我相信你對自己身處的數位世界已經有更深一層的理解了。你已經知曉了監控資本主義扭曲的過去以及瘋狂的現在，是時候回顧一下我們在開始這趟驚悚旅程之前那段關於未來的訊息了："
   ]
  },
  {
   "cell_type": "markdown",
   "metadata": {},
   "source": [
    "!quote\n",
    "- 監控資本主義在 21 世紀主導資料科學以及 AI 的發展方向，並持續往大多數人不樂見的方向邁進。只有在大眾能夠認知到並理解其商業邏輯，我們才能透過集體意識去改善每個人的數位未來。\n",
    "- 本文主旨"
   ]
  },
  {
   "cell_type": "markdown",
   "metadata": {},
   "source": [
    "你現在能夠理解這段訊息了。\n",
    "\n",
    "監控資本主義的火車能這樣不受控制地在我們的數位世界裡橫衝直撞，要歸功於你我長期對監控科技發展的「無知」以及我們對「免費」的錯誤理解。但現在你已經「知曉」了監控科技的實際存在，也能明白一直以來的「免費使用」交易的是你在數位時代越來越寶貴的「注意力」。\n",
    "\n",
    "認知到這些事實是任何偉大改變的開始。"
   ]
  },
  {
   "cell_type": "markdown",
   "metadata": {},
   "source": [
    "!image\n",
    "- 監控資本主義/老鷹專注.jpg\n",
    "- 在數位時代最重要的能力是能不被大量無用資訊分心的專注眼神"
   ]
  },
  {
   "cell_type": "markdown",
   "metadata": {},
   "source": [
    "在這篇文章裡，我近乎囉唆地以各種視角與實例為你重現由（1）監控資本主義的商業邏輯以及（2）強大的資訊科技共同打造的數位世界，幫你從頭構築出一個能夠合理解釋這瘋狂年代的世界觀。事到如今我們已經無法成為拒絕使用數位服務的[盧德主義者](https://zh.wikipedia.org/wiki/%E7%9B%A7%E5%BE%B7%E9%81%8B%E5%8B%95)，但我們能做的是重新找回自我。"
   ]
  },
  {
   "cell_type": "markdown",
   "metadata": {},
   "source": [
    "!quote\n",
    "- 資訊的豐富意味著它消耗著資訊接受人的注意力導致其變得稀缺。因此資訊之豐富創造了注意力之貧窮。資訊接受人需要在過剩的資訊來源中有效地分配其注意力。\n",
    "- 赫伯特・亞歷山大・西蒙, 人工智慧之父"
   ]
  },
  {
   "cell_type": "markdown",
   "metadata": {},
   "source": [
    "認知到注意力的珍貴以及數位服務對其之無限的渴望後，你就能開始做些改變。\n",
    "\n",
    "你應該時時刻刻問自己：\n",
    "- 「真的有需要一直往下滑臉書、推特或是 IG 嗎？沒有其他更重要的任務嗎？」\n",
    "- 「App 通知來了，真的有需要現在、立刻、馬上打開查看嗎？」\n",
    "- 「能不能改掉一看到手機螢幕亮就反射性去看是什麼通知的壞習慣？」\n",
    "- 「當下這個時間點除了消耗數位內容，對我來說最重要的事情是什麼？」\n",
    "- 「這篇貼文讓我情緒激動想分享轉貼留言，但它的內容可信嗎？」\n",
    "- 「App 推薦的內容讓我很想點進去看，但那是我人生最高順位的事情嗎？」\n",
    "- 「我真的需要邊吃飯邊聽 Podcast ，不給大腦自主思考的時間嗎？」\n",
    "- 「我一天有幾分鐘是真的能夠靜下心思考重要問題而不是無腦觀看影片？」"
   ]
  },
  {
   "cell_type": "markdown",
   "metadata": {},
   "source": [
    "沒人會在意你往自己腦中塞了什麼，你的思想與行動才是證明自己最大價值的事物。你可以試試數位內容的間歇性斷食，拿掉你的數位奶嘴，不要再讓那些無時無刻吵著「你的朋友標注了你！」「你的訂閱者出了新影片！」這種為了爭奪你寶貴注意力的「便利通知」而疏忽了你人生中最重要的事情了。\n",
    "\n",
    "如果你也想要為世界創造些價值，就盡可能地專注吧！我們不該整天都把寶貴的注意力以及大腦資源拿來消耗「他們」要我們馬上查看的數位內容。從今天開始為自己決定優先順序吧。"
   ]
  },
  {
   "cell_type": "markdown",
   "metadata": {},
   "source": [
    "<u><b>我也希望你能幫忙把這些知識傳達給對你來說重要的人知道</b></u>。當越來越多人意識到真正重要的事情並改變行為，就能創造一股集體意識讓企業們做真正對我們有幫助的事情。監控資本主義的商業邏輯讓我們每個人有不同的現實（reality）進而各個擊破。透過這篇文章我希望能跟所有人一起建立一致的現實，並透過這股力量改善我們以及下一世代的數位未來。\n"
   ]
  },
  {
   "cell_type": "markdown",
   "metadata": {},
   "source": [
    "!image\n",
    "- 監控資本主義/改變.jpg\n"
   ]
  },
  {
   "cell_type": "markdown",
   "metadata": {},
   "source": [
    "除了重視自己的注意力並將其視為最重要的資產，所有人都應該開始向數位霸權宣示在這個數位時代裡，我們的新人權也包含了自己的數據權。行政院數位政委[唐鳳也建議我們應該要把自己的數據權當作基本人權](https://technews.tw/2020/06/28/personal-data-equal-basic-human-rights/)。"
   ]
  },
  {
   "cell_type": "markdown",
   "metadata": {},
   "source": [
    "如果你是其中一名數據神父，別忘了能力越強，責任越大。我們得開始理解用戶的意圖（intention）並幫助他們解決真正的問題，而不是整天抓著他們的注意力（attention）。《個資風暴》裡頭我們看到數據分析人員如何因為看到廣告投放的實際 KPI 成長而忘了背後都是一名名真實活在世上的人類。就像在[《真確》](https://leemeng.tw/gapminder.html)裡瑞典公衛教授漢斯・羅斯林跟我們說的："
   ]
  },
  {
   "cell_type": "markdown",
   "metadata": {},
   "source": [
    "!quote\n",
    "- 我要你看到統計數據背後的個別故事，也要你看到個別故事背後的統計數據。不靠數據無法了解世界，但光靠數據也無法了解世界。\n",
    "- 漢斯・羅斯林，《真確》"
   ]
  },
  {
   "cell_type": "markdown",
   "metadata": {},
   "source": [
    "機器學習工程師以及資料科學家並不只是人型的「最佳化機器」。數據神父們得要承認人類的注意力、時間都是有限的，認識到人類本身的認知極限，並把這些因素考量進去決定演算法應該要最佳化什麼，而不只是去最佳化 CTR。\n",
    "\n",
    "如果你是企業家或是正打算創業，多花點心思打造更符合「人性」的數位服務吧！這雖然不是一件容易的事情，但只要你成功了，我想全人類都會支持你的產品。\n",
    "\n",
    "雖然在這篇我延續《監控資本主義時代》的思路抨擊谷歌、臉書以及推特等科技公司，但他們的服務也實際為社會做了不少貢獻。只是這樣還不夠，我希望能喚起大眾的集體認知，讓這些我們熱愛的數位服務往真正對人類未來發展有助益的方向邁進。如果他們宣稱拋棄自我是科技進步與數位化的必要代價，我想就是我們該為自己發聲的時候了。"
   ]
  },
  {
   "cell_type": "markdown",
   "metadata": {},
   "source": [
    "!quote\n",
    "- 讓我們修正監控資本主義創造的數位現實，建立以人為本並符合人體工學的數位未來。"
   ]
  },
  {
   "cell_type": "code",
   "execution_count": null,
   "metadata": {},
   "outputs": [],
   "source": [
    "#ignore\n",
    "- TODO: books.jhtml 加入本文連結"
   ]
  },
  {
   "cell_type": "code",
   "execution_count": null,
   "metadata": {},
   "outputs": [],
   "source": [
    "#ignore\n",
    "當初負責臉書營利的 [Tim Kendall](https://www.linkedin.com/in/tim-kendall-6572/)在《智能社會：進退兩難》則說過：「我們都太小看」"
   ]
  },
  {
   "cell_type": "code",
   "execution_count": null,
   "metadata": {},
   "outputs": [],
   "source": [
    "#ignore\n",
    "- 屍塊 p.637\n",
    "- 數位廢氣只是障眼法 p146\n",
    "- fb 一開始自己想搞 -> 找 google 的傷寒馬力 p.148\n",
    "- 他人目的，資訊抽取指令 p.143\n",
    "- 141 cookie, 監控經濟\n",
    "- 139 從原本服務使用者到監控使用者\n",
    "- 130 從專利看到 google 從使用行為剩餘改善服務 -> 預測使用者點哪個廣告\n"
   ]
  },
  {
   "cell_type": "code",
   "execution_count": null,
   "metadata": {},
   "outputs": [],
   "source": [
    "#ignore\n",
    "-> 那是因為臉書的強大演算法透過搜集大量使用者行為，能夠做到政治學上的精準投放. britter 說這是武器\n",
    "\n",
    "    \n",
    "- 以前說當你凝視深淵，深淵也凝視著你吧。但現在身邊深淵吞噬著你，你卻還不知情\n",
    "    - DKN 的 user log\n",
    "- 不只財富不平等。事實上知識也不平等。監控資本家有所有「關於你」的資料，但那些資料卻不是「為了你」建造的，而是為了其真正的顧客。\n",
    "    而知識的不平等，導致力量以及財富的不平等。\n",
    "- 楚門的世界    \n",
    "\n",
    "\n",
    "- let me google that for you: 象徵權力的轉移：Google 把網路索引了，\n",
    "    而他表現上聲稱這些資料（光明文本）屬於所有人，但事實上是透過這些資料，\n",
    "    獨佔我們的（搜尋）行為數據（影子文本）。但google 跟維基不一樣的地方在於：\n",
    "    每個人的搜結果是不一樣，也就導致每個人認知的現實都不一樣了。而比起問人，你更願意問google,代表知識的權威轉移\n",
    "\n",
    "\n",
    "科技上癮 / 個人化：永不止盡的天堂與地獄\n",
    "- Q: google 會不會某天就不更新服了？不會，而且反過來他只會讓其服務越來越好用，極盡一切可能地讓你在齒輪上轉\n",
    "- 你的注意力，時間也都很重要，但只有「行為」才是真正讓監控資本家賺錢的東西。而在企業內部，為了讓使用者上癮，\n",
    "    我們會想辦法用你之前的行為（剩餘）來改善預測你的行為的模型，提升 engagament metirc, 建立 rabbit holes. \n",
    "    而因爲只有行為才能讓企業賺錢，我們就很自然地將「能讓使用者做出行為」的物品視為跟「使用者相關」的物品，\n",
    "    然後無限制地建出能 model 使用者「興趣」的預測模型，並稱之為個人化. \n",
    "- 全世界只有科技產業跟吸毒稱呼使用者，而非顧客\n",
    "\n",
    "\n",
    "\n",
    "能力越強，責任越大\n",
    "-> 提到 trisatn 對 gmail 的改革\n",
    "-> look in individual. 凱瑟讓我們看到，看到公司的成效數字實際成長（點擊率、瀏覽時間）對一個 DS / MLE 的影響。\n",
    "    但不知道這些實際影響了真實人類的行為. 就像真確說的，我們要看到實際的人類，而不能只看數字。\n",
    "-> 如凱瑟等監控資本家，會找藉口說：最後是他們「自己」做了什麼，但明知道他們透過數據操弄了這些人。\n",
    "-> 我相信身為人類的DS 並不只是 maximum machine. 我們應該決定該 maximize 什麼。了解人類有其 boundary(time, energy)\n",
    "-> 監控是索倫眼，監控資本家是戒靈。我們要摧毀魔戒，只擊倒戒靈是不夠的。我們要克服我們的慾望。 ds / mle  本身甚至就是戒靈：\n",
    "    你們判斷會影響上百萬甚至是上億使用者的生活。能力越強，責任越大。\n",
    "-> 真確。看到數字背後的故事。思考 intention > attention\n",
    "\n",
    "你能做些什麼？\n",
    "- 改善認知：認知到\n",
    "- 黑魔法防禦術：我們需要更多懂不良影響的人加入資料科學\n",
    "- 讀書，看影集\n",
    "- 追蹤有影響力，正向的人\n",
    "    - human center (還可以介紹唐鳳的演說)\n",
    "    - social dilemma / 劍成員\n",
    "- 關掉 notification, 下載 moment 進行 phote 間歇性斷食. focus on important things, podcast\n",
    "    - 數位奶嘴。珍惜獨處的時間。考驗自己的數位依賴。\n",
    "    - 你看到這邊時，出現了多少次 notifications 而你又忍不住開了幾次呢？\n",
    "- 一班人\n",
    "    - 分享出去。自問自答：你了解了解這概念後做的最大改變是什麼？Ａ：寫這篇文章\n",
    "- 工程師\n",
    "- 執法者\n",
    "    - 提到 social 出現的說服科技研討會, 劍承認英國憲法過時\n",
    "    - bcc 的例子。全民監督沒廣告\n",
    "    - 有人認識唐鳳的話幫我轉達給他\n",
    "- 經理人\n",
    "    - better business model. 全世界都會用！\n",
    "\n",
    "結尾\n",
    "- Instructionlim: 不同於極權主義，不像我們在返校看到的，\n",
    "    上層的極權主義讓我們不能看泰戈爾詩集，你現在看得到監視資本主義，但卻已經麻木。因為他給你看所有你想看的東西\n",
    "- 隨機梯度法只是 local minimal, 就跟監控資本現在在真實社會大為成功一樣. 我們可能會進入一個 local maximum, \n",
    "    對監控資本家是天堂，對我們是地獄。\n",
    "- 如果未來就像是 YouTube 影片說的一樣，我們的意識可以被計算，你能想像監控資本主義會怎麽操弄我們來最大化利益呢？\n",
    "- 人類大歷史哈拉瑞跟我說人生之所以強大是因為想像以及彈性；但應用烏托邦要讓大家的想像唯一：如蜂巢一般的確定性，只為監控資本家的利益\n",
    "- 說明合作 / 集體意識的重要。現在監控資本主義是各個擊破我們每個人。當每個人的現實都不一樣時，就很容易操弄了。\n",
    "    而我希望給閱讀這篇文章的人一個一致的現實，想辦法擊倒監控資本主義。台灣只有2300萬人，\n",
    "    但劍橋分析中臉書有8700萬使用者的資料被拿去建模\n",
    "- 新認知革命：意識到我們的 mind 是能被說服的 vs 科學大革命：意識到我們的無知\n",
    "    - hackable human\n",
    "- youtube preimum, netflix:我們已經不缺資訊，更別說大量廣告了\n",
    "- can you think we can do that? A: we have to.\n",
    "- 世界動向\n",
    "    - 聲稱會自我監管的社群網站的權利、德國總理、避風港\n",
    "    - apple 隱私，臉書跳腳\n",
    "    - google 淡化 3party cookies\n",
    "    - whatsapp 隱私 -> telegram\n",
    "- final word\n",
    "    - “Let there be a digital future,” we say, “but let it be a human future first.” \n",
    "\n",
    "temp\n",
    "- 理解 adsense, ad words\n",
    "- 想知道一個人真正的興趣，叫他把 youtube 打開給你看就好了。個人化層度\n",
    "- relevant -> click -> 使用心理學知道怎樣容易點 -> senstational content\n",
    "- 所有 decision RS 都幫你做了\n",
    "- 個人化廣告是因為我想秀少點 ad 給使用者（但同時比較有效）\n",
    "- 監視在 RS paper 裡頭是 track (more user-friendly 因為使用者不用明確輸入)\n",
    "    - moreuser-friendlysinceitworkspassivelyandmakesitpossiblefortheusertoremainignorantofthefactthatfeedbackiscollected.\n",
    "- 檢查所有連結\n",
    "    \n",
    "dcard random\n",
    "- 我出賣我的靈魂\n",
    "- 如果監控資本主義沒了，科技人才的需求會消失嗎？\n",
    "- 我們走得到光譜最左邊嗎？\n",
    "\n",
    "李安\n",
    "- 轉輪 + 胡蘿蔔\n",
    "- google home: 冰山, personalization -> 閹割功能. 最高 priority\n",
    "\n",
    "\n",
    "In an information-rich world, the wealth of information\n",
    "means a dearth \n",
    "of something else: \n",
    "    a scarcity of whatever\n",
    "    it is that information consumes. \n",
    "    What information consumes is rather obvious: \n",
    "        it consumes the attention of its recipients. \n",
    "        Hence a wealth of information creates a\n",
    "        poverty of attention and a need to \n",
    "        allocate that attention efficiently \n",
    "        among the overabundance of information \n",
    "        sources that might consume it.\n",
    "        \n",
    "Simon, H. A. (1971) \"Designing Organizations for an Information-Rich World\" in: \n",
    "    Martin Greenberger, Computers, Communication, and the Public Interest, Baltimore. \n",
    "    MD: The Johns Hopkins Press. pp. 40–41."
   ]
  },
  {
   "cell_type": "code",
   "execution_count": 298,
   "metadata": {},
   "outputs": [],
   "source": [
    "#ignore\n",
    "# CC 創用授權\n",
    "# - thenounproject.com\n",
    "# - pngtree.com\n",
    "# - https://icon-icons.com/\n",
    "# - https://www.psychologistworld.com/"
   ]
  }
 ],
 "metadata": {
  "accelerator": "GPU",
  "colab": {
   "collapsed_sections": [],
   "name": "20200105_pca_blog_post_public.ipynb",
   "provenance": [],
   "toc_visible": true
  },
  "kernelspec": {
   "display_name": "Python 3",
   "language": "python",
   "name": "python3"
  },
  "language_info": {
   "codemirror_mode": {
    "name": "ipython",
    "version": 3
   },
   "file_extension": ".py",
   "mimetype": "text/x-python",
   "name": "python",
   "nbconvert_exporter": "python",
   "pygments_lexer": "ipython3",
   "version": "3.8.0"
  }
 },
 "nbformat": 4,
 "nbformat_minor": 4
}
