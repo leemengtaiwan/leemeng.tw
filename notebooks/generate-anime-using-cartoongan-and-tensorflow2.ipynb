{
 "cells": [
  {
   "cell_type": "markdown",
   "metadata": {},
   "source": [
    "- author: Lee Meng\n",
    "- date: 2019-05-05 02:20\n",
    "- title: 用 CartoonGAN 及 TensorFlow 2 生成新海誠與宮崎駿動畫\n",
    "- slug: generate-anime-using-cartoongan-and-tensorflow2\n",
    "- tags: GAN, TensorFlow, TensorFlow.js\n",
    "- description: 本文展示 3 種可以讓你馬上運用 CartoonGAN 來生成動漫的方法。其中包含了我們的 Github 專案、TensorFlow.js 應用以及一個事先為你準備好的 Colab 筆記本。有興趣的同學還可學習如何利用 TensorFlow 2.0 來訓練自己的專屬 CartoonGAN。\n",
    "- summary: 本文展示 3 種可以讓你馬上運用 CartoonGAN 來生成動漫的方法。其中包含了我們的 Github 專案、TensorFlow.js 應用以及一個事先為你準備好的 Colab 筆記本。有興趣的同學還可學習如何利用 TensorFlow 2.0 來訓練自己的專屬 CartoonGAN。\n",
    "- image: finan-akbar-429027-unsplash-transformed.jpg\n",
    "- image_credit_url: https://unsplash.com/photos/hwLAI5lRhdM?utm_source=unsplash&utm_medium=referral&utm_content=creditCopyText"
   ]
  },
  {
   "cell_type": "code",
   "execution_count": null,
   "metadata": {},
   "outputs": [],
   "source": [
    "#ignore\n",
    "TODO list\n",
    "\n",
    "- 使用訓練過程來產生「生成圖片過程的 gif」，+ 到 README 裡頭\n",
    "- 讀取 generator weights, 看能否產生正確的卡通圖片。轉換成 tfjs model 看手機有沒有問題，速度有沒有改善\n",
    "- 加入 cartoongan 到 blog projects \n",
    "- 修改 README 裡頭 dataset 的說明（testA 裡頭 8 張, bla bla）\n",
    "\n",
    "- 將 tfjs demo 改成中文版\n",
    "- 將 mnicnc 新 train 出來的加入 model option\n",
    "- 解決手機上 tfjs model 會輸出黑圖的 bug\n",
    "- 測試 tfjs model (using constant pad)\n",
    "- 修正使用其他 style / image 且在渲染當下結果前會先顯示上次結果的問題\n",
    "- 改善 gallery style\n",
    "- 記得去 synced 當初那篇介紹文張貼自己文章連結\n",
    "- 修正 tfjs app 在英文版手機上跑版的問題"
   ]
  },
  {
   "cell_type": "code",
   "execution_count": null,
   "metadata": {},
   "outputs": [],
   "source": [
    "#ignore\n",
    "下一個 markdown cell 引入 cartoogan 用的 css"
   ]
  },
  {
   "cell_type": "markdown",
   "metadata": {},
   "source": [
    "<link rel=\"stylesheet\" href=\"{static}tfjs-apps/cartoongan/cartoongan.css\" />"
   ]
  },
  {
   "cell_type": "code",
   "execution_count": null,
   "metadata": {},
   "outputs": [],
   "source": [
    "#ignore\n",
    "CartoonGAN css 引入結束"
   ]
  },
  {
   "cell_type": "markdown",
   "metadata": {},
   "source": [
    "!quote\n",
    "- 如果你能用 AI 為圖片添加新海誠或是宮崎駿等人的動漫風格，你會選擇什麼圖片？"
   ]
  },
  {
   "cell_type": "markdown",
   "metadata": {},
   "source": [
    "這篇文章將簡單介紹最近我與夥伴 [mnicnc404](https://github.com/mnicnc404) 以 [TensorFlow 2.0 Alpha](https://www.tensorflow.org/alpha) 實作的 CartoonGAN（[Github 連結](https://github.com/mnicnc404/CartoonGan-tensorflow)）。我們同時也會展示一個 [TensorFlow.js](https://www.tensorflow.org/js) 應用，讓你可以直接在瀏覽器上產生動漫。\n",
    "\n",
    "[CartoonGAN（原論文）](http://openaccess.thecvf.com/content_cvpr_2018/papers/Chen_CartoonGAN_Generative_Adversarial_CVPR_2018_paper.pdf) 於 2018 [CVPR](http://cvpr2019.thecvf.com/) 推出，是一個嘗試將真實世界圖片轉換成動漫的[對抗生成網路（Generative Adversarial Network，以下簡稱 GAN）](https://youtu.be/yFBFl1cLYx8?list=PLtBw6njQRU-rwp5__7C0oIVt26ZgjG9NI&t=1879)。"
   ]
  },
  {
   "cell_type": "markdown",
   "metadata": {},
   "source": [
    "!mp4\n",
    "- images/cartoongan/cat_cover.mp4\n",
    "- images/cartoongan/cat_cover.jpg\n",
    "- 左上為原圖，其餘三圖則為我們使用 CartoonGAN 將不同動漫風格套用到原圖上的結果"
   ]
  },
  {
   "cell_type": "markdown",
   "metadata": {},
   "source": [
    "當初看到這篇[論文](http://openaccess.thecvf.com/content_cvpr_2018/papers/Chen_CartoonGAN_Generative_Adversarial_CVPR_2018_paper.pdf)覺得很有趣，且裡頭正好展示了我喜愛的兩位日本動畫作家：[新海誠](https://zh.wikipedia.org/wiki/%E6%96%B0%E6%B5%B7%E8%AA%A0)及[宮崎駿](https://zh.wikipedia.org/zh-tw/%E5%AE%AB%E5%B4%8E%E9%AA%8F)的風格轉換結果，因此決定寫個 [TensorFlow.js](https://www.tensorflow.org/js) 應用，讓更多人可以實際體驗這個有趣的 CartoonGAN。\n",
    "\n",
    "使用方法很直覺，選擇風格並上傳照片，完成！"
   ]
  },
  {
   "cell_type": "markdown",
   "metadata": {},
   "source": [
    "!mp4\n",
    "- images/cartoongan/tfjs-demo.mp4"
   ]
  },
  {
   "cell_type": "markdown",
   "metadata": {},
   "source": [
    "TensorFlow.js 在瀏覽器裡運行，其背後處理主要分為兩個步驟：\n",
    "- 下載模型\n",
    "- 轉換圖片\n",
    "\n",
    "因手機的運算能力有限，強烈建議：\n",
    "- 使用桌筆電等**計算能力**強的設備開啟本頁面\n",
    "- 並在網速快的環境測試（減少**載入模型**時間）"
   ]
  },
  {
   "cell_type": "markdown",
   "metadata": {},
   "source": [
    "## 動手玩 CartoonGAN"
   ]
  },
  {
   "cell_type": "markdown",
   "metadata": {},
   "source": [
    "以下就是實際的應用："
   ]
  },
  {
   "cell_type": "code",
   "execution_count": null,
   "metadata": {},
   "outputs": [],
   "source": [
    "#ignore\n",
    "cartoongan demo input / output 開始"
   ]
  },
  {
   "cell_type": "markdown",
   "metadata": {},
   "source": [
    "<div id=\"container\" class=\"row\">\n",
    "    <div class=\"column50\">\n",
    "        <div>\n",
    "            <img id=\"input\" class=\"cartoongan_image\" src=\"{static}tfjs-apps/cartoongan/cat.png\"/>\n",
    "        </div>\n",
    "    </div>\n",
    "    <div class=\"column50\">\n",
    "        <div>\n",
    "            <img id=\"pregenerated_output\" class=\"cartoongan_image\" src=\"{static}tfjs-apps/cartoongan/cat_shinkai.jpg\"/>\n",
    "            <canvas id=\"output\" style=\"display:none\"></canvas>\n",
    "        </div> \n",
    "        <div id=\"app-status\" style=\"display:none;padding:70px 0\"></div>\n",
    "    </div> \n",
    "</div>\n",
    "<div class=\"row\" style=\"margin-bottom:6rem;\">\n",
    "    <div class=\"column50\">\n",
    "        <label class=\"btn\" style=\"margin-top: 2rem;height: 3rem;line-height:2.8rem;color:white;padding: 0 1rem\">\n",
    "            選擇圖片\n",
    "            <input type=\"file\" id=\"files\" name=\"files[]\" multiple=\"\" style=\"display:none\">\n",
    "        </label>\n",
    "    </div> \n",
    "    <div class=\"column50\">\n",
    "        <select id=\"styles\" name=\"styles\" style=\"margin: auto;display: block;margin-top: 0.8rem\">\n",
    "            <option value=\"shinkai\" selected=\"selected\"><b>新海誠</b>風格</option>\n",
    "            <option value=\"hayao\"><b>宮崎駿</b>風格</option>\n",
    "            <option value=\"hosoda\"><b>細田守</b>風格</option>\n",
    "            <option value=\"paprika\"><b>盜夢偵探</b>風格</option>\n",
    "        </select>\n",
    "    </div> \n",
    "</div>"
   ]
  },
  {
   "cell_type": "code",
   "execution_count": null,
   "metadata": {},
   "outputs": [],
   "source": [
    "#ignore\n",
    "cartoongan demo input / output 結束"
   ]
  },
  {
   "cell_type": "markdown",
   "metadata": {},
   "source": [
    "結果出來了嗎？如果上傳圖片後一直停在：\n",
    "\n",
    "- `Loading Models`：代表仍在下載模型\n",
    "- `Cartoonizing images`：代表設備運算資源的不足\n",
    "\n",
    "也先別走開！你可以使用下一節介紹的方法來生成動漫，保證有效。"
   ]
  },
  {
   "cell_type": "markdown",
   "metadata": {},
   "source": [
    "## TensorFlow 2 畫動漫"
   ]
  },
  {
   "cell_type": "markdown",
   "metadata": {},
   "source": [
    "適逢 [PoweredByTF 2.0 挑戰](https://tensorflow.devpost.com/)，我們也用 TensorFlow 2.0 Alpha 完整地實作了 CartoonGAN 的訓練以及推論邏輯。如果你想要轉換大張圖片或是動圖，可以執行[這個 Colab 筆記本](https://colab.research.google.com/drive/1WIZBHix_cYIGsBKa4phIwCq5qXwO8fRX)： "
   ]
  },
  {
   "cell_type": "markdown",
   "metadata": {},
   "source": [
    "!mp4\n",
    "- images/cartoongan/colab-demo.mp4\n",
    "- images/cartoongan/colab-demo.jpg\n",
    "- 執行我們準備的 Colab 筆記本可以讓你用 CartoonGAN 轉換任何圖片（上圖顯示該筆記本的部分內容）"
   ]
  },
  {
   "cell_type": "markdown",
   "metadata": {},
   "source": [
    "[Google Colaboratory](https://colab.research.google.com/) 是一個雲端 [Jupyter 筆記本](https://jupyter.org/)環境，提供 GPU 讓任何人都可以立即開始一個深度學習專案。\n",
    "\n",
    "在[這個筆記本](https://colab.research.google.com/drive/1WIZBHix_cYIGsBKa4phIwCq5qXwO8fRX)裡頭，以下步驟都幫你寫好了：\n",
    "1. 建置 TensorFlow 2.0 環境\n",
    "2. 下載[我們的 Github 專案及預訓練模型](https://github.com/mnicnc404/CartoonGan-tensorflow)\n",
    "3. 下載任意網路圖片 / gif\n",
    "4. 使用 CartoonGAN 轉換圖片\n",
    "\n",
    "你只需打開筆記本並依照指示一步步執行，即可為你的圖片添加動漫風格。"
   ]
  },
  {
   "cell_type": "markdown",
   "metadata": {},
   "source": [
    "## 一些轉換後的動漫結果"
   ]
  },
  {
   "cell_type": "markdown",
   "metadata": {},
   "source": [
    "獨樂樂不如眾樂樂。這一節和你分享一些我們用 CartoonGAN 得到的結果。\n",
    "\n",
    "以下每張圖片都分為四個區塊，從左到右、由上而下分別為：\n",
    "- 原始圖片\n",
    "- [新海誠](https://zh.wikipedia.org/wiki/%E6%96%B0%E6%B5%B7%E8%AA%A0)風格\n",
    "- [宮崎駿](https://zh.wikipedia.org/zh-tw/%E5%AE%AB%E5%B4%8E%E9%AA%8F)風格\n",
    "- [細田守](https://zh.wikipedia.org/wiki/%E7%B4%B0%E7%94%B0%E5%AE%88)風格\n",
    "\n",
    "點擊下圖左右兩側的小箭頭可以切換不同圖片："
   ]
  },
  {
   "cell_type": "code",
   "execution_count": null,
   "metadata": {},
   "outputs": [],
   "source": [
    "#ignore\n",
    "Gallery 的 CSS / JS / HTML "
   ]
  },
  {
   "cell_type": "markdown",
   "metadata": {},
   "source": [
    "<style>\n",
    "<!-- https://www.w3schools.com/w3css/w3css_slideshow.asp -->\n",
    ".w3-content,\n",
    ".w3-auto {\n",
    "\tmargin-left: auto;\n",
    "\tmargin-right: auto\n",
    "}\n",
    "\n",
    ".w3-content {\n",
    "\tmax-width: 980px\n",
    "}\n",
    "\n",
    ".w3-display-container:hover .w3-display-hover {\n",
    "\tdisplay: block\n",
    "}\n",
    "\n",
    ".w3-display-container:hover span.w3-display-hover {\n",
    "\tdisplay: inline-block\n",
    "}\n",
    "\n",
    ".w3-display-container {\n",
    "\tposition: relative\n",
    "}\n",
    "\n",
    ".w3-button:hover {\n",
    "\tcolor: #000!important;\n",
    "\tbackground-color: inherit;\n",
    "}\n",
    "\n",
    ".w3-button {\n",
    "\tborder: none;\n",
    "\tdisplay: inline-block;\n",
    "\tpadding: 8px 16px;\n",
    "\tvertical-align: middle;\n",
    "\toverflow: hidden;\n",
    "\ttext-decoration: none;\n",
    "\tcolor: inherit;\n",
    "\tbackground-color: inherit;\n",
    "\ttext-align: center;\n",
    "\tcursor: pointer;\n",
    "\twhite-space: nowrap\n",
    "}\n",
    "\n",
    ".w3-button {\n",
    "\t-webkit-touch-callout: none;\n",
    "\t-webkit-user-select: none;\n",
    "\t-khtml-user-select: none;\n",
    "\t-moz-user-select: none;\n",
    "\t-ms-user-select: none;\n",
    "\tuser-select: none\n",
    "}\n",
    "\n",
    ".w3-button:disabled {\n",
    "\tcursor: not-allowed;\n",
    "\topacity: 0.3\n",
    "}\n",
    "\n",
    ".w3-display-left {\n",
    "\tposition: absolute;\n",
    "\ttop: 50%;\n",
    "\tleft: 0%;\n",
    "\ttransform: translate(0%, -50%);\n",
    "\t-ms-transform: translate(-0%, -50%)\n",
    "}\n",
    "\n",
    ".w3-display-right {\n",
    "\tposition: absolute;\n",
    "\ttop: 50%;\n",
    "\tright: 0%;\n",
    "\ttransform: translate(0%, -50%);\n",
    "\t-ms-transform: translate(0%, -50%)\n",
    "}\n",
    "    \n",
    ".mySlides {display:none;}\n",
    "</style>\n",
    "\n",
    "<div class=\"w3-content w3-display-container\">\n",
    "  <video class=\"mySlides\" loop muted autoplay playsinline style=\"width:100%\">\n",
    "      <source src=\"{static}images/cartoongan/gallery/dance.mp4\" type=\"video/mp4\">\n",
    "        您的瀏覽器不支援影片標籤，請留言通知我：S\n",
    "  </video>\n",
    "  \n",
    "  <!--marvel-->\n",
    "  <video class=\"mySlides\" loop muted autoplay playsinline style=\"width:100%\">\n",
    "      <source src=\"{static}images/cartoongan/gallery/iron-man-face.mp4\" type=\"video/mp4\">\n",
    "        您的瀏覽器不支援影片標籤，請留言通知我：S\n",
    "  </video>\n",
    "  <video class=\"mySlides\" loop muted autoplay playsinline style=\"width:100%\">\n",
    "      <source src=\"{static}images/cartoongan/gallery/iron-man.mp4\" type=\"video/mp4\">\n",
    "        您的瀏覽器不支援影片標籤，請留言通知我：S\n",
    "  </video>\n",
    "\n",
    "  <img class=\"mySlides\" src=\"{static}images/cartoongan/gallery/static-woman-face.jpg\" style=\"width:100%\">\n",
    "  <img class=\"mySlides\" src=\"{static}images/cartoongan/gallery/static-temple.jpg\" style=\"width:100%\">\n",
    "  \n",
    "  <!--cat-->\n",
    "  <video class=\"mySlides\" loop muted autoplay playsinline style=\"width:100%\">\n",
    "      <source src=\"{static}images/cartoongan/gallery/cat-shake-meme.mp4\" type=\"video/mp4\">\n",
    "        您的瀏覽器不支援影片標籤，請留言通知我：S\n",
    "  </video>\n",
    "  <video class=\"mySlides\" loop muted autoplay playsinline style=\"width:100%\">\n",
    "      <source src=\"{static}images/cartoongan/gallery/cat-being-poked.mp4\" type=\"video/mp4\">\n",
    "        您的瀏覽器不支援影片標籤，請留言通知我：S\n",
    "  </video>\n",
    "  <video class=\"mySlides\" loop muted autoplay playsinline style=\"width:100%\">\n",
    "      <source src=\"{static}images/cartoongan/gallery/cat-computer.mp4\" type=\"video/mp4\">\n",
    "        您的瀏覽器不支援影片標籤，請留言通知我：S\n",
    "  </video>\n",
    "  \n",
    "  <!--scenary-->\n",
    "  <video class=\"mySlides\" loop muted autoplay playsinline style=\"width:100%\">\n",
    "      <source src=\"{static}images/cartoongan/gallery/big-ben.mp4\" type=\"video/mp4\">\n",
    "        您的瀏覽器不支援影片標籤，請留言通知我：S\n",
    "  </video>\n",
    "  <video class=\"mySlides\" loop muted autoplay playsinline style=\"width:100%\">\n",
    "      <source src=\"{static}images/cartoongan/gallery/city-street.mp4\" type=\"video/mp4\">\n",
    "        您的瀏覽器不支援影片標籤，請留言通知我：S\n",
    "  </video>\n",
    "  <video class=\"mySlides\" loop muted autoplay playsinline style=\"width:100%\">\n",
    "      <source src=\"{static}images/cartoongan/gallery/church.mp4\" type=\"video/mp4\">\n",
    "        您的瀏覽器不支援影片標籤，請留言通知我：S\n",
    "  </video>\n",
    "  \n",
    "  <!--idol-->\n",
    "  <video class=\"mySlides\" loop muted autoplay playsinline style=\"width:100%\">\n",
    "      <source src=\"{static}images/cartoongan/gallery/demo.mp4\" type=\"video/mp4\">\n",
    "        您的瀏覽器不支援影片標籤，請留言通知我：S\n",
    "  </video>\n",
    "  <video class=\"mySlides\" loop muted autoplay playsinline style=\"width:100%\">\n",
    "      <source src=\"{static}images/cartoongan/gallery/arakaki.mp4\" type=\"video/mp4\">\n",
    "        您的瀏覽器不支援影片標籤，請留言通知我：S\n",
    "  </video>\n",
    "  \n",
    "  <video class=\"mySlides\" loop muted autoplay playsinline style=\"width:100%\">\n",
    "      <source src=\"{static}images/cartoongan/gallery/harry-potter.mp4\" type=\"video/mp4\">\n",
    "        您的瀏覽器不支援影片標籤，請留言通知我：S\n",
    "  </video>\n",
    "  \n",
    "  <!--virtual character-->\n",
    "  <video class=\"mySlides\" loop muted autoplay playsinline style=\"width:100%\">\n",
    "      <source src=\"{static}images/cartoongan/gallery/pikachu.mp4\" type=\"video/mp4\">\n",
    "        您的瀏覽器不支援影片標籤，請留言通知我：S\n",
    "  </video>\n",
    "  <video class=\"mySlides\" loop muted autoplay playsinline style=\"width:100%\">\n",
    "      <source src=\"{static}images/cartoongan/gallery/kumamon.mp4\" type=\"video/mp4\">\n",
    "        您的瀏覽器不支援影片標籤，請留言通知我：S\n",
    "  </video>\n",
    "\n",
    "  <button class=\"w3-button w3-black w3-display-left\" onclick=\"plusDivs(-1)\">&#10094;</button>\n",
    "  <button class=\"w3-button w3-black w3-display-right\" onclick=\"plusDivs(1)\">&#10095;</button>\n",
    "</div>\n",
    "\n",
    "<script>\n",
    "var slideIndex = 1;\n",
    "showDivs(slideIndex);\n",
    "\n",
    "function plusDivs(n) {\n",
    "  showDivs(slideIndex += n);\n",
    "}\n",
    "\n",
    "function showDivs(n) {\n",
    "  var i;\n",
    "  var x = document.getElementsByClassName(\"mySlides\");\n",
    "  if (n > x.length) {slideIndex = 1}\n",
    "  if (n < 1) {slideIndex = x.length}\n",
    "  for (i = 0; i < x.length; i++) {\n",
    "    x[i].style.display = \"none\";  \n",
    "  }\n",
    "  x[slideIndex-1].style.display = \"block\";  \n",
    "}\n",
    "</script>"
   ]
  },
  {
   "cell_type": "code",
   "execution_count": null,
   "metadata": {},
   "outputs": [],
   "source": [
    "#ignore\n",
    "完成 rendering gallery"
   ]
  },
  {
   "cell_type": "markdown",
   "metadata": {},
   "source": [
    "<br>\n",
    "\n",
    "從漫威電影到可愛貓咪，從自然風景到人氣偶像，任何你想得到的圖片都可以拿來進行轉換。一旦訓練完成，我們就能使用 CartoonGAN 在彈指之間將各式各樣的圖片跟動漫做連結。\n",
    "\n",
    "在[我們的 Github 專案](https://github.com/mnicnc404/CartoonGan-tensorflow)裡頭，你甚至只需要執行一個指令就能取得上面展示的結果：\n",
    "\n",
    "```bash\n",
    "python cartoonize.py \\\n",
    "    --styles shinkai hayao hosoda\n",
    "```\n",
    "\n",
    "當然，接下來數年類似應用的效果會更加卓越。未來誰都能用這些 apps 來創造自己的動漫，而動漫作家可以據此更快速地畫出草稿、測試新點子。"
   ]
  },
  {
   "cell_type": "markdown",
   "metadata": {},
   "source": [
    "!quote\n",
    "- 如 CartoonGAN 這樣的生成模型能讓我們看到未來更多的可能性。"
   ]
  },
  {
   "cell_type": "markdown",
   "metadata": {},
   "source": [
    "順帶一提，我們在[讓 AI 寫點金庸：如何用 TensorFlow 2.0 及 TensorFlow.js 寫天龍八部](https://leemeng.tw/how-to-generate-interesting-text-with-tensorflow2-and-tensorflow-js.html)也已經看過類似的概念。只是在該篇裡頭，我們是讓機器生成武俠小說而非動漫圖片。"
   ]
  },
  {
   "cell_type": "markdown",
   "metadata": {},
   "source": [
    "## 訓練你自己的 CartoonGAN"
   ]
  },
  {
   "cell_type": "markdown",
   "metadata": {},
   "source": [
    "你可能發現本文非常注重在 CartoonGAN 的實際應用而非演算法細節。這是因為：\n",
    "\n",
    "- 比起[論文細節](http://openaccess.thecvf.com/content_cvpr_2018/papers/Chen_CartoonGAN_Generative_Adversarial_CVPR_2018_paper.pdf)，多數人應該都對如何生成有趣的動漫比較感興趣\n",
    "- 網上已有不少 [CartoonGAN 的介紹文章以及 GAN 的學習資源](#推薦的-GAN-學習資源)"
   ]
  },
  {
   "cell_type": "markdown",
   "metadata": {},
   "source": [
    "對 CartoonGAN 的實作細節有興趣的讀者可以參考[我們的 Github 專案](https://github.com/mnicnc404/CartoonGan-tensorflow)。基本上只要依照指示裝好開發環境以及準備好資料集，你甚至可以一鍵訓練 CartoonGAN："
   ]
  },
  {
   "cell_type": "markdown",
   "metadata": {},
   "source": [
    "!image\n",
    "- cartoongan/train-demo.gif\n",
    "- 我們的 Python 腳本提供了詳盡訊息，方便你理解訓練過程究竟發生了什麼事情"
   ]
  },
  {
   "cell_type": "markdown",
   "metadata": {},
   "source": [
    "因為所有邏輯皆以 [TensorFlow 2.0 Alpha](https://www.tensorflow.org/alpha) 實作，非常適合想要跟上最新 TensorFlow 發展的讀者學習：\n",
    "- 使用 [tf.keras](https://www.tensorflow.org/alpha/guide/keras/overview) 實作 Layers 以及 GAN\n",
    "- 使用 [tf.data](https://www.tensorflow.org/alpha/guide/data_performance) 讀取大量圖片並進行前處理\n",
    "- 寫訓練邏輯並使用 [tf.function](https://youtu.be/Up9CvRLIIIw?list=PLQY2H8rRoyvzoUYI26kHmKSJBedn3SQuB) 加快處理速度\n",
    "- 使用 [TensorBoard](https://www.tensorflow.org/tensorboard/r2/get_started#using_tensorboard_with_other_methods\n",
    ") 來即時觀測模型表現"
   ]
  },
  {
   "cell_type": "markdown",
   "metadata": {},
   "source": [
    "訓練 GAN 本身並不是一件非常容易的事情。你會需要時時觀察模型的表現以評估如何調整超參數。因此我們的[訓練腳本](https://github.com/mnicnc404/CartoonGan-tensorflow/blob/master/train.py)也整合了 [TensorBoard](https://www.tensorflow.org/tensorboard/r2/get_started#using_tensorboard_with_other_methods\n",
    ")，讓你可以在執行後即時地監控模型表現："
   ]
  },
  {
   "cell_type": "markdown",
   "metadata": {},
   "source": [
    "!image\n",
    "- cartoongan/tensorboard-metrics.jpg\n",
    "- 我們訓練 CartoonGAN 的其中一次實際結果"
   ]
  },
  {
   "cell_type": "markdown",
   "metadata": {},
   "source": [
    "除了指標與損失函數以外，在訓練 GAN 的過程中觀察模型生成的圖片也是一件非常重要的事情。因此我們也將 CartoonGAN 生成的圖片寫入 TensorBoard 以方便你觀測比較："
   ]
  },
  {
   "cell_type": "markdown",
   "metadata": {},
   "source": [
    "!image\n",
    "- cartoongan/tensorboard-image-demo.jpg\n",
    "- 在腳本執行的過程中可以直接在 TensorBoard 上觀察 CartoonGAN 當下生成的圖片"
   ]
  },
  {
   "cell_type": "markdown",
   "metadata": {},
   "source": [
    "雖然我們只紀錄專屬於 CartoonGAN 的指標以及生成圖片，你完全可以運用類似的方法來監測任何想要訓練的模型。\n",
    "\n",
    "最後，為了方便了解 CartoonGAN 在訓練過程的表現，我們可以事先存一組真實世界的圖片當作驗證集（Validation Set），並固定讓模型在訓練一段時間後都試著將其轉換成動漫。\n",
    "\n",
    "我們可以用驗證集的轉換結果來評估模型在當下的表現。將這些圖片依時間排序後可以得到這樣的結果："
   ]
  },
  {
   "cell_type": "markdown",
   "metadata": {},
   "source": [
    "!mp4\n",
    "- images/cartoongan/training_progress.mp4\n",
    "- images/cartoongan/training_progress.jpg\n",
    "- CartoonGAN 學習將真實世界圖片轉換為動漫的過程"
   ]
  },
  {
   "cell_type": "markdown",
   "metadata": {},
   "source": [
    "儘管尚未訓練完成，你可以看到模型逐漸學會將原始圖片轉換成簡單的動漫：線條變得清晰、顏色變得平滑。\n",
    "\n",
    "跟訓練一個[簡單分類器](https://www.tensorflow.org/tutorials/keras/basic_classification)比起來，訓練一個 GAN 的難度可說是完全不同級別。但我們盡量讓[ Github 專案](https://github.com/mnicnc404/CartoonGan-tensorflow)裡頭的程式碼邏輯簡單易懂，希望能讓更多人入門 TensorFlow 2.0 以及 GAN 的實作。\n",
    "\n",
    "當然，具備理論基礎能讓你更容易理解 TensorFlow 2 的程式碼。下節將列出推薦的學習資源供你參考。"
   ]
  },
  {
   "cell_type": "markdown",
   "metadata": {},
   "source": [
    "## 推薦的 GAN 學習資源"
   ]
  },
  {
   "cell_type": "markdown",
   "metadata": {},
   "source": [
    "近年以深度學習為基礎的生成模型（Generative Models）領域蓬勃發展，其中最亮眼的發展之一當屬對抗生成網路了。而本文的 CartoonGAN 也是[眾多 GANs](https://github.com/hindupuravinash/the-gan-zoo) 裡頭的其中一個小夥子。"
   ]
  },
  {
   "cell_type": "markdown",
   "metadata": {},
   "source": [
    "!image\n",
    "- cartoongan/tf-dcgan.png\n",
    "- 對抗生成網路 GAN 實際上由兩個獨立的神經網路相互「對抗」\n",
    "- https://www.tensorflow.org/alpha/tutorials/generative/dcgan"
   ]
  },
  {
   "cell_type": "markdown",
   "metadata": {},
   "source": [
    "對 GAN 的理論 & 基礎知識有興趣的讀者，我推薦以下的學習資源：\n",
    "\n",
    "- [李宏毅教授在 Youtube 上的 GAN 教學影片](https://www.youtube.com/watch?v=DQNNMiAP5lw&list=PLJV_el3uVTsMq6JEFPW35BCiOQTsoqwNw)\n",
    "- [MIT 6.S191 的 Deep Generative Models](https://www.youtube.com/watch?v=yFBFl1cLYx8&index=1&list=PLtBw6njQRU-rwp5__7C0oIVt26ZgjG9NI)\n",
    "- [GAN Lab 讓你在瀏覽器上訓練並學習 GAN](https://poloclub.github.io/ganlab/)\n",
    "- [Andrej Karpathy 的簡單 GAN Demo](https://cs.stanford.edu/people/karpathy/gan/)\n",
    "- [TensorFlow 官方教學帶你生成 MNIST](https://www.tensorflow.org/alpha/tutorials/generative/dcgan)\n",
    "- [機器之心講解 CartoonGAN 運作原理](https://www.jiqizhixin.com/articles/CVPR2018-CartoonGAN)\n",
    "- [Synced: Reproducing Japanese Anime Styles With CartoonGAN AI](https://medium.com/syncedreview/reproducing-japanese-anime-styles-with-cartoongan-ai-cf30d583736e)\n",
    "- [Open Questions about Generative Adversarial Networks](https://distill.pub/2019/gan-open-problems/)"
   ]
  },
  {
   "cell_type": "markdown",
   "metadata": {},
   "source": [
    "!image\n",
    "- cartoongan/mit-gan.png\n",
    "- MIT 6.S191 的 Deep Generative Models 適合入門\n",
    "- https://www.youtube.com/watch?v=yFBFl1cLYx8&index=1&list=PLtBw6njQRU-rwp5__7C0oIVt26ZgjG9NI"
   ]
  },
  {
   "cell_type": "markdown",
   "metadata": {},
   "source": [
    "生成模型及 GAN 的研究領域博大精深，但我相信參考過以上資源，你將具備實作一個簡單 GAN 所需的基礎知識。\n",
    "\n",
    "更多學習資源則請參閱[由淺入深的深度學習資源整理](https://leemeng.tw/deep-learning-resources.html)。另外如果你有其他推薦的學習資源，還請不吝留言與我及其他讀者分享，謝謝！"
   ]
  },
  {
   "cell_type": "markdown",
   "metadata": {},
   "source": [
    "## 結語"
   ]
  },
  {
   "cell_type": "markdown",
   "metadata": {},
   "source": [
    "!quote\n",
    "- 要讓深度學習、人工智慧等研究與應用的發展加快，我們應該想辦法先讓更多人實際體驗其應用，進而理解其運作原理，最後參與其中。"
   ]
  },
  {
   "cell_type": "markdown",
   "metadata": {},
   "source": [
    "以 CartoonGAN 為例，本文先專注在**如何讓每個人都能實際體驗並應用此技術**，接著才簡單介紹讀者可以如何使用[我們的 Github 專案](https://github.com/mnicnc404/CartoonGan-tensorflow)來訓練自己的模型。最後我也附上了一些實用的學習資源供對背後原理有興趣的讀者做些參考。\n",
    "\n",
    "這是我第一次用 [TensorFlow 2.0](https://www.tensorflow.org/alpha) 以及 [TensorFlow.js](https://www.tensorflow.org/js) 實作 GAN，感謝 CartoonGAN 原作者的研究、TensorFlow / TensorFlow.js 團隊的努力、夥伴 [mnicnc404](https://github.com/mnicnc404) 強大的實作支援以及許多寶貴見解，獲益良多。"
   ]
  },
  {
   "cell_type": "markdown",
   "metadata": {},
   "source": [
    "希望透過此文能讓更多人進一步探索 GAN 以及生成模型的相關知識，嘗試更多新的可能性，做出更多有趣的 AI 應用。\n",
    "\n",
    "也別忘了跟我分享你生成的動漫！你可以在 [Twitter](https://twitter.com/leemengtw) 或是 [Facebook](https://www.facebook.com/LeeMengTaiwan) 上標註我：）"
   ]
  },
  {
   "cell_type": "code",
   "execution_count": null,
   "metadata": {},
   "outputs": [],
   "source": [
    "#ignore\n",
    "tfjs setup in next markdown cell"
   ]
  },
  {
   "cell_type": "markdown",
   "metadata": {},
   "source": [
    "<script src=\"{static}tfjs-apps/cartoongan/dist/tf.js\"></script>\n",
    "<script src=\"{static}tfjs-apps/cartoongan/cartoongan.js\"></script>"
   ]
  },
  {
   "cell_type": "code",
   "execution_count": null,
   "metadata": {},
   "outputs": [],
   "source": [
    "#ignore\n",
    "tfjs 引入完畢"
   ]
  }
 ],
 "metadata": {
  "kernelspec": {
   "display_name": "Python 3",
   "language": "python",
   "name": "python3"
  },
  "language_info": {
   "codemirror_mode": {
    "name": "ipython",
    "version": 3
   },
   "file_extension": ".py",
   "mimetype": "text/x-python",
   "name": "python",
   "nbconvert_exporter": "python",
   "pygments_lexer": "ipython3",
   "version": "3.7.2"
  }
 },
 "nbformat": 4,
 "nbformat_minor": 2
}
