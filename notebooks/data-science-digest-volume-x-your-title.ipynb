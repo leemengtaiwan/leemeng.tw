{
 "cells": [
  {
   "cell_type": "markdown",
   "metadata": {
    "pycharm": {
     "name": "#%% md\n"
    }
   },
   "source": [
    "- author: Lee Meng\n",
    "- date: 2018-09-17 08:00\n",
    "- title: 資料科學文摘 Vol.X TITLE HERE\n",
    "- slug: data-science-digest-volume-x-your-title\n",
    "- tags: 文摘, 資料科學\n",
    "- description: YOUR DESCRIPTION\n",
    "- summary: YOUR DESCRIPTION\n",
    "- image: glenn-carstens-peters-204767-unsplash.jpg\n",
    "- image_credit_url: https://unsplash.com/photos/0woyPEJQ7jc?utm_source=unsplash&utm_medium=referral&utm_content=creditCopyText\n",
    "- status: draft"
   ]
  },
  {
   "cell_type": "markdown",
   "metadata": {
    "pycharm": {
     "name": "#%% md\n"
    }
   },
   "source": [
    "前言"
   ]
  },
  {
   "cell_type": "markdown",
   "metadata": {
    "pycharm": {
     "name": "#%% md\n"
    }
   },
   "source": [
    "## 本週閱讀清單\n",
    "- [](#)\n"
   ]
  },
  {
   "cell_type": "markdown",
   "metadata": {
    "pycharm": {
     "name": "#%% md\n"
    }
   },
   "source": [
    "!article\n",
    "- Data visualisation, from 1987 to today\n",
    "- https://medium.economist.com/data-visualisation-from-1987-to-today-65d0609c6017\n",
    "- leroy-stencil-set.jpg"
   ]
  },
  {
   "cell_type": "markdown",
   "metadata": {
    "pycharm": {
     "name": "#%% md\n"
    }
   },
   "source": [
    "## <a name=\"ending\"></a>結語\n"
   ]
  }
 ],
 "metadata": {
  "kernelspec": {
   "display_name": "Python 3",
   "language": "python",
   "name": "python3"
  },
  "language_info": {
   "codemirror_mode": {
    "name": "ipython",
    "version": 3
   },
   "file_extension": ".py",
   "mimetype": "text/x-python",
   "name": "python",
   "nbconvert_exporter": "python",
   "pygments_lexer": "ipython3",
   "version": "3.7.0"
  }
 },
 "nbformat": 4,
 "nbformat_minor": 2
}